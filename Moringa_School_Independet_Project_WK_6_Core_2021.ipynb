{
  "nbformat": 4,
  "nbformat_minor": 0,
  "metadata": {
    "colab": {
      "name": "Moringa_School_Independet_Project_WK_6_Core_2021",
      "provenance": [],
      "collapsed_sections": []
    },
    "kernelspec": {
      "name": "python3",
      "display_name": "Python 3"
    },
    "language_info": {
      "name": "python"
    }
  },
  "cells": [
    {
      "cell_type": "markdown",
      "metadata": {
        "id": "2C6uQiABFuZp"
      },
      "source": [
        "# **Prediction of Football matches**"
      ]
    },
    {
      "cell_type": "markdown",
      "metadata": {
        "id": "c_wjOjh3FRad"
      },
      "source": [
        "## **Overview**\n",
        "You have been recruited as a football analyst in a company - Mchezopesa Ltd and tasked to accomplish the task below.\n",
        "\n",
        "A prediction result of a game between team 1 and team 2, based on who's home and who's away, and on whether or not the game is friendly (include rank in your training).\n",
        "\n",
        "You have two possible approaches (as  shown below) given the datasets that will be provided\n",
        "\n",
        "Input: Home team, Away team, Tournament type (World cup, Friendly, Other)"
      ]
    },
    {
      "cell_type": "markdown",
      "metadata": {
        "id": "UywiMvd5Gk4Z"
      },
      "source": [
        "### **Defining the question**\n",
        "\n",
        "1.Predict the number of goals scored by the home team.\n",
        "\n",
        "2.Predict the number of goals scored by the away team.\n",
        "\n",
        "3.Predict the outcome of a football match between team 1 and team 2."
      ]
    },
    {
      "cell_type": "markdown",
      "metadata": {
        "id": "YP04A2IzM7bZ"
      },
      "source": [
        "### **Metric of Succcess**\n",
        "\n",
        "1.A polynomial regression model that predicts the number of goals scored by the home team with above 50% accuracy.\n",
        "\n",
        "2.A polynomial regression model that predicts the number of goals scored by the away team with an accuracy of above 50%.\n",
        "\n",
        "3.A logistic regression model that predicts the outcome of a football match between team 1 and team 2.\n",
        "\n",
        "4.Quantile, lasso and ridge regression models that predict the outcome of a football match.\n"
      ]
    },
    {
      "cell_type": "markdown",
      "metadata": {
        "id": "yIzD-YQJNpUt"
      },
      "source": [
        "###**Context**\n",
        "\n",
        "We are given the dataset to help us understand and predict number of goals scored by the home team and the number of goals scored by the away team."
      ]
    },
    {
      "cell_type": "markdown",
      "metadata": {
        "id": "29nWZ4_lPTBG"
      },
      "source": [
        "### **Experimental Design**\n",
        "\n",
        "I will use the CRISP-DM methodology to tackle this question.Here is the flow:\n",
        "1.Problem Understanding\n",
        "\n",
        "2.Data Understanding\n",
        "\n",
        "3.Data Preparation\n",
        "\n",
        "4.Modelling\n",
        "\n",
        "5.Evaluation"
      ]
    },
    {
      "cell_type": "markdown",
      "metadata": {
        "id": "-Ilt_9RtRbK7"
      },
      "source": [
        "## ***Importing the Libraries***\n"
      ]
    },
    {
      "cell_type": "code",
      "metadata": {
        "id": "iIepqVTKR1aq"
      },
      "source": [
        "#Ill first import the necessary libraries for this dataset\n",
        "import pandas as pd\n",
        "import numpy as np\n",
        "import seaborn as sns\n",
        "import matplotlib.pyplot as plt\n",
        "import datetime\n",
        "import statsmodels.api as sm\n",
        "import statsmodels.formula.api as smf\n",
        "from sklearn.preprocessing import PolynomialFeatures\n",
        "from sklearn.linear_model import LinearRegression, LogisticRegression, Ridge, Lasso\n",
        "from sklearn.metrics import r2_score, mean_squared_error, accuracy_score, confusion_matrix\n",
        "from sklearn.model_selection import train_test_split, KFold, cross_val_score, GridSearchCV\n",
        "import warnings\n",
        "warnings.filterwarnings('ignore')"
      ],
      "execution_count": 4,
      "outputs": []
    },
    {
      "cell_type": "code",
      "metadata": {
        "colab": {
          "base_uri": "https://localhost:8080/",
          "height": 224
        },
        "id": "_8TOslQQSKjO",
        "outputId": "cebfb2c7-0798-43ab-f6f2-5a19d034355b"
      },
      "source": [
        "#ILl then load the dataset\n",
        "df_1 = pd.read_csv(\"/content/fifa_ranking.csv\")\n",
        "df_1.head()"
      ],
      "execution_count": 5,
      "outputs": [
        {
          "output_type": "execute_result",
          "data": {
            "text/html": [
              "<div>\n",
              "<style scoped>\n",
              "    .dataframe tbody tr th:only-of-type {\n",
              "        vertical-align: middle;\n",
              "    }\n",
              "\n",
              "    .dataframe tbody tr th {\n",
              "        vertical-align: top;\n",
              "    }\n",
              "\n",
              "    .dataframe thead th {\n",
              "        text-align: right;\n",
              "    }\n",
              "</style>\n",
              "<table border=\"1\" class=\"dataframe\">\n",
              "  <thead>\n",
              "    <tr style=\"text-align: right;\">\n",
              "      <th></th>\n",
              "      <th>rank</th>\n",
              "      <th>country_full</th>\n",
              "      <th>country_abrv</th>\n",
              "      <th>total_points</th>\n",
              "      <th>previous_points</th>\n",
              "      <th>rank_change</th>\n",
              "      <th>cur_year_avg</th>\n",
              "      <th>cur_year_avg_weighted</th>\n",
              "      <th>last_year_avg</th>\n",
              "      <th>last_year_avg_weighted</th>\n",
              "      <th>two_year_ago_avg</th>\n",
              "      <th>two_year_ago_weighted</th>\n",
              "      <th>three_year_ago_avg</th>\n",
              "      <th>three_year_ago_weighted</th>\n",
              "      <th>confederation</th>\n",
              "      <th>rank_date</th>\n",
              "    </tr>\n",
              "  </thead>\n",
              "  <tbody>\n",
              "    <tr>\n",
              "      <th>0</th>\n",
              "      <td>1</td>\n",
              "      <td>Germany</td>\n",
              "      <td>GER</td>\n",
              "      <td>0.0</td>\n",
              "      <td>57</td>\n",
              "      <td>0</td>\n",
              "      <td>0.0</td>\n",
              "      <td>0.0</td>\n",
              "      <td>0.0</td>\n",
              "      <td>0.0</td>\n",
              "      <td>0.0</td>\n",
              "      <td>0.0</td>\n",
              "      <td>0.0</td>\n",
              "      <td>0.0</td>\n",
              "      <td>UEFA</td>\n",
              "      <td>1993-08-08</td>\n",
              "    </tr>\n",
              "    <tr>\n",
              "      <th>1</th>\n",
              "      <td>2</td>\n",
              "      <td>Italy</td>\n",
              "      <td>ITA</td>\n",
              "      <td>0.0</td>\n",
              "      <td>57</td>\n",
              "      <td>0</td>\n",
              "      <td>0.0</td>\n",
              "      <td>0.0</td>\n",
              "      <td>0.0</td>\n",
              "      <td>0.0</td>\n",
              "      <td>0.0</td>\n",
              "      <td>0.0</td>\n",
              "      <td>0.0</td>\n",
              "      <td>0.0</td>\n",
              "      <td>UEFA</td>\n",
              "      <td>1993-08-08</td>\n",
              "    </tr>\n",
              "    <tr>\n",
              "      <th>2</th>\n",
              "      <td>3</td>\n",
              "      <td>Switzerland</td>\n",
              "      <td>SUI</td>\n",
              "      <td>0.0</td>\n",
              "      <td>50</td>\n",
              "      <td>9</td>\n",
              "      <td>0.0</td>\n",
              "      <td>0.0</td>\n",
              "      <td>0.0</td>\n",
              "      <td>0.0</td>\n",
              "      <td>0.0</td>\n",
              "      <td>0.0</td>\n",
              "      <td>0.0</td>\n",
              "      <td>0.0</td>\n",
              "      <td>UEFA</td>\n",
              "      <td>1993-08-08</td>\n",
              "    </tr>\n",
              "    <tr>\n",
              "      <th>3</th>\n",
              "      <td>4</td>\n",
              "      <td>Sweden</td>\n",
              "      <td>SWE</td>\n",
              "      <td>0.0</td>\n",
              "      <td>55</td>\n",
              "      <td>0</td>\n",
              "      <td>0.0</td>\n",
              "      <td>0.0</td>\n",
              "      <td>0.0</td>\n",
              "      <td>0.0</td>\n",
              "      <td>0.0</td>\n",
              "      <td>0.0</td>\n",
              "      <td>0.0</td>\n",
              "      <td>0.0</td>\n",
              "      <td>UEFA</td>\n",
              "      <td>1993-08-08</td>\n",
              "    </tr>\n",
              "    <tr>\n",
              "      <th>4</th>\n",
              "      <td>5</td>\n",
              "      <td>Argentina</td>\n",
              "      <td>ARG</td>\n",
              "      <td>0.0</td>\n",
              "      <td>51</td>\n",
              "      <td>5</td>\n",
              "      <td>0.0</td>\n",
              "      <td>0.0</td>\n",
              "      <td>0.0</td>\n",
              "      <td>0.0</td>\n",
              "      <td>0.0</td>\n",
              "      <td>0.0</td>\n",
              "      <td>0.0</td>\n",
              "      <td>0.0</td>\n",
              "      <td>CONMEBOL</td>\n",
              "      <td>1993-08-08</td>\n",
              "    </tr>\n",
              "  </tbody>\n",
              "</table>\n",
              "</div>"
            ],
            "text/plain": [
              "   rank country_full  ... confederation   rank_date\n",
              "0     1      Germany  ...          UEFA  1993-08-08\n",
              "1     2        Italy  ...          UEFA  1993-08-08\n",
              "2     3  Switzerland  ...          UEFA  1993-08-08\n",
              "3     4       Sweden  ...          UEFA  1993-08-08\n",
              "4     5    Argentina  ...      CONMEBOL  1993-08-08\n",
              "\n",
              "[5 rows x 16 columns]"
            ]
          },
          "metadata": {
            "tags": []
          },
          "execution_count": 5
        }
      ]
    },
    {
      "cell_type": "code",
      "metadata": {
        "colab": {
          "base_uri": "https://localhost:8080/",
          "height": 204
        },
        "id": "df-ksdUyTyGb",
        "outputId": "ed4c5bef-6c3c-4ba6-8fc7-754f38d3ab82"
      },
      "source": [
        "#Ill then preview the second dataset,the first 4\n",
        "df_2 = pd.read_csv(\"/content/results.csv\")\n",
        "df_2.head()"
      ],
      "execution_count": 6,
      "outputs": [
        {
          "output_type": "execute_result",
          "data": {
            "text/html": [
              "<div>\n",
              "<style scoped>\n",
              "    .dataframe tbody tr th:only-of-type {\n",
              "        vertical-align: middle;\n",
              "    }\n",
              "\n",
              "    .dataframe tbody tr th {\n",
              "        vertical-align: top;\n",
              "    }\n",
              "\n",
              "    .dataframe thead th {\n",
              "        text-align: right;\n",
              "    }\n",
              "</style>\n",
              "<table border=\"1\" class=\"dataframe\">\n",
              "  <thead>\n",
              "    <tr style=\"text-align: right;\">\n",
              "      <th></th>\n",
              "      <th>date</th>\n",
              "      <th>home_team</th>\n",
              "      <th>away_team</th>\n",
              "      <th>home_score</th>\n",
              "      <th>away_score</th>\n",
              "      <th>tournament</th>\n",
              "      <th>city</th>\n",
              "      <th>country</th>\n",
              "      <th>neutral</th>\n",
              "    </tr>\n",
              "  </thead>\n",
              "  <tbody>\n",
              "    <tr>\n",
              "      <th>0</th>\n",
              "      <td>1872-11-30</td>\n",
              "      <td>Scotland</td>\n",
              "      <td>England</td>\n",
              "      <td>0</td>\n",
              "      <td>0</td>\n",
              "      <td>Friendly</td>\n",
              "      <td>Glasgow</td>\n",
              "      <td>Scotland</td>\n",
              "      <td>False</td>\n",
              "    </tr>\n",
              "    <tr>\n",
              "      <th>1</th>\n",
              "      <td>1873-03-08</td>\n",
              "      <td>England</td>\n",
              "      <td>Scotland</td>\n",
              "      <td>4</td>\n",
              "      <td>2</td>\n",
              "      <td>Friendly</td>\n",
              "      <td>London</td>\n",
              "      <td>England</td>\n",
              "      <td>False</td>\n",
              "    </tr>\n",
              "    <tr>\n",
              "      <th>2</th>\n",
              "      <td>1874-03-07</td>\n",
              "      <td>Scotland</td>\n",
              "      <td>England</td>\n",
              "      <td>2</td>\n",
              "      <td>1</td>\n",
              "      <td>Friendly</td>\n",
              "      <td>Glasgow</td>\n",
              "      <td>Scotland</td>\n",
              "      <td>False</td>\n",
              "    </tr>\n",
              "    <tr>\n",
              "      <th>3</th>\n",
              "      <td>1875-03-06</td>\n",
              "      <td>England</td>\n",
              "      <td>Scotland</td>\n",
              "      <td>2</td>\n",
              "      <td>2</td>\n",
              "      <td>Friendly</td>\n",
              "      <td>London</td>\n",
              "      <td>England</td>\n",
              "      <td>False</td>\n",
              "    </tr>\n",
              "    <tr>\n",
              "      <th>4</th>\n",
              "      <td>1876-03-04</td>\n",
              "      <td>Scotland</td>\n",
              "      <td>England</td>\n",
              "      <td>3</td>\n",
              "      <td>0</td>\n",
              "      <td>Friendly</td>\n",
              "      <td>Glasgow</td>\n",
              "      <td>Scotland</td>\n",
              "      <td>False</td>\n",
              "    </tr>\n",
              "  </tbody>\n",
              "</table>\n",
              "</div>"
            ],
            "text/plain": [
              "         date home_team away_team  ...     city   country neutral\n",
              "0  1872-11-30  Scotland   England  ...  Glasgow  Scotland   False\n",
              "1  1873-03-08   England  Scotland  ...   London   England   False\n",
              "2  1874-03-07  Scotland   England  ...  Glasgow  Scotland   False\n",
              "3  1875-03-06   England  Scotland  ...   London   England   False\n",
              "4  1876-03-04  Scotland   England  ...  Glasgow  Scotland   False\n",
              "\n",
              "[5 rows x 9 columns]"
            ]
          },
          "metadata": {
            "tags": []
          },
          "execution_count": 6
        }
      ]
    },
    {
      "cell_type": "code",
      "metadata": {
        "id": "JJwEfuGBUadp"
      },
      "source": [
        "#Ill then create a copy of the 2 datasets\n",
        "df1_copy = df_1.copy\n",
        "df2_copy = df_2.copy"
      ],
      "execution_count": 7,
      "outputs": []
    },
    {
      "cell_type": "markdown",
      "metadata": {
        "id": "yaGo631CWBFJ"
      },
      "source": [
        "## ***Data Cleaning***"
      ]
    },
    {
      "cell_type": "code",
      "metadata": {
        "colab": {
          "base_uri": "https://localhost:8080/"
        },
        "id": "A7llhc97W-Du",
        "outputId": "459e7d8c-1c4d-444c-9a63-752501bf26ff"
      },
      "source": [
        "#Ill check if their is null values in the dataset\n",
        "df_1.isnull().sum()\n",
        "#Their are no null values in the dataset"
      ],
      "execution_count": 8,
      "outputs": [
        {
          "output_type": "execute_result",
          "data": {
            "text/plain": [
              "rank                       0\n",
              "country_full               0\n",
              "country_abrv               0\n",
              "total_points               0\n",
              "previous_points            0\n",
              "rank_change                0\n",
              "cur_year_avg               0\n",
              "cur_year_avg_weighted      0\n",
              "last_year_avg              0\n",
              "last_year_avg_weighted     0\n",
              "two_year_ago_avg           0\n",
              "two_year_ago_weighted      0\n",
              "three_year_ago_avg         0\n",
              "three_year_ago_weighted    0\n",
              "confederation              0\n",
              "rank_date                  0\n",
              "dtype: int64"
            ]
          },
          "metadata": {
            "tags": []
          },
          "execution_count": 8
        }
      ]
    },
    {
      "cell_type": "code",
      "metadata": {
        "colab": {
          "base_uri": "https://localhost:8080/"
        },
        "id": "jtq6e3ksXZw_",
        "outputId": "f665c817-dd6e-4d6b-c465-bca2066f5977"
      },
      "source": [
        "#Ill then check for nulls in the second dataset \n",
        "df_2.isnull().sum()\n",
        "#Their s no null values in this dataset"
      ],
      "execution_count": 9,
      "outputs": [
        {
          "output_type": "execute_result",
          "data": {
            "text/plain": [
              "date          0\n",
              "home_team     0\n",
              "away_team     0\n",
              "home_score    0\n",
              "away_score    0\n",
              "tournament    0\n",
              "city          0\n",
              "country       0\n",
              "neutral       0\n",
              "dtype: int64"
            ]
          },
          "metadata": {
            "tags": []
          },
          "execution_count": 9
        }
      ]
    },
    {
      "cell_type": "code",
      "metadata": {
        "colab": {
          "base_uri": "https://localhost:8080/"
        },
        "id": "pIDKCi9WXpHC",
        "outputId": "16f2f286-ae3a-442f-a316-2a66ab17d6c9"
      },
      "source": [
        "#Ill then check the column names in first dataset\n",
        "df_1.columns"
      ],
      "execution_count": 10,
      "outputs": [
        {
          "output_type": "execute_result",
          "data": {
            "text/plain": [
              "Index(['rank', 'country_full', 'country_abrv', 'total_points',\n",
              "       'previous_points', 'rank_change', 'cur_year_avg',\n",
              "       'cur_year_avg_weighted', 'last_year_avg', 'last_year_avg_weighted',\n",
              "       'two_year_ago_avg', 'two_year_ago_weighted', 'three_year_ago_avg',\n",
              "       'three_year_ago_weighted', 'confederation', 'rank_date'],\n",
              "      dtype='object')"
            ]
          },
          "metadata": {
            "tags": []
          },
          "execution_count": 10
        }
      ]
    },
    {
      "cell_type": "code",
      "metadata": {
        "colab": {
          "base_uri": "https://localhost:8080/"
        },
        "id": "CMf_cC0XYQvp",
        "outputId": "ac7bf3e2-5e3b-45f8-a263-cf055cd31561"
      },
      "source": [
        "#Ill then check the column names in second dataset\n",
        "df_2.columns\n"
      ],
      "execution_count": 11,
      "outputs": [
        {
          "output_type": "execute_result",
          "data": {
            "text/plain": [
              "Index(['date', 'home_team', 'away_team', 'home_score', 'away_score',\n",
              "       'tournament', 'city', 'country', 'neutral'],\n",
              "      dtype='object')"
            ]
          },
          "metadata": {
            "tags": []
          },
          "execution_count": 11
        }
      ]
    },
    {
      "cell_type": "code",
      "metadata": {
        "colab": {
          "base_uri": "https://localhost:8080/"
        },
        "id": "GBew4VMLYwW7",
        "outputId": "de02c52b-ed7e-4e8e-a566-2f0ff2330699"
      },
      "source": [
        "#Ill then check the iformation of the dataset\n",
        "df_1.info()"
      ],
      "execution_count": 12,
      "outputs": [
        {
          "output_type": "stream",
          "text": [
            "<class 'pandas.core.frame.DataFrame'>\n",
            "RangeIndex: 57793 entries, 0 to 57792\n",
            "Data columns (total 16 columns):\n",
            " #   Column                   Non-Null Count  Dtype  \n",
            "---  ------                   --------------  -----  \n",
            " 0   rank                     57793 non-null  int64  \n",
            " 1   country_full             57793 non-null  object \n",
            " 2   country_abrv             57793 non-null  object \n",
            " 3   total_points             57793 non-null  float64\n",
            " 4   previous_points          57793 non-null  int64  \n",
            " 5   rank_change              57793 non-null  int64  \n",
            " 6   cur_year_avg             57793 non-null  float64\n",
            " 7   cur_year_avg_weighted    57793 non-null  float64\n",
            " 8   last_year_avg            57793 non-null  float64\n",
            " 9   last_year_avg_weighted   57793 non-null  float64\n",
            " 10  two_year_ago_avg         57793 non-null  float64\n",
            " 11  two_year_ago_weighted    57793 non-null  float64\n",
            " 12  three_year_ago_avg       57793 non-null  float64\n",
            " 13  three_year_ago_weighted  57793 non-null  float64\n",
            " 14  confederation            57793 non-null  object \n",
            " 15  rank_date                57793 non-null  object \n",
            "dtypes: float64(9), int64(3), object(4)\n",
            "memory usage: 7.1+ MB\n"
          ],
          "name": "stdout"
        }
      ]
    },
    {
      "cell_type": "code",
      "metadata": {
        "colab": {
          "base_uri": "https://localhost:8080/"
        },
        "id": "ipe0yDsBHoPT",
        "outputId": "7db33a87-af72-4788-a113-5359d33ae60b"
      },
      "source": [
        "#Ill then check the information of the other dataset\n",
        "df_2.info()"
      ],
      "execution_count": 13,
      "outputs": [
        {
          "output_type": "stream",
          "text": [
            "<class 'pandas.core.frame.DataFrame'>\n",
            "RangeIndex: 40839 entries, 0 to 40838\n",
            "Data columns (total 9 columns):\n",
            " #   Column      Non-Null Count  Dtype \n",
            "---  ------      --------------  ----- \n",
            " 0   date        40839 non-null  object\n",
            " 1   home_team   40839 non-null  object\n",
            " 2   away_team   40839 non-null  object\n",
            " 3   home_score  40839 non-null  int64 \n",
            " 4   away_score  40839 non-null  int64 \n",
            " 5   tournament  40839 non-null  object\n",
            " 6   city        40839 non-null  object\n",
            " 7   country     40839 non-null  object\n",
            " 8   neutral     40839 non-null  bool  \n",
            "dtypes: bool(1), int64(2), object(6)\n",
            "memory usage: 2.5+ MB\n"
          ],
          "name": "stdout"
        }
      ]
    },
    {
      "cell_type": "code",
      "metadata": {
        "colab": {
          "base_uri": "https://localhost:8080/"
        },
        "id": "m30B_6zqH2ot",
        "outputId": "28227550-da38-4af5-9a56-7c2e758c7770"
      },
      "source": [
        "#ILl then check the datatypes of the first dataset(fifa dataset)\n",
        "df_1.dtypes\n",
        "#For appropriate reasons"
      ],
      "execution_count": 14,
      "outputs": [
        {
          "output_type": "execute_result",
          "data": {
            "text/plain": [
              "rank                         int64\n",
              "country_full                object\n",
              "country_abrv                object\n",
              "total_points               float64\n",
              "previous_points              int64\n",
              "rank_change                  int64\n",
              "cur_year_avg               float64\n",
              "cur_year_avg_weighted      float64\n",
              "last_year_avg              float64\n",
              "last_year_avg_weighted     float64\n",
              "two_year_ago_avg           float64\n",
              "two_year_ago_weighted      float64\n",
              "three_year_ago_avg         float64\n",
              "three_year_ago_weighted    float64\n",
              "confederation               object\n",
              "rank_date                   object\n",
              "dtype: object"
            ]
          },
          "metadata": {
            "tags": []
          },
          "execution_count": 14
        }
      ]
    },
    {
      "cell_type": "code",
      "metadata": {
        "colab": {
          "base_uri": "https://localhost:8080/"
        },
        "id": "p2V2d2BsImdK",
        "outputId": "23131e90-03f2-4b39-d598-e48881582d78"
      },
      "source": [
        "#Ill then check the datatype of the results dataset\n",
        "df_2.dtypes"
      ],
      "execution_count": 15,
      "outputs": [
        {
          "output_type": "execute_result",
          "data": {
            "text/plain": [
              "date          object\n",
              "home_team     object\n",
              "away_team     object\n",
              "home_score     int64\n",
              "away_score     int64\n",
              "tournament    object\n",
              "city          object\n",
              "country       object\n",
              "neutral         bool\n",
              "dtype: object"
            ]
          },
          "metadata": {
            "tags": []
          },
          "execution_count": 15
        }
      ]
    },
    {
      "cell_type": "code",
      "metadata": {
        "colab": {
          "base_uri": "https://localhost:8080/",
          "height": 204
        },
        "id": "7htfXE-4UzxP",
        "outputId": "120f9e26-81e1-482e-d80f-c304f9fbbf75"
      },
      "source": [
        "#Ill then filter out the dataset emmiting neutral grounds\n",
        "df_2 = df_2[df_2.neutral == False]\n",
        "df_2.head()\n",
        "\n",
        "\n"
      ],
      "execution_count": 16,
      "outputs": [
        {
          "output_type": "execute_result",
          "data": {
            "text/html": [
              "<div>\n",
              "<style scoped>\n",
              "    .dataframe tbody tr th:only-of-type {\n",
              "        vertical-align: middle;\n",
              "    }\n",
              "\n",
              "    .dataframe tbody tr th {\n",
              "        vertical-align: top;\n",
              "    }\n",
              "\n",
              "    .dataframe thead th {\n",
              "        text-align: right;\n",
              "    }\n",
              "</style>\n",
              "<table border=\"1\" class=\"dataframe\">\n",
              "  <thead>\n",
              "    <tr style=\"text-align: right;\">\n",
              "      <th></th>\n",
              "      <th>date</th>\n",
              "      <th>home_team</th>\n",
              "      <th>away_team</th>\n",
              "      <th>home_score</th>\n",
              "      <th>away_score</th>\n",
              "      <th>tournament</th>\n",
              "      <th>city</th>\n",
              "      <th>country</th>\n",
              "      <th>neutral</th>\n",
              "    </tr>\n",
              "  </thead>\n",
              "  <tbody>\n",
              "    <tr>\n",
              "      <th>0</th>\n",
              "      <td>1872-11-30</td>\n",
              "      <td>Scotland</td>\n",
              "      <td>England</td>\n",
              "      <td>0</td>\n",
              "      <td>0</td>\n",
              "      <td>Friendly</td>\n",
              "      <td>Glasgow</td>\n",
              "      <td>Scotland</td>\n",
              "      <td>False</td>\n",
              "    </tr>\n",
              "    <tr>\n",
              "      <th>1</th>\n",
              "      <td>1873-03-08</td>\n",
              "      <td>England</td>\n",
              "      <td>Scotland</td>\n",
              "      <td>4</td>\n",
              "      <td>2</td>\n",
              "      <td>Friendly</td>\n",
              "      <td>London</td>\n",
              "      <td>England</td>\n",
              "      <td>False</td>\n",
              "    </tr>\n",
              "    <tr>\n",
              "      <th>2</th>\n",
              "      <td>1874-03-07</td>\n",
              "      <td>Scotland</td>\n",
              "      <td>England</td>\n",
              "      <td>2</td>\n",
              "      <td>1</td>\n",
              "      <td>Friendly</td>\n",
              "      <td>Glasgow</td>\n",
              "      <td>Scotland</td>\n",
              "      <td>False</td>\n",
              "    </tr>\n",
              "    <tr>\n",
              "      <th>3</th>\n",
              "      <td>1875-03-06</td>\n",
              "      <td>England</td>\n",
              "      <td>Scotland</td>\n",
              "      <td>2</td>\n",
              "      <td>2</td>\n",
              "      <td>Friendly</td>\n",
              "      <td>London</td>\n",
              "      <td>England</td>\n",
              "      <td>False</td>\n",
              "    </tr>\n",
              "    <tr>\n",
              "      <th>4</th>\n",
              "      <td>1876-03-04</td>\n",
              "      <td>Scotland</td>\n",
              "      <td>England</td>\n",
              "      <td>3</td>\n",
              "      <td>0</td>\n",
              "      <td>Friendly</td>\n",
              "      <td>Glasgow</td>\n",
              "      <td>Scotland</td>\n",
              "      <td>False</td>\n",
              "    </tr>\n",
              "  </tbody>\n",
              "</table>\n",
              "</div>"
            ],
            "text/plain": [
              "         date home_team away_team  ...     city   country neutral\n",
              "0  1872-11-30  Scotland   England  ...  Glasgow  Scotland   False\n",
              "1  1873-03-08   England  Scotland  ...   London   England   False\n",
              "2  1874-03-07  Scotland   England  ...  Glasgow  Scotland   False\n",
              "3  1875-03-06   England  Scotland  ...   London   England   False\n",
              "4  1876-03-04  Scotland   England  ...  Glasgow  Scotland   False\n",
              "\n",
              "[5 rows x 9 columns]"
            ]
          },
          "metadata": {
            "tags": []
          },
          "execution_count": 16
        }
      ]
    },
    {
      "cell_type": "code",
      "metadata": {
        "id": "hnOqnWPQWOXU"
      },
      "source": [
        "#Ill then work with the date column to convert it to the day, the month and the year\n",
        "df_2['year'] = pd.DatetimeIndex(df_2['date']).year\n",
        "df_2['month'] = pd.DatetimeIndex(df_2['date']).month\n",
        "df_2['day'] = pd.DatetimeIndex(df_2['date']).day\n",
        "\n"
      ],
      "execution_count": 17,
      "outputs": []
    },
    {
      "cell_type": "code",
      "metadata": {
        "colab": {
          "base_uri": "https://localhost:8080/",
          "height": 165
        },
        "id": "Mp6DtgbgYCsd",
        "outputId": "5fa12b71-d12d-4d39-d49c-6084963b498e"
      },
      "source": [
        "#ILl then confirm if it has been converted\n",
        "df_2.head(2)\n",
        "#It has been converted"
      ],
      "execution_count": 18,
      "outputs": [
        {
          "output_type": "execute_result",
          "data": {
            "text/html": [
              "<div>\n",
              "<style scoped>\n",
              "    .dataframe tbody tr th:only-of-type {\n",
              "        vertical-align: middle;\n",
              "    }\n",
              "\n",
              "    .dataframe tbody tr th {\n",
              "        vertical-align: top;\n",
              "    }\n",
              "\n",
              "    .dataframe thead th {\n",
              "        text-align: right;\n",
              "    }\n",
              "</style>\n",
              "<table border=\"1\" class=\"dataframe\">\n",
              "  <thead>\n",
              "    <tr style=\"text-align: right;\">\n",
              "      <th></th>\n",
              "      <th>date</th>\n",
              "      <th>home_team</th>\n",
              "      <th>away_team</th>\n",
              "      <th>home_score</th>\n",
              "      <th>away_score</th>\n",
              "      <th>tournament</th>\n",
              "      <th>city</th>\n",
              "      <th>country</th>\n",
              "      <th>neutral</th>\n",
              "      <th>year</th>\n",
              "      <th>month</th>\n",
              "      <th>day</th>\n",
              "    </tr>\n",
              "  </thead>\n",
              "  <tbody>\n",
              "    <tr>\n",
              "      <th>0</th>\n",
              "      <td>1872-11-30</td>\n",
              "      <td>Scotland</td>\n",
              "      <td>England</td>\n",
              "      <td>0</td>\n",
              "      <td>0</td>\n",
              "      <td>Friendly</td>\n",
              "      <td>Glasgow</td>\n",
              "      <td>Scotland</td>\n",
              "      <td>False</td>\n",
              "      <td>1872</td>\n",
              "      <td>11</td>\n",
              "      <td>30</td>\n",
              "    </tr>\n",
              "    <tr>\n",
              "      <th>1</th>\n",
              "      <td>1873-03-08</td>\n",
              "      <td>England</td>\n",
              "      <td>Scotland</td>\n",
              "      <td>4</td>\n",
              "      <td>2</td>\n",
              "      <td>Friendly</td>\n",
              "      <td>London</td>\n",
              "      <td>England</td>\n",
              "      <td>False</td>\n",
              "      <td>1873</td>\n",
              "      <td>3</td>\n",
              "      <td>8</td>\n",
              "    </tr>\n",
              "  </tbody>\n",
              "</table>\n",
              "</div>"
            ],
            "text/plain": [
              "         date home_team away_team  home_score  ...  neutral  year month day\n",
              "0  1872-11-30  Scotland   England           0  ...    False  1872    11  30\n",
              "1  1873-03-08   England  Scotland           4  ...    False  1873     3   8\n",
              "\n",
              "[2 rows x 12 columns]"
            ]
          },
          "metadata": {
            "tags": []
          },
          "execution_count": 18
        }
      ]
    },
    {
      "cell_type": "code",
      "metadata": {
        "colab": {
          "base_uri": "https://localhost:8080/",
          "height": 470
        },
        "id": "51ZOosNvYhBb",
        "outputId": "75590e96-2cba-49cd-b652-9a8a5d8fd13e"
      },
      "source": [
        "#Ill then drop the date column since we don't need it anymore\n",
        "#Ill also drop the neutral column since its \"False\" in every game\n",
        "df_2 = df_2.drop(['date','neutral'], 1)\n",
        "df_2\n",
        "#They have been dropped"
      ],
      "execution_count": 19,
      "outputs": [
        {
          "output_type": "execute_result",
          "data": {
            "text/html": [
              "<div>\n",
              "<style scoped>\n",
              "    .dataframe tbody tr th:only-of-type {\n",
              "        vertical-align: middle;\n",
              "    }\n",
              "\n",
              "    .dataframe tbody tr th {\n",
              "        vertical-align: top;\n",
              "    }\n",
              "\n",
              "    .dataframe thead th {\n",
              "        text-align: right;\n",
              "    }\n",
              "</style>\n",
              "<table border=\"1\" class=\"dataframe\">\n",
              "  <thead>\n",
              "    <tr style=\"text-align: right;\">\n",
              "      <th></th>\n",
              "      <th>home_team</th>\n",
              "      <th>away_team</th>\n",
              "      <th>home_score</th>\n",
              "      <th>away_score</th>\n",
              "      <th>tournament</th>\n",
              "      <th>city</th>\n",
              "      <th>country</th>\n",
              "      <th>year</th>\n",
              "      <th>month</th>\n",
              "      <th>day</th>\n",
              "    </tr>\n",
              "  </thead>\n",
              "  <tbody>\n",
              "    <tr>\n",
              "      <th>0</th>\n",
              "      <td>Scotland</td>\n",
              "      <td>England</td>\n",
              "      <td>0</td>\n",
              "      <td>0</td>\n",
              "      <td>Friendly</td>\n",
              "      <td>Glasgow</td>\n",
              "      <td>Scotland</td>\n",
              "      <td>1872</td>\n",
              "      <td>11</td>\n",
              "      <td>30</td>\n",
              "    </tr>\n",
              "    <tr>\n",
              "      <th>1</th>\n",
              "      <td>England</td>\n",
              "      <td>Scotland</td>\n",
              "      <td>4</td>\n",
              "      <td>2</td>\n",
              "      <td>Friendly</td>\n",
              "      <td>London</td>\n",
              "      <td>England</td>\n",
              "      <td>1873</td>\n",
              "      <td>3</td>\n",
              "      <td>8</td>\n",
              "    </tr>\n",
              "    <tr>\n",
              "      <th>2</th>\n",
              "      <td>Scotland</td>\n",
              "      <td>England</td>\n",
              "      <td>2</td>\n",
              "      <td>1</td>\n",
              "      <td>Friendly</td>\n",
              "      <td>Glasgow</td>\n",
              "      <td>Scotland</td>\n",
              "      <td>1874</td>\n",
              "      <td>3</td>\n",
              "      <td>7</td>\n",
              "    </tr>\n",
              "    <tr>\n",
              "      <th>3</th>\n",
              "      <td>England</td>\n",
              "      <td>Scotland</td>\n",
              "      <td>2</td>\n",
              "      <td>2</td>\n",
              "      <td>Friendly</td>\n",
              "      <td>London</td>\n",
              "      <td>England</td>\n",
              "      <td>1875</td>\n",
              "      <td>3</td>\n",
              "      <td>6</td>\n",
              "    </tr>\n",
              "    <tr>\n",
              "      <th>4</th>\n",
              "      <td>Scotland</td>\n",
              "      <td>England</td>\n",
              "      <td>3</td>\n",
              "      <td>0</td>\n",
              "      <td>Friendly</td>\n",
              "      <td>Glasgow</td>\n",
              "      <td>Scotland</td>\n",
              "      <td>1876</td>\n",
              "      <td>3</td>\n",
              "      <td>4</td>\n",
              "    </tr>\n",
              "    <tr>\n",
              "      <th>...</th>\n",
              "      <td>...</td>\n",
              "      <td>...</td>\n",
              "      <td>...</td>\n",
              "      <td>...</td>\n",
              "      <td>...</td>\n",
              "      <td>...</td>\n",
              "      <td>...</td>\n",
              "      <td>...</td>\n",
              "      <td>...</td>\n",
              "      <td>...</td>\n",
              "    </tr>\n",
              "    <tr>\n",
              "      <th>40803</th>\n",
              "      <td>Samoa</td>\n",
              "      <td>Papua New Guinea</td>\n",
              "      <td>0</td>\n",
              "      <td>6</td>\n",
              "      <td>Pacific Games</td>\n",
              "      <td>Apia</td>\n",
              "      <td>Samoa</td>\n",
              "      <td>2019</td>\n",
              "      <td>7</td>\n",
              "      <td>8</td>\n",
              "    </tr>\n",
              "    <tr>\n",
              "      <th>40817</th>\n",
              "      <td>Samoa</td>\n",
              "      <td>Tonga</td>\n",
              "      <td>2</td>\n",
              "      <td>0</td>\n",
              "      <td>Pacific Games</td>\n",
              "      <td>Apia</td>\n",
              "      <td>Samoa</td>\n",
              "      <td>2019</td>\n",
              "      <td>7</td>\n",
              "      <td>12</td>\n",
              "    </tr>\n",
              "    <tr>\n",
              "      <th>40821</th>\n",
              "      <td>India</td>\n",
              "      <td>North Korea</td>\n",
              "      <td>2</td>\n",
              "      <td>5</td>\n",
              "      <td>Intercontinental Cup</td>\n",
              "      <td>Ahmedabad</td>\n",
              "      <td>India</td>\n",
              "      <td>2019</td>\n",
              "      <td>7</td>\n",
              "      <td>13</td>\n",
              "    </tr>\n",
              "    <tr>\n",
              "      <th>40829</th>\n",
              "      <td>India</td>\n",
              "      <td>Syria</td>\n",
              "      <td>1</td>\n",
              "      <td>1</td>\n",
              "      <td>Intercontinental Cup</td>\n",
              "      <td>Ahmedabad</td>\n",
              "      <td>India</td>\n",
              "      <td>2019</td>\n",
              "      <td>7</td>\n",
              "      <td>16</td>\n",
              "    </tr>\n",
              "    <tr>\n",
              "      <th>40832</th>\n",
              "      <td>Samoa</td>\n",
              "      <td>Vanuatu</td>\n",
              "      <td>0</td>\n",
              "      <td>11</td>\n",
              "      <td>Pacific Games</td>\n",
              "      <td>Apia</td>\n",
              "      <td>Samoa</td>\n",
              "      <td>2019</td>\n",
              "      <td>7</td>\n",
              "      <td>18</td>\n",
              "    </tr>\n",
              "  </tbody>\n",
              "</table>\n",
              "<p>30680 rows × 10 columns</p>\n",
              "</div>"
            ],
            "text/plain": [
              "      home_team         away_team  home_score  ...  year month day\n",
              "0      Scotland           England           0  ...  1872    11  30\n",
              "1       England          Scotland           4  ...  1873     3   8\n",
              "2      Scotland           England           2  ...  1874     3   7\n",
              "3       England          Scotland           2  ...  1875     3   6\n",
              "4      Scotland           England           3  ...  1876     3   4\n",
              "...         ...               ...         ...  ...   ...   ...  ..\n",
              "40803     Samoa  Papua New Guinea           0  ...  2019     7   8\n",
              "40817     Samoa             Tonga           2  ...  2019     7  12\n",
              "40821     India       North Korea           2  ...  2019     7  13\n",
              "40829     India             Syria           1  ...  2019     7  16\n",
              "40832     Samoa           Vanuatu           0  ...  2019     7  18\n",
              "\n",
              "[30680 rows x 10 columns]"
            ]
          },
          "metadata": {
            "tags": []
          },
          "execution_count": 19
        }
      ]
    },
    {
      "cell_type": "code",
      "metadata": {
        "colab": {
          "base_uri": "https://localhost:8080/",
          "height": 359
        },
        "id": "jiqpee51Z3am",
        "outputId": "ccc19f3c-6a22-4bb5-ed48-1772fd73d2a2"
      },
      "source": [
        "#Ill then create an algorithim that will determine the outcome of the football match\n",
        "\n",
        "outcome = []\n",
        "\n",
        "for i in range(len(df_2['home_team'])):\n",
        "  if df_2.home_score.iloc[i] > df_2.away_score.iloc[i]:\n",
        "    outcome.append('Win')\n",
        "  elif df_2['home_score'].iloc[i] < df_2.away_score.iloc[i]:\n",
        "    outcome.append('Lose')\n",
        "  else:\n",
        "    outcome.append('Draw')\n",
        "  \n",
        "#ILl then create a new column for the outcome\n",
        "df_2['outcome'] = outcome\n",
        "df_2.apply(lambda col: col.drop_duplicates().reset_index(drop=True))\n",
        "#ILl then preview if the algorithim has worked\n",
        "df_2.head(10)\n",
        "#It has worked\n"
      ],
      "execution_count": 20,
      "outputs": [
        {
          "output_type": "execute_result",
          "data": {
            "text/html": [
              "<div>\n",
              "<style scoped>\n",
              "    .dataframe tbody tr th:only-of-type {\n",
              "        vertical-align: middle;\n",
              "    }\n",
              "\n",
              "    .dataframe tbody tr th {\n",
              "        vertical-align: top;\n",
              "    }\n",
              "\n",
              "    .dataframe thead th {\n",
              "        text-align: right;\n",
              "    }\n",
              "</style>\n",
              "<table border=\"1\" class=\"dataframe\">\n",
              "  <thead>\n",
              "    <tr style=\"text-align: right;\">\n",
              "      <th></th>\n",
              "      <th>home_team</th>\n",
              "      <th>away_team</th>\n",
              "      <th>home_score</th>\n",
              "      <th>away_score</th>\n",
              "      <th>tournament</th>\n",
              "      <th>city</th>\n",
              "      <th>country</th>\n",
              "      <th>year</th>\n",
              "      <th>month</th>\n",
              "      <th>day</th>\n",
              "      <th>outcome</th>\n",
              "    </tr>\n",
              "  </thead>\n",
              "  <tbody>\n",
              "    <tr>\n",
              "      <th>0</th>\n",
              "      <td>Scotland</td>\n",
              "      <td>England</td>\n",
              "      <td>0</td>\n",
              "      <td>0</td>\n",
              "      <td>Friendly</td>\n",
              "      <td>Glasgow</td>\n",
              "      <td>Scotland</td>\n",
              "      <td>1872</td>\n",
              "      <td>11</td>\n",
              "      <td>30</td>\n",
              "      <td>Draw</td>\n",
              "    </tr>\n",
              "    <tr>\n",
              "      <th>1</th>\n",
              "      <td>England</td>\n",
              "      <td>Scotland</td>\n",
              "      <td>4</td>\n",
              "      <td>2</td>\n",
              "      <td>Friendly</td>\n",
              "      <td>London</td>\n",
              "      <td>England</td>\n",
              "      <td>1873</td>\n",
              "      <td>3</td>\n",
              "      <td>8</td>\n",
              "      <td>Win</td>\n",
              "    </tr>\n",
              "    <tr>\n",
              "      <th>2</th>\n",
              "      <td>Scotland</td>\n",
              "      <td>England</td>\n",
              "      <td>2</td>\n",
              "      <td>1</td>\n",
              "      <td>Friendly</td>\n",
              "      <td>Glasgow</td>\n",
              "      <td>Scotland</td>\n",
              "      <td>1874</td>\n",
              "      <td>3</td>\n",
              "      <td>7</td>\n",
              "      <td>Win</td>\n",
              "    </tr>\n",
              "    <tr>\n",
              "      <th>3</th>\n",
              "      <td>England</td>\n",
              "      <td>Scotland</td>\n",
              "      <td>2</td>\n",
              "      <td>2</td>\n",
              "      <td>Friendly</td>\n",
              "      <td>London</td>\n",
              "      <td>England</td>\n",
              "      <td>1875</td>\n",
              "      <td>3</td>\n",
              "      <td>6</td>\n",
              "      <td>Draw</td>\n",
              "    </tr>\n",
              "    <tr>\n",
              "      <th>4</th>\n",
              "      <td>Scotland</td>\n",
              "      <td>England</td>\n",
              "      <td>3</td>\n",
              "      <td>0</td>\n",
              "      <td>Friendly</td>\n",
              "      <td>Glasgow</td>\n",
              "      <td>Scotland</td>\n",
              "      <td>1876</td>\n",
              "      <td>3</td>\n",
              "      <td>4</td>\n",
              "      <td>Win</td>\n",
              "    </tr>\n",
              "    <tr>\n",
              "      <th>5</th>\n",
              "      <td>Scotland</td>\n",
              "      <td>Wales</td>\n",
              "      <td>4</td>\n",
              "      <td>0</td>\n",
              "      <td>Friendly</td>\n",
              "      <td>Glasgow</td>\n",
              "      <td>Scotland</td>\n",
              "      <td>1876</td>\n",
              "      <td>3</td>\n",
              "      <td>25</td>\n",
              "      <td>Win</td>\n",
              "    </tr>\n",
              "    <tr>\n",
              "      <th>6</th>\n",
              "      <td>England</td>\n",
              "      <td>Scotland</td>\n",
              "      <td>1</td>\n",
              "      <td>3</td>\n",
              "      <td>Friendly</td>\n",
              "      <td>London</td>\n",
              "      <td>England</td>\n",
              "      <td>1877</td>\n",
              "      <td>3</td>\n",
              "      <td>3</td>\n",
              "      <td>Lose</td>\n",
              "    </tr>\n",
              "    <tr>\n",
              "      <th>7</th>\n",
              "      <td>Wales</td>\n",
              "      <td>Scotland</td>\n",
              "      <td>0</td>\n",
              "      <td>2</td>\n",
              "      <td>Friendly</td>\n",
              "      <td>Wrexham</td>\n",
              "      <td>Wales</td>\n",
              "      <td>1877</td>\n",
              "      <td>3</td>\n",
              "      <td>5</td>\n",
              "      <td>Lose</td>\n",
              "    </tr>\n",
              "    <tr>\n",
              "      <th>8</th>\n",
              "      <td>Scotland</td>\n",
              "      <td>England</td>\n",
              "      <td>7</td>\n",
              "      <td>2</td>\n",
              "      <td>Friendly</td>\n",
              "      <td>Glasgow</td>\n",
              "      <td>Scotland</td>\n",
              "      <td>1878</td>\n",
              "      <td>3</td>\n",
              "      <td>2</td>\n",
              "      <td>Win</td>\n",
              "    </tr>\n",
              "    <tr>\n",
              "      <th>9</th>\n",
              "      <td>Scotland</td>\n",
              "      <td>Wales</td>\n",
              "      <td>9</td>\n",
              "      <td>0</td>\n",
              "      <td>Friendly</td>\n",
              "      <td>Glasgow</td>\n",
              "      <td>Scotland</td>\n",
              "      <td>1878</td>\n",
              "      <td>3</td>\n",
              "      <td>23</td>\n",
              "      <td>Win</td>\n",
              "    </tr>\n",
              "  </tbody>\n",
              "</table>\n",
              "</div>"
            ],
            "text/plain": [
              "  home_team away_team  home_score  away_score  ...  year month day  outcome\n",
              "0  Scotland   England           0           0  ...  1872    11  30     Draw\n",
              "1   England  Scotland           4           2  ...  1873     3   8      Win\n",
              "2  Scotland   England           2           1  ...  1874     3   7      Win\n",
              "3   England  Scotland           2           2  ...  1875     3   6     Draw\n",
              "4  Scotland   England           3           0  ...  1876     3   4      Win\n",
              "5  Scotland     Wales           4           0  ...  1876     3  25      Win\n",
              "6   England  Scotland           1           3  ...  1877     3   3     Lose\n",
              "7     Wales  Scotland           0           2  ...  1877     3   5     Lose\n",
              "8  Scotland   England           7           2  ...  1878     3   2      Win\n",
              "9  Scotland     Wales           9           0  ...  1878     3  23      Win\n",
              "\n",
              "[10 rows x 11 columns]"
            ]
          },
          "metadata": {
            "tags": []
          },
          "execution_count": 20
        }
      ]
    },
    {
      "cell_type": "code",
      "metadata": {
        "id": "LbA4yN_mjFXo"
      },
      "source": [
        "#Ill then split the rank_date column into day, month and year in the fifa_ranking dataset\n",
        "df_1['year'] = pd.DatetimeIndex(df_1['rank_date']).year\n",
        "df_1['month'] = pd.DatetimeIndex(df_1['rank_date']).month\n",
        "df_1['day'] = pd.DatetimeIndex(df_1['rank_date']).day\n"
      ],
      "execution_count": 21,
      "outputs": []
    },
    {
      "cell_type": "code",
      "metadata": {
        "colab": {
          "base_uri": "https://localhost:8080/",
          "height": 272
        },
        "id": "VJLjJyl7l1hm",
        "outputId": "90e0ce67-b2f8-4c42-af93-505a43358b5f"
      },
      "source": [
        "#ILl then confirm if the date has been split.\n",
        "df_1.head(6)"
      ],
      "execution_count": 22,
      "outputs": [
        {
          "output_type": "execute_result",
          "data": {
            "text/html": [
              "<div>\n",
              "<style scoped>\n",
              "    .dataframe tbody tr th:only-of-type {\n",
              "        vertical-align: middle;\n",
              "    }\n",
              "\n",
              "    .dataframe tbody tr th {\n",
              "        vertical-align: top;\n",
              "    }\n",
              "\n",
              "    .dataframe thead th {\n",
              "        text-align: right;\n",
              "    }\n",
              "</style>\n",
              "<table border=\"1\" class=\"dataframe\">\n",
              "  <thead>\n",
              "    <tr style=\"text-align: right;\">\n",
              "      <th></th>\n",
              "      <th>rank</th>\n",
              "      <th>country_full</th>\n",
              "      <th>country_abrv</th>\n",
              "      <th>total_points</th>\n",
              "      <th>previous_points</th>\n",
              "      <th>rank_change</th>\n",
              "      <th>cur_year_avg</th>\n",
              "      <th>cur_year_avg_weighted</th>\n",
              "      <th>last_year_avg</th>\n",
              "      <th>last_year_avg_weighted</th>\n",
              "      <th>two_year_ago_avg</th>\n",
              "      <th>two_year_ago_weighted</th>\n",
              "      <th>three_year_ago_avg</th>\n",
              "      <th>three_year_ago_weighted</th>\n",
              "      <th>confederation</th>\n",
              "      <th>rank_date</th>\n",
              "      <th>year</th>\n",
              "      <th>month</th>\n",
              "      <th>day</th>\n",
              "    </tr>\n",
              "  </thead>\n",
              "  <tbody>\n",
              "    <tr>\n",
              "      <th>0</th>\n",
              "      <td>1</td>\n",
              "      <td>Germany</td>\n",
              "      <td>GER</td>\n",
              "      <td>0.0</td>\n",
              "      <td>57</td>\n",
              "      <td>0</td>\n",
              "      <td>0.0</td>\n",
              "      <td>0.0</td>\n",
              "      <td>0.0</td>\n",
              "      <td>0.0</td>\n",
              "      <td>0.0</td>\n",
              "      <td>0.0</td>\n",
              "      <td>0.0</td>\n",
              "      <td>0.0</td>\n",
              "      <td>UEFA</td>\n",
              "      <td>1993-08-08</td>\n",
              "      <td>1993</td>\n",
              "      <td>8</td>\n",
              "      <td>8</td>\n",
              "    </tr>\n",
              "    <tr>\n",
              "      <th>1</th>\n",
              "      <td>2</td>\n",
              "      <td>Italy</td>\n",
              "      <td>ITA</td>\n",
              "      <td>0.0</td>\n",
              "      <td>57</td>\n",
              "      <td>0</td>\n",
              "      <td>0.0</td>\n",
              "      <td>0.0</td>\n",
              "      <td>0.0</td>\n",
              "      <td>0.0</td>\n",
              "      <td>0.0</td>\n",
              "      <td>0.0</td>\n",
              "      <td>0.0</td>\n",
              "      <td>0.0</td>\n",
              "      <td>UEFA</td>\n",
              "      <td>1993-08-08</td>\n",
              "      <td>1993</td>\n",
              "      <td>8</td>\n",
              "      <td>8</td>\n",
              "    </tr>\n",
              "    <tr>\n",
              "      <th>2</th>\n",
              "      <td>3</td>\n",
              "      <td>Switzerland</td>\n",
              "      <td>SUI</td>\n",
              "      <td>0.0</td>\n",
              "      <td>50</td>\n",
              "      <td>9</td>\n",
              "      <td>0.0</td>\n",
              "      <td>0.0</td>\n",
              "      <td>0.0</td>\n",
              "      <td>0.0</td>\n",
              "      <td>0.0</td>\n",
              "      <td>0.0</td>\n",
              "      <td>0.0</td>\n",
              "      <td>0.0</td>\n",
              "      <td>UEFA</td>\n",
              "      <td>1993-08-08</td>\n",
              "      <td>1993</td>\n",
              "      <td>8</td>\n",
              "      <td>8</td>\n",
              "    </tr>\n",
              "    <tr>\n",
              "      <th>3</th>\n",
              "      <td>4</td>\n",
              "      <td>Sweden</td>\n",
              "      <td>SWE</td>\n",
              "      <td>0.0</td>\n",
              "      <td>55</td>\n",
              "      <td>0</td>\n",
              "      <td>0.0</td>\n",
              "      <td>0.0</td>\n",
              "      <td>0.0</td>\n",
              "      <td>0.0</td>\n",
              "      <td>0.0</td>\n",
              "      <td>0.0</td>\n",
              "      <td>0.0</td>\n",
              "      <td>0.0</td>\n",
              "      <td>UEFA</td>\n",
              "      <td>1993-08-08</td>\n",
              "      <td>1993</td>\n",
              "      <td>8</td>\n",
              "      <td>8</td>\n",
              "    </tr>\n",
              "    <tr>\n",
              "      <th>4</th>\n",
              "      <td>5</td>\n",
              "      <td>Argentina</td>\n",
              "      <td>ARG</td>\n",
              "      <td>0.0</td>\n",
              "      <td>51</td>\n",
              "      <td>5</td>\n",
              "      <td>0.0</td>\n",
              "      <td>0.0</td>\n",
              "      <td>0.0</td>\n",
              "      <td>0.0</td>\n",
              "      <td>0.0</td>\n",
              "      <td>0.0</td>\n",
              "      <td>0.0</td>\n",
              "      <td>0.0</td>\n",
              "      <td>CONMEBOL</td>\n",
              "      <td>1993-08-08</td>\n",
              "      <td>1993</td>\n",
              "      <td>8</td>\n",
              "      <td>8</td>\n",
              "    </tr>\n",
              "    <tr>\n",
              "      <th>5</th>\n",
              "      <td>6</td>\n",
              "      <td>Republic of Ireland</td>\n",
              "      <td>IRL</td>\n",
              "      <td>0.0</td>\n",
              "      <td>54</td>\n",
              "      <td>0</td>\n",
              "      <td>0.0</td>\n",
              "      <td>0.0</td>\n",
              "      <td>0.0</td>\n",
              "      <td>0.0</td>\n",
              "      <td>0.0</td>\n",
              "      <td>0.0</td>\n",
              "      <td>0.0</td>\n",
              "      <td>0.0</td>\n",
              "      <td>UEFA</td>\n",
              "      <td>1993-08-08</td>\n",
              "      <td>1993</td>\n",
              "      <td>8</td>\n",
              "      <td>8</td>\n",
              "    </tr>\n",
              "  </tbody>\n",
              "</table>\n",
              "</div>"
            ],
            "text/plain": [
              "   rank         country_full country_abrv  ...  year  month  day\n",
              "0     1              Germany          GER  ...  1993      8    8\n",
              "1     2                Italy          ITA  ...  1993      8    8\n",
              "2     3          Switzerland          SUI  ...  1993      8    8\n",
              "3     4               Sweden          SWE  ...  1993      8    8\n",
              "4     5            Argentina          ARG  ...  1993      8    8\n",
              "5     6  Republic of Ireland          IRL  ...  1993      8    8\n",
              "\n",
              "[6 rows x 19 columns]"
            ]
          },
          "metadata": {
            "tags": []
          },
          "execution_count": 22
        }
      ]
    },
    {
      "cell_type": "code",
      "metadata": {
        "id": "urnscrsAqXSo"
      },
      "source": [
        "#Ill then drop unnecessary columns in fifa_ranking dataset\n",
        "df_1.drop(['country_abrv','rank_date', 'total_points', 'cur_year_avg', 'cur_year_avg_weighted' ,'last_year_avg' , 'last_year_avg_weighted' , 'two_year_ago_avg', 'two_year_ago_weighted', 'three_year_ago_avg' ,'three_year_ago_weighted', 'confederation'], axis =1, inplace = True)"
      ],
      "execution_count": 23,
      "outputs": []
    },
    {
      "cell_type": "code",
      "metadata": {
        "colab": {
          "base_uri": "https://localhost:8080/",
          "height": 204
        },
        "id": "h__tPRgLrNHY",
        "outputId": "33373c01-50c9-440f-d6aa-7db81bdd1e13"
      },
      "source": [
        "#Ill then preview the dataset to see if they have been dropped\n",
        "df_1.head()"
      ],
      "execution_count": 24,
      "outputs": [
        {
          "output_type": "execute_result",
          "data": {
            "text/html": [
              "<div>\n",
              "<style scoped>\n",
              "    .dataframe tbody tr th:only-of-type {\n",
              "        vertical-align: middle;\n",
              "    }\n",
              "\n",
              "    .dataframe tbody tr th {\n",
              "        vertical-align: top;\n",
              "    }\n",
              "\n",
              "    .dataframe thead th {\n",
              "        text-align: right;\n",
              "    }\n",
              "</style>\n",
              "<table border=\"1\" class=\"dataframe\">\n",
              "  <thead>\n",
              "    <tr style=\"text-align: right;\">\n",
              "      <th></th>\n",
              "      <th>rank</th>\n",
              "      <th>country_full</th>\n",
              "      <th>previous_points</th>\n",
              "      <th>rank_change</th>\n",
              "      <th>year</th>\n",
              "      <th>month</th>\n",
              "      <th>day</th>\n",
              "    </tr>\n",
              "  </thead>\n",
              "  <tbody>\n",
              "    <tr>\n",
              "      <th>0</th>\n",
              "      <td>1</td>\n",
              "      <td>Germany</td>\n",
              "      <td>57</td>\n",
              "      <td>0</td>\n",
              "      <td>1993</td>\n",
              "      <td>8</td>\n",
              "      <td>8</td>\n",
              "    </tr>\n",
              "    <tr>\n",
              "      <th>1</th>\n",
              "      <td>2</td>\n",
              "      <td>Italy</td>\n",
              "      <td>57</td>\n",
              "      <td>0</td>\n",
              "      <td>1993</td>\n",
              "      <td>8</td>\n",
              "      <td>8</td>\n",
              "    </tr>\n",
              "    <tr>\n",
              "      <th>2</th>\n",
              "      <td>3</td>\n",
              "      <td>Switzerland</td>\n",
              "      <td>50</td>\n",
              "      <td>9</td>\n",
              "      <td>1993</td>\n",
              "      <td>8</td>\n",
              "      <td>8</td>\n",
              "    </tr>\n",
              "    <tr>\n",
              "      <th>3</th>\n",
              "      <td>4</td>\n",
              "      <td>Sweden</td>\n",
              "      <td>55</td>\n",
              "      <td>0</td>\n",
              "      <td>1993</td>\n",
              "      <td>8</td>\n",
              "      <td>8</td>\n",
              "    </tr>\n",
              "    <tr>\n",
              "      <th>4</th>\n",
              "      <td>5</td>\n",
              "      <td>Argentina</td>\n",
              "      <td>51</td>\n",
              "      <td>5</td>\n",
              "      <td>1993</td>\n",
              "      <td>8</td>\n",
              "      <td>8</td>\n",
              "    </tr>\n",
              "  </tbody>\n",
              "</table>\n",
              "</div>"
            ],
            "text/plain": [
              "   rank country_full  previous_points  rank_change  year  month  day\n",
              "0     1      Germany               57            0  1993      8    8\n",
              "1     2        Italy               57            0  1993      8    8\n",
              "2     3  Switzerland               50            9  1993      8    8\n",
              "3     4       Sweden               55            0  1993      8    8\n",
              "4     5    Argentina               51            5  1993      8    8"
            ]
          },
          "metadata": {
            "tags": []
          },
          "execution_count": 24
        }
      ]
    },
    {
      "cell_type": "code",
      "metadata": {
        "colab": {
          "base_uri": "https://localhost:8080/",
          "height": 419
        },
        "id": "I6mZTs3FrOJP",
        "outputId": "54f0863b-7966-4736-d1c6-e401dade1366"
      },
      "source": [
        "#Ill then drop the rank change in the dataset\n",
        "df_1.drop(['rank_change'],axis=1)"
      ],
      "execution_count": 25,
      "outputs": [
        {
          "output_type": "execute_result",
          "data": {
            "text/html": [
              "<div>\n",
              "<style scoped>\n",
              "    .dataframe tbody tr th:only-of-type {\n",
              "        vertical-align: middle;\n",
              "    }\n",
              "\n",
              "    .dataframe tbody tr th {\n",
              "        vertical-align: top;\n",
              "    }\n",
              "\n",
              "    .dataframe thead th {\n",
              "        text-align: right;\n",
              "    }\n",
              "</style>\n",
              "<table border=\"1\" class=\"dataframe\">\n",
              "  <thead>\n",
              "    <tr style=\"text-align: right;\">\n",
              "      <th></th>\n",
              "      <th>rank</th>\n",
              "      <th>country_full</th>\n",
              "      <th>previous_points</th>\n",
              "      <th>year</th>\n",
              "      <th>month</th>\n",
              "      <th>day</th>\n",
              "    </tr>\n",
              "  </thead>\n",
              "  <tbody>\n",
              "    <tr>\n",
              "      <th>0</th>\n",
              "      <td>1</td>\n",
              "      <td>Germany</td>\n",
              "      <td>57</td>\n",
              "      <td>1993</td>\n",
              "      <td>8</td>\n",
              "      <td>8</td>\n",
              "    </tr>\n",
              "    <tr>\n",
              "      <th>1</th>\n",
              "      <td>2</td>\n",
              "      <td>Italy</td>\n",
              "      <td>57</td>\n",
              "      <td>1993</td>\n",
              "      <td>8</td>\n",
              "      <td>8</td>\n",
              "    </tr>\n",
              "    <tr>\n",
              "      <th>2</th>\n",
              "      <td>3</td>\n",
              "      <td>Switzerland</td>\n",
              "      <td>50</td>\n",
              "      <td>1993</td>\n",
              "      <td>8</td>\n",
              "      <td>8</td>\n",
              "    </tr>\n",
              "    <tr>\n",
              "      <th>3</th>\n",
              "      <td>4</td>\n",
              "      <td>Sweden</td>\n",
              "      <td>55</td>\n",
              "      <td>1993</td>\n",
              "      <td>8</td>\n",
              "      <td>8</td>\n",
              "    </tr>\n",
              "    <tr>\n",
              "      <th>4</th>\n",
              "      <td>5</td>\n",
              "      <td>Argentina</td>\n",
              "      <td>51</td>\n",
              "      <td>1993</td>\n",
              "      <td>8</td>\n",
              "      <td>8</td>\n",
              "    </tr>\n",
              "    <tr>\n",
              "      <th>...</th>\n",
              "      <td>...</td>\n",
              "      <td>...</td>\n",
              "      <td>...</td>\n",
              "      <td>...</td>\n",
              "      <td>...</td>\n",
              "      <td>...</td>\n",
              "    </tr>\n",
              "    <tr>\n",
              "      <th>57788</th>\n",
              "      <td>206</td>\n",
              "      <td>Anguilla</td>\n",
              "      <td>0</td>\n",
              "      <td>2018</td>\n",
              "      <td>6</td>\n",
              "      <td>7</td>\n",
              "    </tr>\n",
              "    <tr>\n",
              "      <th>57789</th>\n",
              "      <td>206</td>\n",
              "      <td>Bahamas</td>\n",
              "      <td>0</td>\n",
              "      <td>2018</td>\n",
              "      <td>6</td>\n",
              "      <td>7</td>\n",
              "    </tr>\n",
              "    <tr>\n",
              "      <th>57790</th>\n",
              "      <td>206</td>\n",
              "      <td>Eritrea</td>\n",
              "      <td>0</td>\n",
              "      <td>2018</td>\n",
              "      <td>6</td>\n",
              "      <td>7</td>\n",
              "    </tr>\n",
              "    <tr>\n",
              "      <th>57791</th>\n",
              "      <td>206</td>\n",
              "      <td>Somalia</td>\n",
              "      <td>0</td>\n",
              "      <td>2018</td>\n",
              "      <td>6</td>\n",
              "      <td>7</td>\n",
              "    </tr>\n",
              "    <tr>\n",
              "      <th>57792</th>\n",
              "      <td>206</td>\n",
              "      <td>Tonga</td>\n",
              "      <td>0</td>\n",
              "      <td>2018</td>\n",
              "      <td>6</td>\n",
              "      <td>7</td>\n",
              "    </tr>\n",
              "  </tbody>\n",
              "</table>\n",
              "<p>57793 rows × 6 columns</p>\n",
              "</div>"
            ],
            "text/plain": [
              "       rank country_full  previous_points  year  month  day\n",
              "0         1      Germany               57  1993      8    8\n",
              "1         2        Italy               57  1993      8    8\n",
              "2         3  Switzerland               50  1993      8    8\n",
              "3         4       Sweden               55  1993      8    8\n",
              "4         5    Argentina               51  1993      8    8\n",
              "...     ...          ...              ...   ...    ...  ...\n",
              "57788   206     Anguilla                0  2018      6    7\n",
              "57789   206      Bahamas                0  2018      6    7\n",
              "57790   206      Eritrea                0  2018      6    7\n",
              "57791   206      Somalia                0  2018      6    7\n",
              "57792   206        Tonga                0  2018      6    7\n",
              "\n",
              "[57793 rows x 6 columns]"
            ]
          },
          "metadata": {
            "tags": []
          },
          "execution_count": 25
        }
      ]
    },
    {
      "cell_type": "markdown",
      "metadata": {
        "id": "v9g8668jT1lD"
      },
      "source": [
        "**Filtering out the dataset**"
      ]
    },
    {
      "cell_type": "code",
      "metadata": {
        "colab": {
          "base_uri": "https://localhost:8080/",
          "height": 204
        },
        "id": "A7kyrrHgT5cc",
        "outputId": "386f6023-caa8-42ca-fccf-744cc5ae4bda"
      },
      "source": [
        "df_2.head()"
      ],
      "execution_count": 26,
      "outputs": [
        {
          "output_type": "execute_result",
          "data": {
            "text/html": [
              "<div>\n",
              "<style scoped>\n",
              "    .dataframe tbody tr th:only-of-type {\n",
              "        vertical-align: middle;\n",
              "    }\n",
              "\n",
              "    .dataframe tbody tr th {\n",
              "        vertical-align: top;\n",
              "    }\n",
              "\n",
              "    .dataframe thead th {\n",
              "        text-align: right;\n",
              "    }\n",
              "</style>\n",
              "<table border=\"1\" class=\"dataframe\">\n",
              "  <thead>\n",
              "    <tr style=\"text-align: right;\">\n",
              "      <th></th>\n",
              "      <th>home_team</th>\n",
              "      <th>away_team</th>\n",
              "      <th>home_score</th>\n",
              "      <th>away_score</th>\n",
              "      <th>tournament</th>\n",
              "      <th>city</th>\n",
              "      <th>country</th>\n",
              "      <th>year</th>\n",
              "      <th>month</th>\n",
              "      <th>day</th>\n",
              "      <th>outcome</th>\n",
              "    </tr>\n",
              "  </thead>\n",
              "  <tbody>\n",
              "    <tr>\n",
              "      <th>0</th>\n",
              "      <td>Scotland</td>\n",
              "      <td>England</td>\n",
              "      <td>0</td>\n",
              "      <td>0</td>\n",
              "      <td>Friendly</td>\n",
              "      <td>Glasgow</td>\n",
              "      <td>Scotland</td>\n",
              "      <td>1872</td>\n",
              "      <td>11</td>\n",
              "      <td>30</td>\n",
              "      <td>Draw</td>\n",
              "    </tr>\n",
              "    <tr>\n",
              "      <th>1</th>\n",
              "      <td>England</td>\n",
              "      <td>Scotland</td>\n",
              "      <td>4</td>\n",
              "      <td>2</td>\n",
              "      <td>Friendly</td>\n",
              "      <td>London</td>\n",
              "      <td>England</td>\n",
              "      <td>1873</td>\n",
              "      <td>3</td>\n",
              "      <td>8</td>\n",
              "      <td>Win</td>\n",
              "    </tr>\n",
              "    <tr>\n",
              "      <th>2</th>\n",
              "      <td>Scotland</td>\n",
              "      <td>England</td>\n",
              "      <td>2</td>\n",
              "      <td>1</td>\n",
              "      <td>Friendly</td>\n",
              "      <td>Glasgow</td>\n",
              "      <td>Scotland</td>\n",
              "      <td>1874</td>\n",
              "      <td>3</td>\n",
              "      <td>7</td>\n",
              "      <td>Win</td>\n",
              "    </tr>\n",
              "    <tr>\n",
              "      <th>3</th>\n",
              "      <td>England</td>\n",
              "      <td>Scotland</td>\n",
              "      <td>2</td>\n",
              "      <td>2</td>\n",
              "      <td>Friendly</td>\n",
              "      <td>London</td>\n",
              "      <td>England</td>\n",
              "      <td>1875</td>\n",
              "      <td>3</td>\n",
              "      <td>6</td>\n",
              "      <td>Draw</td>\n",
              "    </tr>\n",
              "    <tr>\n",
              "      <th>4</th>\n",
              "      <td>Scotland</td>\n",
              "      <td>England</td>\n",
              "      <td>3</td>\n",
              "      <td>0</td>\n",
              "      <td>Friendly</td>\n",
              "      <td>Glasgow</td>\n",
              "      <td>Scotland</td>\n",
              "      <td>1876</td>\n",
              "      <td>3</td>\n",
              "      <td>4</td>\n",
              "      <td>Win</td>\n",
              "    </tr>\n",
              "  </tbody>\n",
              "</table>\n",
              "</div>"
            ],
            "text/plain": [
              "  home_team away_team  home_score  away_score  ...  year month day  outcome\n",
              "0  Scotland   England           0           0  ...  1872    11  30     Draw\n",
              "1   England  Scotland           4           2  ...  1873     3   8      Win\n",
              "2  Scotland   England           2           1  ...  1874     3   7      Win\n",
              "3   England  Scotland           2           2  ...  1875     3   6     Draw\n",
              "4  Scotland   England           3           0  ...  1876     3   4      Win\n",
              "\n",
              "[5 rows x 11 columns]"
            ]
          },
          "metadata": {
            "tags": []
          },
          "execution_count": 26
        }
      ]
    },
    {
      "cell_type": "code",
      "metadata": {
        "colab": {
          "base_uri": "https://localhost:8080/"
        },
        "id": "pddQ4KQVVbPT",
        "outputId": "a78b6692-2e1c-415a-d697-062d43271097"
      },
      "source": [
        "#Checking for unique values in the tournament column\n",
        "df_2.tournament.unique()\n",
        "#Ill work with relevant tournament fields"
      ],
      "execution_count": 27,
      "outputs": [
        {
          "output_type": "execute_result",
          "data": {
            "text/plain": [
              "array(['Friendly', 'British Championship', 'Copa Lipton', 'Copa Newton',\n",
              "       'Copa Premio Honor Argentino', 'Copa Premio Honor Uruguayo',\n",
              "       'Copa Roca', 'Copa América', 'Copa Chevallier Boutell',\n",
              "       'Nordic Championship', 'International Cup', 'Baltic Cup',\n",
              "       'Balkan Cup', 'FIFA World Cup', 'Copa Rio Branco',\n",
              "       'FIFA World Cup qualification', 'CCCF Championship',\n",
              "       'NAFU Championship', 'Copa Oswaldo Cruz',\n",
              "       'Pan American Championship', 'Copa del Pacífico',\n",
              "       \"Copa Bernardo O'Higgins\", 'AFC Asian Cup qualification',\n",
              "       'Atlantic Cup', 'AFC Asian Cup', 'African Cup of Nations',\n",
              "       'Copa Paz del Chaco', 'UEFA Euro qualification', 'UEFA Euro',\n",
              "       'Merdeka Tournament', 'Windward Islands Tournament',\n",
              "       'African Cup of Nations qualification', 'Vietnam Independence Cup',\n",
              "       'Copa Carlos Dittborn', 'Copa Juan Pinto Durán', 'UAFA Cup',\n",
              "       'CONCACAF Championship', 'South Pacific Games',\n",
              "       'CONCACAF Championship qualification', 'Copa Artigas', 'GaNEFo',\n",
              "       \"King's Cup\", 'Gulf Cup', 'Indonesia Tournament', 'Korea Cup',\n",
              "       'Brazil Independence Cup', 'Copa Ramón Castilla',\n",
              "       'Oceania Nations Cup', 'CECAFA Cup', 'Copa Félix Bogado',\n",
              "       'Kirin Cup', 'CFU Caribbean Cup qualification',\n",
              "       'CFU Caribbean Cup', 'Amílcar Cabral Cup', 'Mundialito',\n",
              "       'West African Cup', 'Nehru Cup', 'Merlion Cup', 'UDEAC Cup',\n",
              "       'Rous Cup', 'Tournoi de France', 'Malta International Tournament',\n",
              "       'Lunar New Year Cup', 'Island Games', 'Dynasty Cup', 'UNCAF Cup',\n",
              "       'Gold Cup', 'USA Cup', 'Jordan International Tournament',\n",
              "       'Confederations Cup', 'United Arab Emirates Friendship Tournament',\n",
              "       'Oceania Nations Cup qualification', 'Simba Tournament',\n",
              "       'SAFF Cup', 'AFF Championship', 'King Hassan II Tournament',\n",
              "       'Cyprus International Tournament', 'Dunhill Cup', 'COSAFA Cup',\n",
              "       'Gold Cup qualification', 'SKN Football Festival', 'UNIFFAC Cup',\n",
              "       'WAFF Championship', 'Millennium Cup', \"Prime Minister's Cup\",\n",
              "       'EAFF Championship', 'AFC Challenge Cup', 'FIFI Wild Cup',\n",
              "       'Viva World Cup', 'ELF Cup', 'UAFA Cup qualification',\n",
              "       'AFC Challenge Cup qualification', 'VFF Cup', 'ABCS Tournament',\n",
              "       'Nile Basin Tournament', 'Nations Cup', 'Pacific Games',\n",
              "       'African Nations Championship', 'OSN Cup',\n",
              "       'CONIFA World Football Cup', 'CONIFA European Football Cup',\n",
              "       'Copa América qualification', 'World Unity Cup',\n",
              "       'Intercontinental Cup', 'UEFA Nations League',\n",
              "       'AFF Championship qualification', 'Atlantic Heritage Cup',\n",
              "       'Inter Games Football Tournament'], dtype=object)"
            ]
          },
          "metadata": {
            "tags": []
          },
          "execution_count": 27
        }
      ]
    },
    {
      "cell_type": "code",
      "metadata": {
        "colab": {
          "base_uri": "https://localhost:8080/",
          "height": 204
        },
        "id": "k2EnSWtYW4Md",
        "outputId": "84dc72de-f457-4d27-bd6e-9f4f1a4ca889"
      },
      "source": [
        "#Ill then create a function that will hold an algorithim for selected tournament type\n",
        "def excluding(tournament):\n",
        "  if tournament == 'Friendly':\n",
        "    return 'Friendly'\n",
        "  elif tournament == 'FIFA World Cup':\n",
        "    return 'World Cup'\n",
        "  else:\n",
        "    return 'Other'\n",
        "\n",
        "df_2['tournament'] = df_2.tournament.apply(lambda x: excluding(x))\n",
        "df_2.head()"
      ],
      "execution_count": 28,
      "outputs": [
        {
          "output_type": "execute_result",
          "data": {
            "text/html": [
              "<div>\n",
              "<style scoped>\n",
              "    .dataframe tbody tr th:only-of-type {\n",
              "        vertical-align: middle;\n",
              "    }\n",
              "\n",
              "    .dataframe tbody tr th {\n",
              "        vertical-align: top;\n",
              "    }\n",
              "\n",
              "    .dataframe thead th {\n",
              "        text-align: right;\n",
              "    }\n",
              "</style>\n",
              "<table border=\"1\" class=\"dataframe\">\n",
              "  <thead>\n",
              "    <tr style=\"text-align: right;\">\n",
              "      <th></th>\n",
              "      <th>home_team</th>\n",
              "      <th>away_team</th>\n",
              "      <th>home_score</th>\n",
              "      <th>away_score</th>\n",
              "      <th>tournament</th>\n",
              "      <th>city</th>\n",
              "      <th>country</th>\n",
              "      <th>year</th>\n",
              "      <th>month</th>\n",
              "      <th>day</th>\n",
              "      <th>outcome</th>\n",
              "    </tr>\n",
              "  </thead>\n",
              "  <tbody>\n",
              "    <tr>\n",
              "      <th>0</th>\n",
              "      <td>Scotland</td>\n",
              "      <td>England</td>\n",
              "      <td>0</td>\n",
              "      <td>0</td>\n",
              "      <td>Friendly</td>\n",
              "      <td>Glasgow</td>\n",
              "      <td>Scotland</td>\n",
              "      <td>1872</td>\n",
              "      <td>11</td>\n",
              "      <td>30</td>\n",
              "      <td>Draw</td>\n",
              "    </tr>\n",
              "    <tr>\n",
              "      <th>1</th>\n",
              "      <td>England</td>\n",
              "      <td>Scotland</td>\n",
              "      <td>4</td>\n",
              "      <td>2</td>\n",
              "      <td>Friendly</td>\n",
              "      <td>London</td>\n",
              "      <td>England</td>\n",
              "      <td>1873</td>\n",
              "      <td>3</td>\n",
              "      <td>8</td>\n",
              "      <td>Win</td>\n",
              "    </tr>\n",
              "    <tr>\n",
              "      <th>2</th>\n",
              "      <td>Scotland</td>\n",
              "      <td>England</td>\n",
              "      <td>2</td>\n",
              "      <td>1</td>\n",
              "      <td>Friendly</td>\n",
              "      <td>Glasgow</td>\n",
              "      <td>Scotland</td>\n",
              "      <td>1874</td>\n",
              "      <td>3</td>\n",
              "      <td>7</td>\n",
              "      <td>Win</td>\n",
              "    </tr>\n",
              "    <tr>\n",
              "      <th>3</th>\n",
              "      <td>England</td>\n",
              "      <td>Scotland</td>\n",
              "      <td>2</td>\n",
              "      <td>2</td>\n",
              "      <td>Friendly</td>\n",
              "      <td>London</td>\n",
              "      <td>England</td>\n",
              "      <td>1875</td>\n",
              "      <td>3</td>\n",
              "      <td>6</td>\n",
              "      <td>Draw</td>\n",
              "    </tr>\n",
              "    <tr>\n",
              "      <th>4</th>\n",
              "      <td>Scotland</td>\n",
              "      <td>England</td>\n",
              "      <td>3</td>\n",
              "      <td>0</td>\n",
              "      <td>Friendly</td>\n",
              "      <td>Glasgow</td>\n",
              "      <td>Scotland</td>\n",
              "      <td>1876</td>\n",
              "      <td>3</td>\n",
              "      <td>4</td>\n",
              "      <td>Win</td>\n",
              "    </tr>\n",
              "  </tbody>\n",
              "</table>\n",
              "</div>"
            ],
            "text/plain": [
              "  home_team away_team  home_score  away_score  ...  year month day  outcome\n",
              "0  Scotland   England           0           0  ...  1872    11  30     Draw\n",
              "1   England  Scotland           4           2  ...  1873     3   8      Win\n",
              "2  Scotland   England           2           1  ...  1874     3   7      Win\n",
              "3   England  Scotland           2           2  ...  1875     3   6     Draw\n",
              "4  Scotland   England           3           0  ...  1876     3   4      Win\n",
              "\n",
              "[5 rows x 11 columns]"
            ]
          },
          "metadata": {
            "tags": []
          },
          "execution_count": 28
        }
      ]
    },
    {
      "cell_type": "code",
      "metadata": {
        "colab": {
          "base_uri": "https://localhost:8080/"
        },
        "id": "OvXtW87SeFxb",
        "outputId": "8ffd204a-3c9b-48c7-cf2b-99275197db00"
      },
      "source": [
        "#Ill then confirm the unique tournaments\n",
        "filtered_results_df = df_2.tournament.unique()\n",
        "filtered_results_df"
      ],
      "execution_count": 32,
      "outputs": [
        {
          "output_type": "execute_result",
          "data": {
            "text/plain": [
              "array(['Friendly', 'Other', 'World Cup'], dtype=object)"
            ]
          },
          "metadata": {
            "tags": []
          },
          "execution_count": 32
        }
      ]
    },
    {
      "cell_type": "code",
      "metadata": {
        "colab": {
          "base_uri": "https://localhost:8080/",
          "height": 224
        },
        "id": "3ZRhkiI6Xn3i",
        "outputId": "2919fe96-a3b7-4b51-cee1-86a333e7174c"
      },
      "source": [
        "#Ill also filter out the years in results dataset\n",
        "filtered_results_df = df_2[df_2['year'].between(2006,2018, inclusive=True)]\n",
        "filtered_results_df.head()\n"
      ],
      "execution_count": 33,
      "outputs": [
        {
          "output_type": "execute_result",
          "data": {
            "text/html": [
              "<div>\n",
              "<style scoped>\n",
              "    .dataframe tbody tr th:only-of-type {\n",
              "        vertical-align: middle;\n",
              "    }\n",
              "\n",
              "    .dataframe tbody tr th {\n",
              "        vertical-align: top;\n",
              "    }\n",
              "\n",
              "    .dataframe thead th {\n",
              "        text-align: right;\n",
              "    }\n",
              "</style>\n",
              "<table border=\"1\" class=\"dataframe\">\n",
              "  <thead>\n",
              "    <tr style=\"text-align: right;\">\n",
              "      <th></th>\n",
              "      <th>home_team</th>\n",
              "      <th>away_team</th>\n",
              "      <th>home_score</th>\n",
              "      <th>away_score</th>\n",
              "      <th>tournament</th>\n",
              "      <th>city</th>\n",
              "      <th>country</th>\n",
              "      <th>year</th>\n",
              "      <th>month</th>\n",
              "      <th>day</th>\n",
              "      <th>outcome</th>\n",
              "    </tr>\n",
              "  </thead>\n",
              "  <tbody>\n",
              "    <tr>\n",
              "      <th>28033</th>\n",
              "      <td>Qatar</td>\n",
              "      <td>Libya</td>\n",
              "      <td>2</td>\n",
              "      <td>0</td>\n",
              "      <td>Friendly</td>\n",
              "      <td>Doha</td>\n",
              "      <td>Qatar</td>\n",
              "      <td>2006</td>\n",
              "      <td>1</td>\n",
              "      <td>2</td>\n",
              "      <td>Win</td>\n",
              "    </tr>\n",
              "    <tr>\n",
              "      <th>28034</th>\n",
              "      <td>Egypt</td>\n",
              "      <td>Zimbabwe</td>\n",
              "      <td>2</td>\n",
              "      <td>0</td>\n",
              "      <td>Friendly</td>\n",
              "      <td>Alexandria</td>\n",
              "      <td>Egypt</td>\n",
              "      <td>2006</td>\n",
              "      <td>1</td>\n",
              "      <td>5</td>\n",
              "      <td>Win</td>\n",
              "    </tr>\n",
              "    <tr>\n",
              "      <th>28036</th>\n",
              "      <td>Morocco</td>\n",
              "      <td>DR Congo</td>\n",
              "      <td>3</td>\n",
              "      <td>0</td>\n",
              "      <td>Friendly</td>\n",
              "      <td>Rabat</td>\n",
              "      <td>Morocco</td>\n",
              "      <td>2006</td>\n",
              "      <td>1</td>\n",
              "      <td>9</td>\n",
              "      <td>Win</td>\n",
              "    </tr>\n",
              "    <tr>\n",
              "      <th>28038</th>\n",
              "      <td>Tunisia</td>\n",
              "      <td>Libya</td>\n",
              "      <td>1</td>\n",
              "      <td>0</td>\n",
              "      <td>Friendly</td>\n",
              "      <td>Tunis</td>\n",
              "      <td>Tunisia</td>\n",
              "      <td>2006</td>\n",
              "      <td>1</td>\n",
              "      <td>12</td>\n",
              "      <td>Win</td>\n",
              "    </tr>\n",
              "    <tr>\n",
              "      <th>28039</th>\n",
              "      <td>Egypt</td>\n",
              "      <td>South Africa</td>\n",
              "      <td>1</td>\n",
              "      <td>2</td>\n",
              "      <td>Friendly</td>\n",
              "      <td>Cairo</td>\n",
              "      <td>Egypt</td>\n",
              "      <td>2006</td>\n",
              "      <td>1</td>\n",
              "      <td>14</td>\n",
              "      <td>Lose</td>\n",
              "    </tr>\n",
              "  </tbody>\n",
              "</table>\n",
              "</div>"
            ],
            "text/plain": [
              "      home_team     away_team  home_score  away_score  ...  year month day  outcome\n",
              "28033     Qatar         Libya           2           0  ...  2006     1   2      Win\n",
              "28034     Egypt      Zimbabwe           2           0  ...  2006     1   5      Win\n",
              "28036   Morocco      DR Congo           3           0  ...  2006     1   9      Win\n",
              "28038   Tunisia         Libya           1           0  ...  2006     1  12      Win\n",
              "28039     Egypt  South Africa           1           2  ...  2006     1  14     Lose\n",
              "\n",
              "[5 rows x 11 columns]"
            ]
          },
          "metadata": {
            "tags": []
          },
          "execution_count": 33
        }
      ]
    },
    {
      "cell_type": "code",
      "metadata": {
        "colab": {
          "base_uri": "https://localhost:8080/"
        },
        "id": "CXolvKXWZq-e",
        "outputId": "8733bbf5-faaa-4ba8-e5b5-44e21ec4fbc3"
      },
      "source": [
        "filtered_results_df.shape\n",
        "#8776 rows and 11 columns"
      ],
      "execution_count": 34,
      "outputs": [
        {
          "output_type": "execute_result",
          "data": {
            "text/plain": [
              "(8776, 11)"
            ]
          },
          "metadata": {
            "tags": []
          },
          "execution_count": 34
        }
      ]
    },
    {
      "cell_type": "code",
      "metadata": {
        "colab": {
          "base_uri": "https://localhost:8080/",
          "height": 204
        },
        "id": "jG69Drnoa-Ad",
        "outputId": "e35aecc2-18c0-422f-d4d4-8e109230a28f"
      },
      "source": [
        "#Ill then filter  out the first dataset in years as well\n",
        "filtered_ranking_df = df_1[df_1['year'].between(2006,2018, inclusive=True)]\n",
        "filtered_ranking_df.head()\n"
      ],
      "execution_count": 35,
      "outputs": [
        {
          "output_type": "execute_result",
          "data": {
            "text/html": [
              "<div>\n",
              "<style scoped>\n",
              "    .dataframe tbody tr th:only-of-type {\n",
              "        vertical-align: middle;\n",
              "    }\n",
              "\n",
              "    .dataframe tbody tr th {\n",
              "        vertical-align: top;\n",
              "    }\n",
              "\n",
              "    .dataframe thead th {\n",
              "        text-align: right;\n",
              "    }\n",
              "</style>\n",
              "<table border=\"1\" class=\"dataframe\">\n",
              "  <thead>\n",
              "    <tr style=\"text-align: right;\">\n",
              "      <th></th>\n",
              "      <th>rank</th>\n",
              "      <th>country_full</th>\n",
              "      <th>previous_points</th>\n",
              "      <th>rank_change</th>\n",
              "      <th>year</th>\n",
              "      <th>month</th>\n",
              "      <th>day</th>\n",
              "    </tr>\n",
              "  </thead>\n",
              "  <tbody>\n",
              "    <tr>\n",
              "      <th>26938</th>\n",
              "      <td>1</td>\n",
              "      <td>Brazil</td>\n",
              "      <td>840</td>\n",
              "      <td>0</td>\n",
              "      <td>2006</td>\n",
              "      <td>1</td>\n",
              "      <td>18</td>\n",
              "    </tr>\n",
              "    <tr>\n",
              "      <th>26939</th>\n",
              "      <td>2</td>\n",
              "      <td>Czech Republic</td>\n",
              "      <td>796</td>\n",
              "      <td>0</td>\n",
              "      <td>2006</td>\n",
              "      <td>1</td>\n",
              "      <td>18</td>\n",
              "    </tr>\n",
              "    <tr>\n",
              "      <th>26940</th>\n",
              "      <td>3</td>\n",
              "      <td>Netherlands</td>\n",
              "      <td>791</td>\n",
              "      <td>0</td>\n",
              "      <td>2006</td>\n",
              "      <td>1</td>\n",
              "      <td>18</td>\n",
              "    </tr>\n",
              "    <tr>\n",
              "      <th>26941</th>\n",
              "      <td>4</td>\n",
              "      <td>Argentina</td>\n",
              "      <td>772</td>\n",
              "      <td>0</td>\n",
              "      <td>2006</td>\n",
              "      <td>1</td>\n",
              "      <td>18</td>\n",
              "    </tr>\n",
              "    <tr>\n",
              "      <th>26942</th>\n",
              "      <td>5</td>\n",
              "      <td>Spain</td>\n",
              "      <td>768</td>\n",
              "      <td>0</td>\n",
              "      <td>2006</td>\n",
              "      <td>1</td>\n",
              "      <td>18</td>\n",
              "    </tr>\n",
              "  </tbody>\n",
              "</table>\n",
              "</div>"
            ],
            "text/plain": [
              "       rank    country_full  previous_points  rank_change  year  month  day\n",
              "26938     1          Brazil              840            0  2006      1   18\n",
              "26939     2  Czech Republic              796            0  2006      1   18\n",
              "26940     3     Netherlands              791            0  2006      1   18\n",
              "26941     4       Argentina              772            0  2006      1   18\n",
              "26942     5           Spain              768            0  2006      1   18"
            ]
          },
          "metadata": {
            "tags": []
          },
          "execution_count": 35
        }
      ]
    },
    {
      "cell_type": "code",
      "metadata": {
        "colab": {
          "base_uri": "https://localhost:8080/"
        },
        "id": "ZbEFmpJ9c0bI",
        "outputId": "e7788e17-75ed-45ff-cb43-2779dc3708e3"
      },
      "source": [
        "filtered_ranking_df.shape"
      ],
      "execution_count": 36,
      "outputs": [
        {
          "output_type": "execute_result",
          "data": {
            "text/plain": [
              "(30855, 7)"
            ]
          },
          "metadata": {
            "tags": []
          },
          "execution_count": 36
        }
      ]
    },
    {
      "cell_type": "markdown",
      "metadata": {
        "id": "QlJZUnkUtcFP"
      },
      "source": [
        "***Merging the datasets***"
      ]
    },
    {
      "cell_type": "code",
      "metadata": {
        "id": "REfzr4FMthMs"
      },
      "source": [
        "#Ill then merge the 2 datasets for analysis and prediction\n",
        "merged = pd.merge(filtered_ranking_df, filtered_results_df, how='left', left_on=['month','year'], right_on=['month', 'year'])\n"
      ],
      "execution_count": 37,
      "outputs": []
    },
    {
      "cell_type": "code",
      "metadata": {
        "colab": {
          "base_uri": "https://localhost:8080/",
          "height": 396
        },
        "id": "xNfhrSZFwaH4",
        "outputId": "dcf8f1ab-9c5a-41ef-99d7-0e6c5f6441d7"
      },
      "source": [
        "#ILl then preview the merged dataset\n",
        "merged.head(10)"
      ],
      "execution_count": 38,
      "outputs": [
        {
          "output_type": "execute_result",
          "data": {
            "text/html": [
              "<div>\n",
              "<style scoped>\n",
              "    .dataframe tbody tr th:only-of-type {\n",
              "        vertical-align: middle;\n",
              "    }\n",
              "\n",
              "    .dataframe tbody tr th {\n",
              "        vertical-align: top;\n",
              "    }\n",
              "\n",
              "    .dataframe thead th {\n",
              "        text-align: right;\n",
              "    }\n",
              "</style>\n",
              "<table border=\"1\" class=\"dataframe\">\n",
              "  <thead>\n",
              "    <tr style=\"text-align: right;\">\n",
              "      <th></th>\n",
              "      <th>rank</th>\n",
              "      <th>country_full</th>\n",
              "      <th>previous_points</th>\n",
              "      <th>rank_change</th>\n",
              "      <th>year</th>\n",
              "      <th>month</th>\n",
              "      <th>day_x</th>\n",
              "      <th>home_team</th>\n",
              "      <th>away_team</th>\n",
              "      <th>home_score</th>\n",
              "      <th>away_score</th>\n",
              "      <th>tournament</th>\n",
              "      <th>city</th>\n",
              "      <th>country</th>\n",
              "      <th>day_y</th>\n",
              "      <th>outcome</th>\n",
              "    </tr>\n",
              "  </thead>\n",
              "  <tbody>\n",
              "    <tr>\n",
              "      <th>0</th>\n",
              "      <td>1</td>\n",
              "      <td>Brazil</td>\n",
              "      <td>840</td>\n",
              "      <td>0</td>\n",
              "      <td>2006</td>\n",
              "      <td>1</td>\n",
              "      <td>18</td>\n",
              "      <td>Qatar</td>\n",
              "      <td>Libya</td>\n",
              "      <td>2</td>\n",
              "      <td>0</td>\n",
              "      <td>Friendly</td>\n",
              "      <td>Doha</td>\n",
              "      <td>Qatar</td>\n",
              "      <td>2</td>\n",
              "      <td>Win</td>\n",
              "    </tr>\n",
              "    <tr>\n",
              "      <th>1</th>\n",
              "      <td>1</td>\n",
              "      <td>Brazil</td>\n",
              "      <td>840</td>\n",
              "      <td>0</td>\n",
              "      <td>2006</td>\n",
              "      <td>1</td>\n",
              "      <td>18</td>\n",
              "      <td>Egypt</td>\n",
              "      <td>Zimbabwe</td>\n",
              "      <td>2</td>\n",
              "      <td>0</td>\n",
              "      <td>Friendly</td>\n",
              "      <td>Alexandria</td>\n",
              "      <td>Egypt</td>\n",
              "      <td>5</td>\n",
              "      <td>Win</td>\n",
              "    </tr>\n",
              "    <tr>\n",
              "      <th>2</th>\n",
              "      <td>1</td>\n",
              "      <td>Brazil</td>\n",
              "      <td>840</td>\n",
              "      <td>0</td>\n",
              "      <td>2006</td>\n",
              "      <td>1</td>\n",
              "      <td>18</td>\n",
              "      <td>Morocco</td>\n",
              "      <td>DR Congo</td>\n",
              "      <td>3</td>\n",
              "      <td>0</td>\n",
              "      <td>Friendly</td>\n",
              "      <td>Rabat</td>\n",
              "      <td>Morocco</td>\n",
              "      <td>9</td>\n",
              "      <td>Win</td>\n",
              "    </tr>\n",
              "    <tr>\n",
              "      <th>3</th>\n",
              "      <td>1</td>\n",
              "      <td>Brazil</td>\n",
              "      <td>840</td>\n",
              "      <td>0</td>\n",
              "      <td>2006</td>\n",
              "      <td>1</td>\n",
              "      <td>18</td>\n",
              "      <td>Tunisia</td>\n",
              "      <td>Libya</td>\n",
              "      <td>1</td>\n",
              "      <td>0</td>\n",
              "      <td>Friendly</td>\n",
              "      <td>Tunis</td>\n",
              "      <td>Tunisia</td>\n",
              "      <td>12</td>\n",
              "      <td>Win</td>\n",
              "    </tr>\n",
              "    <tr>\n",
              "      <th>4</th>\n",
              "      <td>1</td>\n",
              "      <td>Brazil</td>\n",
              "      <td>840</td>\n",
              "      <td>0</td>\n",
              "      <td>2006</td>\n",
              "      <td>1</td>\n",
              "      <td>18</td>\n",
              "      <td>Egypt</td>\n",
              "      <td>South Africa</td>\n",
              "      <td>1</td>\n",
              "      <td>2</td>\n",
              "      <td>Friendly</td>\n",
              "      <td>Cairo</td>\n",
              "      <td>Egypt</td>\n",
              "      <td>14</td>\n",
              "      <td>Lose</td>\n",
              "    </tr>\n",
              "    <tr>\n",
              "      <th>5</th>\n",
              "      <td>1</td>\n",
              "      <td>Brazil</td>\n",
              "      <td>840</td>\n",
              "      <td>0</td>\n",
              "      <td>2006</td>\n",
              "      <td>1</td>\n",
              "      <td>18</td>\n",
              "      <td>Morocco</td>\n",
              "      <td>Zimbabwe</td>\n",
              "      <td>1</td>\n",
              "      <td>0</td>\n",
              "      <td>Friendly</td>\n",
              "      <td>Marrakech</td>\n",
              "      <td>Morocco</td>\n",
              "      <td>14</td>\n",
              "      <td>Win</td>\n",
              "    </tr>\n",
              "    <tr>\n",
              "      <th>6</th>\n",
              "      <td>1</td>\n",
              "      <td>Brazil</td>\n",
              "      <td>840</td>\n",
              "      <td>0</td>\n",
              "      <td>2006</td>\n",
              "      <td>1</td>\n",
              "      <td>18</td>\n",
              "      <td>Senegal</td>\n",
              "      <td>DR Congo</td>\n",
              "      <td>0</td>\n",
              "      <td>0</td>\n",
              "      <td>Friendly</td>\n",
              "      <td>Dakar</td>\n",
              "      <td>Senegal</td>\n",
              "      <td>14</td>\n",
              "      <td>Draw</td>\n",
              "    </tr>\n",
              "    <tr>\n",
              "      <th>7</th>\n",
              "      <td>1</td>\n",
              "      <td>Brazil</td>\n",
              "      <td>840</td>\n",
              "      <td>0</td>\n",
              "      <td>2006</td>\n",
              "      <td>1</td>\n",
              "      <td>18</td>\n",
              "      <td>Tunisia</td>\n",
              "      <td>Ghana</td>\n",
              "      <td>2</td>\n",
              "      <td>0</td>\n",
              "      <td>Friendly</td>\n",
              "      <td>Tunis</td>\n",
              "      <td>Tunisia</td>\n",
              "      <td>15</td>\n",
              "      <td>Win</td>\n",
              "    </tr>\n",
              "    <tr>\n",
              "      <th>8</th>\n",
              "      <td>1</td>\n",
              "      <td>Brazil</td>\n",
              "      <td>840</td>\n",
              "      <td>0</td>\n",
              "      <td>2006</td>\n",
              "      <td>1</td>\n",
              "      <td>18</td>\n",
              "      <td>Morocco</td>\n",
              "      <td>Angola</td>\n",
              "      <td>2</td>\n",
              "      <td>2</td>\n",
              "      <td>Friendly</td>\n",
              "      <td>Marrakech</td>\n",
              "      <td>Morocco</td>\n",
              "      <td>17</td>\n",
              "      <td>Draw</td>\n",
              "    </tr>\n",
              "    <tr>\n",
              "      <th>9</th>\n",
              "      <td>1</td>\n",
              "      <td>Brazil</td>\n",
              "      <td>840</td>\n",
              "      <td>0</td>\n",
              "      <td>2006</td>\n",
              "      <td>1</td>\n",
              "      <td>18</td>\n",
              "      <td>Saudi Arabia</td>\n",
              "      <td>Sweden</td>\n",
              "      <td>1</td>\n",
              "      <td>1</td>\n",
              "      <td>Friendly</td>\n",
              "      <td>Riyadh</td>\n",
              "      <td>Saudi Arabia</td>\n",
              "      <td>18</td>\n",
              "      <td>Draw</td>\n",
              "    </tr>\n",
              "  </tbody>\n",
              "</table>\n",
              "</div>"
            ],
            "text/plain": [
              "   rank country_full  previous_points  ...       country  day_y  outcome\n",
              "0     1       Brazil              840  ...         Qatar      2      Win\n",
              "1     1       Brazil              840  ...         Egypt      5      Win\n",
              "2     1       Brazil              840  ...       Morocco      9      Win\n",
              "3     1       Brazil              840  ...       Tunisia     12      Win\n",
              "4     1       Brazil              840  ...         Egypt     14     Lose\n",
              "5     1       Brazil              840  ...       Morocco     14      Win\n",
              "6     1       Brazil              840  ...       Senegal     14     Draw\n",
              "7     1       Brazil              840  ...       Tunisia     15      Win\n",
              "8     1       Brazil              840  ...       Morocco     17     Draw\n",
              "9     1       Brazil              840  ...  Saudi Arabia     18     Draw\n",
              "\n",
              "[10 rows x 16 columns]"
            ]
          },
          "metadata": {
            "tags": []
          },
          "execution_count": 38
        }
      ]
    },
    {
      "cell_type": "code",
      "metadata": {
        "colab": {
          "base_uri": "https://localhost:8080/"
        },
        "id": "0jcH_bbCuao1",
        "outputId": "6b677329-741c-4321-d737-6eca4ff55e28"
      },
      "source": [
        "merged.shape"
      ],
      "execution_count": 40,
      "outputs": [
        {
          "output_type": "execute_result",
          "data": {
            "text/plain": [
              "(1744040, 16)"
            ]
          },
          "metadata": {
            "tags": []
          },
          "execution_count": 40
        }
      ]
    },
    {
      "cell_type": "markdown",
      "metadata": {
        "id": "T8olDyHFcGi3"
      },
      "source": [
        "**Cleaning the Merged dataset**"
      ]
    },
    {
      "cell_type": "code",
      "metadata": {
        "id": "txXGgdOqcXkL"
      },
      "source": [
        "#Ill then drop some irrelevant column names\n",
        "merged = merged.drop(['rank_change'],axis = 1)"
      ],
      "execution_count": 41,
      "outputs": []
    },
    {
      "cell_type": "code",
      "metadata": {
        "id": "bc7tzU6LeRrL"
      },
      "source": [
        "#Ill also drop other irrelevant column names\n",
        "merged = merged.drop(['day_x','day_y'],axis=1)"
      ],
      "execution_count": 42,
      "outputs": []
    },
    {
      "cell_type": "code",
      "metadata": {
        "colab": {
          "base_uri": "https://localhost:8080/"
        },
        "id": "TDvALxJofgq4",
        "outputId": "ee1a3421-d31f-4787-aad1-fea906464b63"
      },
      "source": [
        "#Ill then check the column names in the dataset\n",
        "merged.columns"
      ],
      "execution_count": 43,
      "outputs": [
        {
          "output_type": "execute_result",
          "data": {
            "text/plain": [
              "Index(['rank', 'country_full', 'previous_points', 'year', 'month', 'home_team',\n",
              "       'away_team', 'home_score', 'away_score', 'tournament', 'city',\n",
              "       'country', 'outcome'],\n",
              "      dtype='object')"
            ]
          },
          "metadata": {
            "tags": []
          },
          "execution_count": 43
        }
      ]
    },
    {
      "cell_type": "code",
      "metadata": {
        "colab": {
          "base_uri": "https://localhost:8080/"
        },
        "id": "bcVXlI9rdK8u",
        "outputId": "d27f5c85-2722-45fb-8874-1b7f26427c02"
      },
      "source": [
        "#Ill then check the shape of the dataset\n",
        "merged.shape\n",
        "#The merged dataset has 3157060 rows × 16 columns"
      ],
      "execution_count": 44,
      "outputs": [
        {
          "output_type": "execute_result",
          "data": {
            "text/plain": [
              "(1744040, 13)"
            ]
          },
          "metadata": {
            "tags": []
          },
          "execution_count": 44
        }
      ]
    },
    {
      "cell_type": "code",
      "metadata": {
        "colab": {
          "base_uri": "https://localhost:8080/"
        },
        "id": "T49YIYeIdfeR",
        "outputId": "48242b22-7c45-463a-8edd-0ec5628c2395"
      },
      "source": [
        "#Ill then check the column names of the dataset\n",
        "merged.columns\n"
      ],
      "execution_count": 45,
      "outputs": [
        {
          "output_type": "execute_result",
          "data": {
            "text/plain": [
              "Index(['rank', 'country_full', 'previous_points', 'year', 'month', 'home_team',\n",
              "       'away_team', 'home_score', 'away_score', 'tournament', 'city',\n",
              "       'country', 'outcome'],\n",
              "      dtype='object')"
            ]
          },
          "metadata": {
            "tags": []
          },
          "execution_count": 45
        }
      ]
    },
    {
      "cell_type": "code",
      "metadata": {
        "colab": {
          "base_uri": "https://localhost:8080/"
        },
        "id": "foieQ1fWsbZj",
        "outputId": "2fe277d3-0cd1-4572-ff2e-d1405a229a65"
      },
      "source": [
        "#Ill then check for duplicated values\n",
        "merged.duplicated().sum()\n",
        "#The dataset has 3 thousand duplicated values"
      ],
      "execution_count": 46,
      "outputs": [
        {
          "output_type": "execute_result",
          "data": {
            "text/plain": [
              "3908"
            ]
          },
          "metadata": {
            "tags": []
          },
          "execution_count": 46
        }
      ]
    },
    {
      "cell_type": "code",
      "metadata": {
        "id": "CZ0O9xNHtbJj"
      },
      "source": [
        "#Ill then proceed to drop the duplicated values\n",
        "merged.drop_duplicates(inplace=True)"
      ],
      "execution_count": 47,
      "outputs": []
    },
    {
      "cell_type": "code",
      "metadata": {
        "colab": {
          "base_uri": "https://localhost:8080/"
        },
        "id": "yOV3yFERuRB-",
        "outputId": "3ff65591-dab6-4a5d-f46c-2d0d61baa95a"
      },
      "source": [
        "merged.duplicated().sum()\n",
        "#Ill then confirm if they have been droppped\n"
      ],
      "execution_count": 48,
      "outputs": [
        {
          "output_type": "execute_result",
          "data": {
            "text/plain": [
              "0"
            ]
          },
          "metadata": {
            "tags": []
          },
          "execution_count": 48
        }
      ]
    },
    {
      "cell_type": "code",
      "metadata": {
        "colab": {
          "base_uri": "https://localhost:8080/",
          "height": 224
        },
        "id": "V3PJ_ZJSnJli",
        "outputId": "41c7bec0-5d5f-464a-f2aa-811296506eb4"
      },
      "source": [
        "#ILl then get the ranks of the home team and away team\n",
        "\n",
        "home_rank = merged[merged.home_team == merged.country_full]\n",
        "home_rank.head()\n",
        "#Here I have selected observations equal to country so as to get the home ranks\n"
      ],
      "execution_count": 49,
      "outputs": [
        {
          "output_type": "execute_result",
          "data": {
            "text/html": [
              "<div>\n",
              "<style scoped>\n",
              "    .dataframe tbody tr th:only-of-type {\n",
              "        vertical-align: middle;\n",
              "    }\n",
              "\n",
              "    .dataframe tbody tr th {\n",
              "        vertical-align: top;\n",
              "    }\n",
              "\n",
              "    .dataframe thead th {\n",
              "        text-align: right;\n",
              "    }\n",
              "</style>\n",
              "<table border=\"1\" class=\"dataframe\">\n",
              "  <thead>\n",
              "    <tr style=\"text-align: right;\">\n",
              "      <th></th>\n",
              "      <th>rank</th>\n",
              "      <th>country_full</th>\n",
              "      <th>previous_points</th>\n",
              "      <th>year</th>\n",
              "      <th>month</th>\n",
              "      <th>home_team</th>\n",
              "      <th>away_team</th>\n",
              "      <th>home_score</th>\n",
              "      <th>away_score</th>\n",
              "      <th>tournament</th>\n",
              "      <th>city</th>\n",
              "      <th>country</th>\n",
              "      <th>outcome</th>\n",
              "    </tr>\n",
              "  </thead>\n",
              "  <tbody>\n",
              "    <tr>\n",
              "      <th>597</th>\n",
              "      <td>28</td>\n",
              "      <td>Tunisia</td>\n",
              "      <td>685</td>\n",
              "      <td>2006</td>\n",
              "      <td>1</td>\n",
              "      <td>Tunisia</td>\n",
              "      <td>Libya</td>\n",
              "      <td>1</td>\n",
              "      <td>0</td>\n",
              "      <td>Friendly</td>\n",
              "      <td>Tunis</td>\n",
              "      <td>Tunisia</td>\n",
              "      <td>Win</td>\n",
              "    </tr>\n",
              "    <tr>\n",
              "      <th>601</th>\n",
              "      <td>28</td>\n",
              "      <td>Tunisia</td>\n",
              "      <td>685</td>\n",
              "      <td>2006</td>\n",
              "      <td>1</td>\n",
              "      <td>Tunisia</td>\n",
              "      <td>Ghana</td>\n",
              "      <td>2</td>\n",
              "      <td>0</td>\n",
              "      <td>Friendly</td>\n",
              "      <td>Tunis</td>\n",
              "      <td>Tunisia</td>\n",
              "      <td>Win</td>\n",
              "    </tr>\n",
              "    <tr>\n",
              "      <th>666</th>\n",
              "      <td>30</td>\n",
              "      <td>Senegal</td>\n",
              "      <td>672</td>\n",
              "      <td>2006</td>\n",
              "      <td>1</td>\n",
              "      <td>Senegal</td>\n",
              "      <td>DR Congo</td>\n",
              "      <td>0</td>\n",
              "      <td>0</td>\n",
              "      <td>Friendly</td>\n",
              "      <td>Dakar</td>\n",
              "      <td>Senegal</td>\n",
              "      <td>Draw</td>\n",
              "    </tr>\n",
              "    <tr>\n",
              "      <th>683</th>\n",
              "      <td>32</td>\n",
              "      <td>Egypt</td>\n",
              "      <td>665</td>\n",
              "      <td>2006</td>\n",
              "      <td>1</td>\n",
              "      <td>Egypt</td>\n",
              "      <td>Zimbabwe</td>\n",
              "      <td>2</td>\n",
              "      <td>0</td>\n",
              "      <td>Friendly</td>\n",
              "      <td>Alexandria</td>\n",
              "      <td>Egypt</td>\n",
              "      <td>Win</td>\n",
              "    </tr>\n",
              "    <tr>\n",
              "      <th>686</th>\n",
              "      <td>32</td>\n",
              "      <td>Egypt</td>\n",
              "      <td>665</td>\n",
              "      <td>2006</td>\n",
              "      <td>1</td>\n",
              "      <td>Egypt</td>\n",
              "      <td>South Africa</td>\n",
              "      <td>1</td>\n",
              "      <td>2</td>\n",
              "      <td>Friendly</td>\n",
              "      <td>Cairo</td>\n",
              "      <td>Egypt</td>\n",
              "      <td>Lose</td>\n",
              "    </tr>\n",
              "  </tbody>\n",
              "</table>\n",
              "</div>"
            ],
            "text/plain": [
              "     rank country_full  previous_points  ...        city  country outcome\n",
              "597    28      Tunisia              685  ...       Tunis  Tunisia     Win\n",
              "601    28      Tunisia              685  ...       Tunis  Tunisia     Win\n",
              "666    30      Senegal              672  ...       Dakar  Senegal    Draw\n",
              "683    32        Egypt              665  ...  Alexandria    Egypt     Win\n",
              "686    32        Egypt              665  ...       Cairo    Egypt    Lose\n",
              "\n",
              "[5 rows x 13 columns]"
            ]
          },
          "metadata": {
            "tags": []
          },
          "execution_count": 49
        }
      ]
    },
    {
      "cell_type": "code",
      "metadata": {
        "colab": {
          "base_uri": "https://localhost:8080/",
          "height": 224
        },
        "id": "K7BqYsJkob0F",
        "outputId": "308fee08-0413-4eea-9537-a50973e8244e"
      },
      "source": [
        "#Renaming the columns\n",
        "home_rank = home_rank.rename(columns={'rank':'home_rank'})\n",
        "home_rank.head()"
      ],
      "execution_count": 50,
      "outputs": [
        {
          "output_type": "execute_result",
          "data": {
            "text/html": [
              "<div>\n",
              "<style scoped>\n",
              "    .dataframe tbody tr th:only-of-type {\n",
              "        vertical-align: middle;\n",
              "    }\n",
              "\n",
              "    .dataframe tbody tr th {\n",
              "        vertical-align: top;\n",
              "    }\n",
              "\n",
              "    .dataframe thead th {\n",
              "        text-align: right;\n",
              "    }\n",
              "</style>\n",
              "<table border=\"1\" class=\"dataframe\">\n",
              "  <thead>\n",
              "    <tr style=\"text-align: right;\">\n",
              "      <th></th>\n",
              "      <th>home_rank</th>\n",
              "      <th>country_full</th>\n",
              "      <th>previous_points</th>\n",
              "      <th>year</th>\n",
              "      <th>month</th>\n",
              "      <th>home_team</th>\n",
              "      <th>away_team</th>\n",
              "      <th>home_score</th>\n",
              "      <th>away_score</th>\n",
              "      <th>tournament</th>\n",
              "      <th>city</th>\n",
              "      <th>country</th>\n",
              "      <th>outcome</th>\n",
              "    </tr>\n",
              "  </thead>\n",
              "  <tbody>\n",
              "    <tr>\n",
              "      <th>597</th>\n",
              "      <td>28</td>\n",
              "      <td>Tunisia</td>\n",
              "      <td>685</td>\n",
              "      <td>2006</td>\n",
              "      <td>1</td>\n",
              "      <td>Tunisia</td>\n",
              "      <td>Libya</td>\n",
              "      <td>1</td>\n",
              "      <td>0</td>\n",
              "      <td>Friendly</td>\n",
              "      <td>Tunis</td>\n",
              "      <td>Tunisia</td>\n",
              "      <td>Win</td>\n",
              "    </tr>\n",
              "    <tr>\n",
              "      <th>601</th>\n",
              "      <td>28</td>\n",
              "      <td>Tunisia</td>\n",
              "      <td>685</td>\n",
              "      <td>2006</td>\n",
              "      <td>1</td>\n",
              "      <td>Tunisia</td>\n",
              "      <td>Ghana</td>\n",
              "      <td>2</td>\n",
              "      <td>0</td>\n",
              "      <td>Friendly</td>\n",
              "      <td>Tunis</td>\n",
              "      <td>Tunisia</td>\n",
              "      <td>Win</td>\n",
              "    </tr>\n",
              "    <tr>\n",
              "      <th>666</th>\n",
              "      <td>30</td>\n",
              "      <td>Senegal</td>\n",
              "      <td>672</td>\n",
              "      <td>2006</td>\n",
              "      <td>1</td>\n",
              "      <td>Senegal</td>\n",
              "      <td>DR Congo</td>\n",
              "      <td>0</td>\n",
              "      <td>0</td>\n",
              "      <td>Friendly</td>\n",
              "      <td>Dakar</td>\n",
              "      <td>Senegal</td>\n",
              "      <td>Draw</td>\n",
              "    </tr>\n",
              "    <tr>\n",
              "      <th>683</th>\n",
              "      <td>32</td>\n",
              "      <td>Egypt</td>\n",
              "      <td>665</td>\n",
              "      <td>2006</td>\n",
              "      <td>1</td>\n",
              "      <td>Egypt</td>\n",
              "      <td>Zimbabwe</td>\n",
              "      <td>2</td>\n",
              "      <td>0</td>\n",
              "      <td>Friendly</td>\n",
              "      <td>Alexandria</td>\n",
              "      <td>Egypt</td>\n",
              "      <td>Win</td>\n",
              "    </tr>\n",
              "    <tr>\n",
              "      <th>686</th>\n",
              "      <td>32</td>\n",
              "      <td>Egypt</td>\n",
              "      <td>665</td>\n",
              "      <td>2006</td>\n",
              "      <td>1</td>\n",
              "      <td>Egypt</td>\n",
              "      <td>South Africa</td>\n",
              "      <td>1</td>\n",
              "      <td>2</td>\n",
              "      <td>Friendly</td>\n",
              "      <td>Cairo</td>\n",
              "      <td>Egypt</td>\n",
              "      <td>Lose</td>\n",
              "    </tr>\n",
              "  </tbody>\n",
              "</table>\n",
              "</div>"
            ],
            "text/plain": [
              "     home_rank country_full  previous_points  ...        city  country outcome\n",
              "597         28      Tunisia              685  ...       Tunis  Tunisia     Win\n",
              "601         28      Tunisia              685  ...       Tunis  Tunisia     Win\n",
              "666         30      Senegal              672  ...       Dakar  Senegal    Draw\n",
              "683         32        Egypt              665  ...  Alexandria    Egypt     Win\n",
              "686         32        Egypt              665  ...       Cairo    Egypt    Lose\n",
              "\n",
              "[5 rows x 13 columns]"
            ]
          },
          "metadata": {
            "tags": []
          },
          "execution_count": 50
        }
      ]
    },
    {
      "cell_type": "code",
      "metadata": {
        "colab": {
          "base_uri": "https://localhost:8080/",
          "height": 275
        },
        "id": "jhEuIP5Sovsz",
        "outputId": "9d3fe3dd-4b66-4f1a-e829-e26ac3aa0810"
      },
      "source": [
        "#Ill then do the same for the away team\n",
        "away_rank = merged[merged.away_team == merged.country_full]\n",
        "away_rank.head()"
      ],
      "execution_count": 51,
      "outputs": [
        {
          "output_type": "execute_result",
          "data": {
            "text/html": [
              "<div>\n",
              "<style scoped>\n",
              "    .dataframe tbody tr th:only-of-type {\n",
              "        vertical-align: middle;\n",
              "    }\n",
              "\n",
              "    .dataframe tbody tr th {\n",
              "        vertical-align: top;\n",
              "    }\n",
              "\n",
              "    .dataframe thead th {\n",
              "        text-align: right;\n",
              "    }\n",
              "</style>\n",
              "<table border=\"1\" class=\"dataframe\">\n",
              "  <thead>\n",
              "    <tr style=\"text-align: right;\">\n",
              "      <th></th>\n",
              "      <th>rank</th>\n",
              "      <th>country_full</th>\n",
              "      <th>previous_points</th>\n",
              "      <th>year</th>\n",
              "      <th>month</th>\n",
              "      <th>home_team</th>\n",
              "      <th>away_team</th>\n",
              "      <th>home_score</th>\n",
              "      <th>away_score</th>\n",
              "      <th>tournament</th>\n",
              "      <th>city</th>\n",
              "      <th>country</th>\n",
              "      <th>outcome</th>\n",
              "    </tr>\n",
              "  </thead>\n",
              "  <tbody>\n",
              "    <tr>\n",
              "      <th>295</th>\n",
              "      <td>14</td>\n",
              "      <td>Sweden</td>\n",
              "      <td>732</td>\n",
              "      <td>2006</td>\n",
              "      <td>1</td>\n",
              "      <td>Saudi Arabia</td>\n",
              "      <td>Sweden</td>\n",
              "      <td>1</td>\n",
              "      <td>1</td>\n",
              "      <td>Friendly</td>\n",
              "      <td>Riyadh</td>\n",
              "      <td>Saudi Arabia</td>\n",
              "      <td>Draw</td>\n",
              "    </tr>\n",
              "    <tr>\n",
              "      <th>346</th>\n",
              "      <td>16</td>\n",
              "      <td>Greece</td>\n",
              "      <td>708</td>\n",
              "      <td>2006</td>\n",
              "      <td>1</td>\n",
              "      <td>Saudi Arabia</td>\n",
              "      <td>Greece</td>\n",
              "      <td>1</td>\n",
              "      <td>1</td>\n",
              "      <td>Friendly</td>\n",
              "      <td>Riyadh</td>\n",
              "      <td>Saudi Arabia</td>\n",
              "      <td>Draw</td>\n",
              "    </tr>\n",
              "    <tr>\n",
              "      <th>762</th>\n",
              "      <td>35</td>\n",
              "      <td>Morocco</td>\n",
              "      <td>655</td>\n",
              "      <td>2006</td>\n",
              "      <td>1</td>\n",
              "      <td>Egypt</td>\n",
              "      <td>Morocco</td>\n",
              "      <td>0</td>\n",
              "      <td>0</td>\n",
              "      <td>Other</td>\n",
              "      <td>Cairo</td>\n",
              "      <td>Egypt</td>\n",
              "      <td>Draw</td>\n",
              "    </tr>\n",
              "    <tr>\n",
              "      <th>812</th>\n",
              "      <td>37</td>\n",
              "      <td>Norway</td>\n",
              "      <td>649</td>\n",
              "      <td>2006</td>\n",
              "      <td>1</td>\n",
              "      <td>United States</td>\n",
              "      <td>Norway</td>\n",
              "      <td>5</td>\n",
              "      <td>0</td>\n",
              "      <td>Friendly</td>\n",
              "      <td>Carson</td>\n",
              "      <td>United States</td>\n",
              "      <td>Win</td>\n",
              "    </tr>\n",
              "    <tr>\n",
              "      <th>895</th>\n",
              "      <td>41</td>\n",
              "      <td>Honduras</td>\n",
              "      <td>628</td>\n",
              "      <td>2006</td>\n",
              "      <td>1</td>\n",
              "      <td>Ecuador</td>\n",
              "      <td>Honduras</td>\n",
              "      <td>1</td>\n",
              "      <td>0</td>\n",
              "      <td>Friendly</td>\n",
              "      <td>Guayaquil</td>\n",
              "      <td>Ecuador</td>\n",
              "      <td>Win</td>\n",
              "    </tr>\n",
              "  </tbody>\n",
              "</table>\n",
              "</div>"
            ],
            "text/plain": [
              "     rank country_full  previous_points  ...       city        country outcome\n",
              "295    14       Sweden              732  ...     Riyadh   Saudi Arabia    Draw\n",
              "346    16       Greece              708  ...     Riyadh   Saudi Arabia    Draw\n",
              "762    35      Morocco              655  ...      Cairo          Egypt    Draw\n",
              "812    37       Norway              649  ...     Carson  United States     Win\n",
              "895    41     Honduras              628  ...  Guayaquil        Ecuador     Win\n",
              "\n",
              "[5 rows x 13 columns]"
            ]
          },
          "metadata": {
            "tags": []
          },
          "execution_count": 51
        }
      ]
    },
    {
      "cell_type": "code",
      "metadata": {
        "colab": {
          "base_uri": "https://localhost:8080/",
          "height": 275
        },
        "id": "2tCNnnzFqEoi",
        "outputId": "186a70bf-fbb6-4a85-ac4d-eeb2ef3eea45"
      },
      "source": [
        "away_rank = away_rank.rename({'rank': 'away_rank'}, axis=1)\n",
        "away_rank.head()"
      ],
      "execution_count": 52,
      "outputs": [
        {
          "output_type": "execute_result",
          "data": {
            "text/html": [
              "<div>\n",
              "<style scoped>\n",
              "    .dataframe tbody tr th:only-of-type {\n",
              "        vertical-align: middle;\n",
              "    }\n",
              "\n",
              "    .dataframe tbody tr th {\n",
              "        vertical-align: top;\n",
              "    }\n",
              "\n",
              "    .dataframe thead th {\n",
              "        text-align: right;\n",
              "    }\n",
              "</style>\n",
              "<table border=\"1\" class=\"dataframe\">\n",
              "  <thead>\n",
              "    <tr style=\"text-align: right;\">\n",
              "      <th></th>\n",
              "      <th>away_rank</th>\n",
              "      <th>country_full</th>\n",
              "      <th>previous_points</th>\n",
              "      <th>year</th>\n",
              "      <th>month</th>\n",
              "      <th>home_team</th>\n",
              "      <th>away_team</th>\n",
              "      <th>home_score</th>\n",
              "      <th>away_score</th>\n",
              "      <th>tournament</th>\n",
              "      <th>city</th>\n",
              "      <th>country</th>\n",
              "      <th>outcome</th>\n",
              "    </tr>\n",
              "  </thead>\n",
              "  <tbody>\n",
              "    <tr>\n",
              "      <th>295</th>\n",
              "      <td>14</td>\n",
              "      <td>Sweden</td>\n",
              "      <td>732</td>\n",
              "      <td>2006</td>\n",
              "      <td>1</td>\n",
              "      <td>Saudi Arabia</td>\n",
              "      <td>Sweden</td>\n",
              "      <td>1</td>\n",
              "      <td>1</td>\n",
              "      <td>Friendly</td>\n",
              "      <td>Riyadh</td>\n",
              "      <td>Saudi Arabia</td>\n",
              "      <td>Draw</td>\n",
              "    </tr>\n",
              "    <tr>\n",
              "      <th>346</th>\n",
              "      <td>16</td>\n",
              "      <td>Greece</td>\n",
              "      <td>708</td>\n",
              "      <td>2006</td>\n",
              "      <td>1</td>\n",
              "      <td>Saudi Arabia</td>\n",
              "      <td>Greece</td>\n",
              "      <td>1</td>\n",
              "      <td>1</td>\n",
              "      <td>Friendly</td>\n",
              "      <td>Riyadh</td>\n",
              "      <td>Saudi Arabia</td>\n",
              "      <td>Draw</td>\n",
              "    </tr>\n",
              "    <tr>\n",
              "      <th>762</th>\n",
              "      <td>35</td>\n",
              "      <td>Morocco</td>\n",
              "      <td>655</td>\n",
              "      <td>2006</td>\n",
              "      <td>1</td>\n",
              "      <td>Egypt</td>\n",
              "      <td>Morocco</td>\n",
              "      <td>0</td>\n",
              "      <td>0</td>\n",
              "      <td>Other</td>\n",
              "      <td>Cairo</td>\n",
              "      <td>Egypt</td>\n",
              "      <td>Draw</td>\n",
              "    </tr>\n",
              "    <tr>\n",
              "      <th>812</th>\n",
              "      <td>37</td>\n",
              "      <td>Norway</td>\n",
              "      <td>649</td>\n",
              "      <td>2006</td>\n",
              "      <td>1</td>\n",
              "      <td>United States</td>\n",
              "      <td>Norway</td>\n",
              "      <td>5</td>\n",
              "      <td>0</td>\n",
              "      <td>Friendly</td>\n",
              "      <td>Carson</td>\n",
              "      <td>United States</td>\n",
              "      <td>Win</td>\n",
              "    </tr>\n",
              "    <tr>\n",
              "      <th>895</th>\n",
              "      <td>41</td>\n",
              "      <td>Honduras</td>\n",
              "      <td>628</td>\n",
              "      <td>2006</td>\n",
              "      <td>1</td>\n",
              "      <td>Ecuador</td>\n",
              "      <td>Honduras</td>\n",
              "      <td>1</td>\n",
              "      <td>0</td>\n",
              "      <td>Friendly</td>\n",
              "      <td>Guayaquil</td>\n",
              "      <td>Ecuador</td>\n",
              "      <td>Win</td>\n",
              "    </tr>\n",
              "  </tbody>\n",
              "</table>\n",
              "</div>"
            ],
            "text/plain": [
              "     away_rank country_full  previous_points  ...       city        country outcome\n",
              "295         14       Sweden              732  ...     Riyadh   Saudi Arabia    Draw\n",
              "346         16       Greece              708  ...     Riyadh   Saudi Arabia    Draw\n",
              "762         35      Morocco              655  ...      Cairo          Egypt    Draw\n",
              "812         37       Norway              649  ...     Carson  United States     Win\n",
              "895         41     Honduras              628  ...  Guayaquil        Ecuador     Win\n",
              "\n",
              "[5 rows x 13 columns]"
            ]
          },
          "metadata": {
            "tags": []
          },
          "execution_count": 52
        }
      ]
    },
    {
      "cell_type": "code",
      "metadata": {
        "id": "J-Zm_S4DzAsU"
      },
      "source": [
        "away_rank.drop('country',1,inplace=True)"
      ],
      "execution_count": 53,
      "outputs": []
    },
    {
      "cell_type": "code",
      "metadata": {
        "colab": {
          "base_uri": "https://localhost:8080/",
          "height": 439
        },
        "id": "59TJ_XBZqjwK",
        "outputId": "6a5aca20-2721-470b-8f71-a790b7b17e4d"
      },
      "source": [
        "#Ill then merge the new home ranks and away ranks\n",
        "tired_of_Nans = pd.merge(home_rank,away_rank,how=\"left\", on = ['away_team', 'year', 'month'])\n",
        "tired_of_Nans"
      ],
      "execution_count": 55,
      "outputs": [
        {
          "output_type": "execute_result",
          "data": {
            "text/html": [
              "<div>\n",
              "<style scoped>\n",
              "    .dataframe tbody tr th:only-of-type {\n",
              "        vertical-align: middle;\n",
              "    }\n",
              "\n",
              "    .dataframe tbody tr th {\n",
              "        vertical-align: top;\n",
              "    }\n",
              "\n",
              "    .dataframe thead th {\n",
              "        text-align: right;\n",
              "    }\n",
              "</style>\n",
              "<table border=\"1\" class=\"dataframe\">\n",
              "  <thead>\n",
              "    <tr style=\"text-align: right;\">\n",
              "      <th></th>\n",
              "      <th>home_rank</th>\n",
              "      <th>country_full_x</th>\n",
              "      <th>previous_points_x</th>\n",
              "      <th>year</th>\n",
              "      <th>month</th>\n",
              "      <th>home_team_x</th>\n",
              "      <th>away_team</th>\n",
              "      <th>home_score_x</th>\n",
              "      <th>away_score_x</th>\n",
              "      <th>tournament_x</th>\n",
              "      <th>city_x</th>\n",
              "      <th>country</th>\n",
              "      <th>outcome_x</th>\n",
              "      <th>away_rank</th>\n",
              "      <th>country_full_y</th>\n",
              "      <th>previous_points_y</th>\n",
              "      <th>home_team_y</th>\n",
              "      <th>home_score_y</th>\n",
              "      <th>away_score_y</th>\n",
              "      <th>tournament_y</th>\n",
              "      <th>city_y</th>\n",
              "      <th>outcome_y</th>\n",
              "    </tr>\n",
              "  </thead>\n",
              "  <tbody>\n",
              "    <tr>\n",
              "      <th>0</th>\n",
              "      <td>28</td>\n",
              "      <td>Tunisia</td>\n",
              "      <td>685</td>\n",
              "      <td>2006</td>\n",
              "      <td>1</td>\n",
              "      <td>Tunisia</td>\n",
              "      <td>Libya</td>\n",
              "      <td>1</td>\n",
              "      <td>0</td>\n",
              "      <td>Friendly</td>\n",
              "      <td>Tunis</td>\n",
              "      <td>Tunisia</td>\n",
              "      <td>Win</td>\n",
              "      <td>80.0</td>\n",
              "      <td>Libya</td>\n",
              "      <td>522.0</td>\n",
              "      <td>Qatar</td>\n",
              "      <td>2.0</td>\n",
              "      <td>0.0</td>\n",
              "      <td>Friendly</td>\n",
              "      <td>Doha</td>\n",
              "      <td>Win</td>\n",
              "    </tr>\n",
              "    <tr>\n",
              "      <th>1</th>\n",
              "      <td>28</td>\n",
              "      <td>Tunisia</td>\n",
              "      <td>685</td>\n",
              "      <td>2006</td>\n",
              "      <td>1</td>\n",
              "      <td>Tunisia</td>\n",
              "      <td>Libya</td>\n",
              "      <td>1</td>\n",
              "      <td>0</td>\n",
              "      <td>Friendly</td>\n",
              "      <td>Tunis</td>\n",
              "      <td>Tunisia</td>\n",
              "      <td>Win</td>\n",
              "      <td>80.0</td>\n",
              "      <td>Libya</td>\n",
              "      <td>522.0</td>\n",
              "      <td>Tunisia</td>\n",
              "      <td>1.0</td>\n",
              "      <td>0.0</td>\n",
              "      <td>Friendly</td>\n",
              "      <td>Tunis</td>\n",
              "      <td>Win</td>\n",
              "    </tr>\n",
              "    <tr>\n",
              "      <th>2</th>\n",
              "      <td>28</td>\n",
              "      <td>Tunisia</td>\n",
              "      <td>685</td>\n",
              "      <td>2006</td>\n",
              "      <td>1</td>\n",
              "      <td>Tunisia</td>\n",
              "      <td>Libya</td>\n",
              "      <td>1</td>\n",
              "      <td>0</td>\n",
              "      <td>Friendly</td>\n",
              "      <td>Tunis</td>\n",
              "      <td>Tunisia</td>\n",
              "      <td>Win</td>\n",
              "      <td>80.0</td>\n",
              "      <td>Libya</td>\n",
              "      <td>522.0</td>\n",
              "      <td>Egypt</td>\n",
              "      <td>3.0</td>\n",
              "      <td>0.0</td>\n",
              "      <td>Other</td>\n",
              "      <td>Cairo</td>\n",
              "      <td>Win</td>\n",
              "    </tr>\n",
              "    <tr>\n",
              "      <th>3</th>\n",
              "      <td>28</td>\n",
              "      <td>Tunisia</td>\n",
              "      <td>685</td>\n",
              "      <td>2006</td>\n",
              "      <td>1</td>\n",
              "      <td>Tunisia</td>\n",
              "      <td>Ghana</td>\n",
              "      <td>2</td>\n",
              "      <td>0</td>\n",
              "      <td>Friendly</td>\n",
              "      <td>Tunis</td>\n",
              "      <td>Tunisia</td>\n",
              "      <td>Win</td>\n",
              "      <td>50.0</td>\n",
              "      <td>Ghana</td>\n",
              "      <td>608.0</td>\n",
              "      <td>Tunisia</td>\n",
              "      <td>2.0</td>\n",
              "      <td>0.0</td>\n",
              "      <td>Friendly</td>\n",
              "      <td>Tunis</td>\n",
              "      <td>Win</td>\n",
              "    </tr>\n",
              "    <tr>\n",
              "      <th>4</th>\n",
              "      <td>30</td>\n",
              "      <td>Senegal</td>\n",
              "      <td>672</td>\n",
              "      <td>2006</td>\n",
              "      <td>1</td>\n",
              "      <td>Senegal</td>\n",
              "      <td>DR Congo</td>\n",
              "      <td>0</td>\n",
              "      <td>0</td>\n",
              "      <td>Friendly</td>\n",
              "      <td>Dakar</td>\n",
              "      <td>Senegal</td>\n",
              "      <td>Draw</td>\n",
              "      <td>NaN</td>\n",
              "      <td>NaN</td>\n",
              "      <td>NaN</td>\n",
              "      <td>NaN</td>\n",
              "      <td>NaN</td>\n",
              "      <td>NaN</td>\n",
              "      <td>NaN</td>\n",
              "      <td>NaN</td>\n",
              "      <td>NaN</td>\n",
              "    </tr>\n",
              "    <tr>\n",
              "      <th>...</th>\n",
              "      <td>...</td>\n",
              "      <td>...</td>\n",
              "      <td>...</td>\n",
              "      <td>...</td>\n",
              "      <td>...</td>\n",
              "      <td>...</td>\n",
              "      <td>...</td>\n",
              "      <td>...</td>\n",
              "      <td>...</td>\n",
              "      <td>...</td>\n",
              "      <td>...</td>\n",
              "      <td>...</td>\n",
              "      <td>...</td>\n",
              "      <td>...</td>\n",
              "      <td>...</td>\n",
              "      <td>...</td>\n",
              "      <td>...</td>\n",
              "      <td>...</td>\n",
              "      <td>...</td>\n",
              "      <td>...</td>\n",
              "      <td>...</td>\n",
              "      <td>...</td>\n",
              "    </tr>\n",
              "    <tr>\n",
              "      <th>9529</th>\n",
              "      <td>126</td>\n",
              "      <td>Lithuania</td>\n",
              "      <td>229</td>\n",
              "      <td>2018</td>\n",
              "      <td>6</td>\n",
              "      <td>Lithuania</td>\n",
              "      <td>Latvia</td>\n",
              "      <td>1</td>\n",
              "      <td>1</td>\n",
              "      <td>Friendly</td>\n",
              "      <td>Vilnius</td>\n",
              "      <td>Lithuania</td>\n",
              "      <td>Draw</td>\n",
              "      <td>129.0</td>\n",
              "      <td>Latvia</td>\n",
              "      <td>217.0</td>\n",
              "      <td>Lithuania</td>\n",
              "      <td>1.0</td>\n",
              "      <td>1.0</td>\n",
              "      <td>Friendly</td>\n",
              "      <td>Vilnius</td>\n",
              "      <td>Draw</td>\n",
              "    </tr>\n",
              "    <tr>\n",
              "      <th>9530</th>\n",
              "      <td>129</td>\n",
              "      <td>Latvia</td>\n",
              "      <td>217</td>\n",
              "      <td>2018</td>\n",
              "      <td>6</td>\n",
              "      <td>Latvia</td>\n",
              "      <td>Estonia</td>\n",
              "      <td>1</td>\n",
              "      <td>0</td>\n",
              "      <td>Other</td>\n",
              "      <td>Riga</td>\n",
              "      <td>Latvia</td>\n",
              "      <td>Win</td>\n",
              "      <td>94.0</td>\n",
              "      <td>Estonia</td>\n",
              "      <td>364.0</td>\n",
              "      <td>Latvia</td>\n",
              "      <td>1.0</td>\n",
              "      <td>0.0</td>\n",
              "      <td>Other</td>\n",
              "      <td>Riga</td>\n",
              "      <td>Win</td>\n",
              "    </tr>\n",
              "    <tr>\n",
              "      <th>9531</th>\n",
              "      <td>129</td>\n",
              "      <td>Latvia</td>\n",
              "      <td>217</td>\n",
              "      <td>2018</td>\n",
              "      <td>6</td>\n",
              "      <td>Latvia</td>\n",
              "      <td>Azerbaijan</td>\n",
              "      <td>1</td>\n",
              "      <td>3</td>\n",
              "      <td>Friendly</td>\n",
              "      <td>Riga</td>\n",
              "      <td>Latvia</td>\n",
              "      <td>Lose</td>\n",
              "      <td>105.0</td>\n",
              "      <td>Azerbaijan</td>\n",
              "      <td>245.0</td>\n",
              "      <td>Kazakhstan</td>\n",
              "      <td>3.0</td>\n",
              "      <td>0.0</td>\n",
              "      <td>Friendly</td>\n",
              "      <td>Astana</td>\n",
              "      <td>Win</td>\n",
              "    </tr>\n",
              "    <tr>\n",
              "      <th>9532</th>\n",
              "      <td>129</td>\n",
              "      <td>Latvia</td>\n",
              "      <td>217</td>\n",
              "      <td>2018</td>\n",
              "      <td>6</td>\n",
              "      <td>Latvia</td>\n",
              "      <td>Azerbaijan</td>\n",
              "      <td>1</td>\n",
              "      <td>3</td>\n",
              "      <td>Friendly</td>\n",
              "      <td>Riga</td>\n",
              "      <td>Latvia</td>\n",
              "      <td>Lose</td>\n",
              "      <td>105.0</td>\n",
              "      <td>Azerbaijan</td>\n",
              "      <td>245.0</td>\n",
              "      <td>Latvia</td>\n",
              "      <td>1.0</td>\n",
              "      <td>3.0</td>\n",
              "      <td>Friendly</td>\n",
              "      <td>Riga</td>\n",
              "      <td>Lose</td>\n",
              "    </tr>\n",
              "    <tr>\n",
              "      <th>9533</th>\n",
              "      <td>160</td>\n",
              "      <td>Barbados</td>\n",
              "      <td>129</td>\n",
              "      <td>2018</td>\n",
              "      <td>6</td>\n",
              "      <td>Barbados</td>\n",
              "      <td>Belize</td>\n",
              "      <td>0</td>\n",
              "      <td>0</td>\n",
              "      <td>Friendly</td>\n",
              "      <td>Bridgetown</td>\n",
              "      <td>Barbados</td>\n",
              "      <td>Draw</td>\n",
              "      <td>163.0</td>\n",
              "      <td>Belize</td>\n",
              "      <td>107.0</td>\n",
              "      <td>Barbados</td>\n",
              "      <td>0.0</td>\n",
              "      <td>0.0</td>\n",
              "      <td>Friendly</td>\n",
              "      <td>Bridgetown</td>\n",
              "      <td>Draw</td>\n",
              "    </tr>\n",
              "  </tbody>\n",
              "</table>\n",
              "<p>9534 rows × 22 columns</p>\n",
              "</div>"
            ],
            "text/plain": [
              "      home_rank country_full_x  ...      city_y  outcome_y\n",
              "0            28        Tunisia  ...        Doha        Win\n",
              "1            28        Tunisia  ...       Tunis        Win\n",
              "2            28        Tunisia  ...       Cairo        Win\n",
              "3            28        Tunisia  ...       Tunis        Win\n",
              "4            30        Senegal  ...         NaN        NaN\n",
              "...         ...            ...  ...         ...        ...\n",
              "9529        126      Lithuania  ...     Vilnius       Draw\n",
              "9530        129         Latvia  ...        Riga        Win\n",
              "9531        129         Latvia  ...      Astana        Win\n",
              "9532        129         Latvia  ...        Riga       Lose\n",
              "9533        160       Barbados  ...  Bridgetown       Draw\n",
              "\n",
              "[9534 rows x 22 columns]"
            ]
          },
          "metadata": {
            "tags": []
          },
          "execution_count": 55
        }
      ]
    },
    {
      "cell_type": "markdown",
      "metadata": {
        "id": "hON1NQyFpSDs"
      },
      "source": [
        "**Cleaning the Newly merged dataset**"
      ]
    },
    {
      "cell_type": "code",
      "metadata": {
        "colab": {
          "base_uri": "https://localhost:8080/"
        },
        "id": "srOblnRZpXUP",
        "outputId": "a3d7b192-6018-4b21-c45b-566b8d0bf7f0"
      },
      "source": [
        "tired_of_Nans.isnull().sum()"
      ],
      "execution_count": 56,
      "outputs": [
        {
          "output_type": "execute_result",
          "data": {
            "text/plain": [
              "home_rank              0\n",
              "country_full_x         0\n",
              "previous_points_x      0\n",
              "year                   0\n",
              "month                  0\n",
              "home_team_x            0\n",
              "away_team              0\n",
              "home_score_x           0\n",
              "away_score_x           0\n",
              "tournament_x           0\n",
              "city_x                 0\n",
              "country                0\n",
              "outcome_x              0\n",
              "away_rank            630\n",
              "country_full_y       630\n",
              "previous_points_y    630\n",
              "home_team_y          630\n",
              "home_score_y         630\n",
              "away_score_y         630\n",
              "tournament_y         630\n",
              "city_y               630\n",
              "outcome_y            630\n",
              "dtype: int64"
            ]
          },
          "metadata": {
            "tags": []
          },
          "execution_count": 56
        }
      ]
    },
    {
      "cell_type": "code",
      "metadata": {
        "id": "aOw3m1j_xIFy"
      },
      "source": [
        "tired_of_Nans.dropna(inplace=True)"
      ],
      "execution_count": 57,
      "outputs": []
    },
    {
      "cell_type": "code",
      "metadata": {
        "colab": {
          "base_uri": "https://localhost:8080/"
        },
        "id": "F3zLK66IxTb4",
        "outputId": "f6b274a5-e095-4640-e464-009e46d961af"
      },
      "source": [
        "tired_of_Nans.duplicated().sum()"
      ],
      "execution_count": 58,
      "outputs": [
        {
          "output_type": "execute_result",
          "data": {
            "text/plain": [
              "0"
            ]
          },
          "metadata": {
            "tags": []
          },
          "execution_count": 58
        }
      ]
    },
    {
      "cell_type": "code",
      "metadata": {
        "colab": {
          "base_uri": "https://localhost:8080/",
          "height": 224
        },
        "id": "JBGaLiAWxky_",
        "outputId": "afebe79b-16b2-4a38-b8d9-6f737076dd18"
      },
      "source": [
        "tired_of_Nans.head()\n"
      ],
      "execution_count": 59,
      "outputs": [
        {
          "output_type": "execute_result",
          "data": {
            "text/html": [
              "<div>\n",
              "<style scoped>\n",
              "    .dataframe tbody tr th:only-of-type {\n",
              "        vertical-align: middle;\n",
              "    }\n",
              "\n",
              "    .dataframe tbody tr th {\n",
              "        vertical-align: top;\n",
              "    }\n",
              "\n",
              "    .dataframe thead th {\n",
              "        text-align: right;\n",
              "    }\n",
              "</style>\n",
              "<table border=\"1\" class=\"dataframe\">\n",
              "  <thead>\n",
              "    <tr style=\"text-align: right;\">\n",
              "      <th></th>\n",
              "      <th>home_rank</th>\n",
              "      <th>country_full_x</th>\n",
              "      <th>previous_points_x</th>\n",
              "      <th>year</th>\n",
              "      <th>month</th>\n",
              "      <th>home_team_x</th>\n",
              "      <th>away_team</th>\n",
              "      <th>home_score_x</th>\n",
              "      <th>away_score_x</th>\n",
              "      <th>tournament_x</th>\n",
              "      <th>city_x</th>\n",
              "      <th>country</th>\n",
              "      <th>outcome_x</th>\n",
              "      <th>away_rank</th>\n",
              "      <th>country_full_y</th>\n",
              "      <th>previous_points_y</th>\n",
              "      <th>home_team_y</th>\n",
              "      <th>home_score_y</th>\n",
              "      <th>away_score_y</th>\n",
              "      <th>tournament_y</th>\n",
              "      <th>city_y</th>\n",
              "      <th>outcome_y</th>\n",
              "    </tr>\n",
              "  </thead>\n",
              "  <tbody>\n",
              "    <tr>\n",
              "      <th>0</th>\n",
              "      <td>28</td>\n",
              "      <td>Tunisia</td>\n",
              "      <td>685</td>\n",
              "      <td>2006</td>\n",
              "      <td>1</td>\n",
              "      <td>Tunisia</td>\n",
              "      <td>Libya</td>\n",
              "      <td>1</td>\n",
              "      <td>0</td>\n",
              "      <td>Friendly</td>\n",
              "      <td>Tunis</td>\n",
              "      <td>Tunisia</td>\n",
              "      <td>Win</td>\n",
              "      <td>80.0</td>\n",
              "      <td>Libya</td>\n",
              "      <td>522.0</td>\n",
              "      <td>Qatar</td>\n",
              "      <td>2.0</td>\n",
              "      <td>0.0</td>\n",
              "      <td>Friendly</td>\n",
              "      <td>Doha</td>\n",
              "      <td>Win</td>\n",
              "    </tr>\n",
              "    <tr>\n",
              "      <th>1</th>\n",
              "      <td>28</td>\n",
              "      <td>Tunisia</td>\n",
              "      <td>685</td>\n",
              "      <td>2006</td>\n",
              "      <td>1</td>\n",
              "      <td>Tunisia</td>\n",
              "      <td>Libya</td>\n",
              "      <td>1</td>\n",
              "      <td>0</td>\n",
              "      <td>Friendly</td>\n",
              "      <td>Tunis</td>\n",
              "      <td>Tunisia</td>\n",
              "      <td>Win</td>\n",
              "      <td>80.0</td>\n",
              "      <td>Libya</td>\n",
              "      <td>522.0</td>\n",
              "      <td>Tunisia</td>\n",
              "      <td>1.0</td>\n",
              "      <td>0.0</td>\n",
              "      <td>Friendly</td>\n",
              "      <td>Tunis</td>\n",
              "      <td>Win</td>\n",
              "    </tr>\n",
              "    <tr>\n",
              "      <th>2</th>\n",
              "      <td>28</td>\n",
              "      <td>Tunisia</td>\n",
              "      <td>685</td>\n",
              "      <td>2006</td>\n",
              "      <td>1</td>\n",
              "      <td>Tunisia</td>\n",
              "      <td>Libya</td>\n",
              "      <td>1</td>\n",
              "      <td>0</td>\n",
              "      <td>Friendly</td>\n",
              "      <td>Tunis</td>\n",
              "      <td>Tunisia</td>\n",
              "      <td>Win</td>\n",
              "      <td>80.0</td>\n",
              "      <td>Libya</td>\n",
              "      <td>522.0</td>\n",
              "      <td>Egypt</td>\n",
              "      <td>3.0</td>\n",
              "      <td>0.0</td>\n",
              "      <td>Other</td>\n",
              "      <td>Cairo</td>\n",
              "      <td>Win</td>\n",
              "    </tr>\n",
              "    <tr>\n",
              "      <th>3</th>\n",
              "      <td>28</td>\n",
              "      <td>Tunisia</td>\n",
              "      <td>685</td>\n",
              "      <td>2006</td>\n",
              "      <td>1</td>\n",
              "      <td>Tunisia</td>\n",
              "      <td>Ghana</td>\n",
              "      <td>2</td>\n",
              "      <td>0</td>\n",
              "      <td>Friendly</td>\n",
              "      <td>Tunis</td>\n",
              "      <td>Tunisia</td>\n",
              "      <td>Win</td>\n",
              "      <td>50.0</td>\n",
              "      <td>Ghana</td>\n",
              "      <td>608.0</td>\n",
              "      <td>Tunisia</td>\n",
              "      <td>2.0</td>\n",
              "      <td>0.0</td>\n",
              "      <td>Friendly</td>\n",
              "      <td>Tunis</td>\n",
              "      <td>Win</td>\n",
              "    </tr>\n",
              "    <tr>\n",
              "      <th>5</th>\n",
              "      <td>32</td>\n",
              "      <td>Egypt</td>\n",
              "      <td>665</td>\n",
              "      <td>2006</td>\n",
              "      <td>1</td>\n",
              "      <td>Egypt</td>\n",
              "      <td>Zimbabwe</td>\n",
              "      <td>2</td>\n",
              "      <td>0</td>\n",
              "      <td>Friendly</td>\n",
              "      <td>Alexandria</td>\n",
              "      <td>Egypt</td>\n",
              "      <td>Win</td>\n",
              "      <td>53.0</td>\n",
              "      <td>Zimbabwe</td>\n",
              "      <td>601.0</td>\n",
              "      <td>Egypt</td>\n",
              "      <td>2.0</td>\n",
              "      <td>0.0</td>\n",
              "      <td>Friendly</td>\n",
              "      <td>Alexandria</td>\n",
              "      <td>Win</td>\n",
              "    </tr>\n",
              "  </tbody>\n",
              "</table>\n",
              "</div>"
            ],
            "text/plain": [
              "   home_rank country_full_x  ...      city_y  outcome_y\n",
              "0         28        Tunisia  ...        Doha        Win\n",
              "1         28        Tunisia  ...       Tunis        Win\n",
              "2         28        Tunisia  ...       Cairo        Win\n",
              "3         28        Tunisia  ...       Tunis        Win\n",
              "5         32          Egypt  ...  Alexandria        Win\n",
              "\n",
              "[5 rows x 22 columns]"
            ]
          },
          "metadata": {
            "tags": []
          },
          "execution_count": 59
        }
      ]
    },
    {
      "cell_type": "code",
      "metadata": {
        "id": "eZRAcJCG0sal"
      },
      "source": [
        "#Ill then drop unnecesary columns in the dataset\n",
        "tired_of_Nans.drop(['country_full_x','previous_points_x',\n",
        "        'previous_points_y','home_team_y',\t'home_score_y',\t'away_score_y',\t'tournament_y',\t'city_y',\n",
        "       \t\t'outcome_y'], axis = 1, inplace = True)"
      ],
      "execution_count": 61,
      "outputs": []
    },
    {
      "cell_type": "code",
      "metadata": {
        "colab": {
          "base_uri": "https://localhost:8080/"
        },
        "id": "XDsfu1Rb8aw5",
        "outputId": "eebd3545-385b-4dd8-f0c3-e10ebbbebe8d"
      },
      "source": [
        "tired_of_Nans.columns"
      ],
      "execution_count": 64,
      "outputs": [
        {
          "output_type": "execute_result",
          "data": {
            "text/plain": [
              "Index(['home_rank', 'year', 'month', 'home_team_x', 'away_team',\n",
              "       'home_score_x', 'away_score_x', 'tournament_x', 'city_x', 'country',\n",
              "       'outcome_x', 'away_rank', 'country_full_y'],\n",
              "      dtype='object')"
            ]
          },
          "metadata": {
            "tags": []
          },
          "execution_count": 64
        }
      ]
    },
    {
      "cell_type": "code",
      "metadata": {
        "colab": {
          "base_uri": "https://localhost:8080/"
        },
        "id": "O8vDT-Asy1MP",
        "outputId": "9c13fa7a-6a21-4ae1-cec1-aac510582a8a"
      },
      "source": [
        "tired_of_Nans.shape"
      ],
      "execution_count": 63,
      "outputs": [
        {
          "output_type": "execute_result",
          "data": {
            "text/plain": [
              "(8904, 13)"
            ]
          },
          "metadata": {
            "tags": []
          },
          "execution_count": 63
        }
      ]
    },
    {
      "cell_type": "code",
      "metadata": {
        "id": "u8CDcmCIy82F"
      },
      "source": [
        "#Ill then drop other irrelevant columns in the dataset\n",
        "tired_of_Nans.drop(['city_x','country_full_y'],axis=1,inplace=True)"
      ],
      "execution_count": 65,
      "outputs": []
    },
    {
      "cell_type": "code",
      "metadata": {
        "colab": {
          "base_uri": "https://localhost:8080/",
          "height": 224
        },
        "id": "9EEyLQAf4ubR",
        "outputId": "a59590a4-489e-499e-a306-62599bc668ba"
      },
      "source": [
        "tired_of_Nans.head()"
      ],
      "execution_count": 66,
      "outputs": [
        {
          "output_type": "execute_result",
          "data": {
            "text/html": [
              "<div>\n",
              "<style scoped>\n",
              "    .dataframe tbody tr th:only-of-type {\n",
              "        vertical-align: middle;\n",
              "    }\n",
              "\n",
              "    .dataframe tbody tr th {\n",
              "        vertical-align: top;\n",
              "    }\n",
              "\n",
              "    .dataframe thead th {\n",
              "        text-align: right;\n",
              "    }\n",
              "</style>\n",
              "<table border=\"1\" class=\"dataframe\">\n",
              "  <thead>\n",
              "    <tr style=\"text-align: right;\">\n",
              "      <th></th>\n",
              "      <th>home_rank</th>\n",
              "      <th>year</th>\n",
              "      <th>month</th>\n",
              "      <th>home_team_x</th>\n",
              "      <th>away_team</th>\n",
              "      <th>home_score_x</th>\n",
              "      <th>away_score_x</th>\n",
              "      <th>tournament_x</th>\n",
              "      <th>country</th>\n",
              "      <th>outcome_x</th>\n",
              "      <th>away_rank</th>\n",
              "    </tr>\n",
              "  </thead>\n",
              "  <tbody>\n",
              "    <tr>\n",
              "      <th>0</th>\n",
              "      <td>28</td>\n",
              "      <td>2006</td>\n",
              "      <td>1</td>\n",
              "      <td>Tunisia</td>\n",
              "      <td>Libya</td>\n",
              "      <td>1</td>\n",
              "      <td>0</td>\n",
              "      <td>Friendly</td>\n",
              "      <td>Tunisia</td>\n",
              "      <td>Win</td>\n",
              "      <td>80.0</td>\n",
              "    </tr>\n",
              "    <tr>\n",
              "      <th>1</th>\n",
              "      <td>28</td>\n",
              "      <td>2006</td>\n",
              "      <td>1</td>\n",
              "      <td>Tunisia</td>\n",
              "      <td>Libya</td>\n",
              "      <td>1</td>\n",
              "      <td>0</td>\n",
              "      <td>Friendly</td>\n",
              "      <td>Tunisia</td>\n",
              "      <td>Win</td>\n",
              "      <td>80.0</td>\n",
              "    </tr>\n",
              "    <tr>\n",
              "      <th>2</th>\n",
              "      <td>28</td>\n",
              "      <td>2006</td>\n",
              "      <td>1</td>\n",
              "      <td>Tunisia</td>\n",
              "      <td>Libya</td>\n",
              "      <td>1</td>\n",
              "      <td>0</td>\n",
              "      <td>Friendly</td>\n",
              "      <td>Tunisia</td>\n",
              "      <td>Win</td>\n",
              "      <td>80.0</td>\n",
              "    </tr>\n",
              "    <tr>\n",
              "      <th>3</th>\n",
              "      <td>28</td>\n",
              "      <td>2006</td>\n",
              "      <td>1</td>\n",
              "      <td>Tunisia</td>\n",
              "      <td>Ghana</td>\n",
              "      <td>2</td>\n",
              "      <td>0</td>\n",
              "      <td>Friendly</td>\n",
              "      <td>Tunisia</td>\n",
              "      <td>Win</td>\n",
              "      <td>50.0</td>\n",
              "    </tr>\n",
              "    <tr>\n",
              "      <th>5</th>\n",
              "      <td>32</td>\n",
              "      <td>2006</td>\n",
              "      <td>1</td>\n",
              "      <td>Egypt</td>\n",
              "      <td>Zimbabwe</td>\n",
              "      <td>2</td>\n",
              "      <td>0</td>\n",
              "      <td>Friendly</td>\n",
              "      <td>Egypt</td>\n",
              "      <td>Win</td>\n",
              "      <td>53.0</td>\n",
              "    </tr>\n",
              "  </tbody>\n",
              "</table>\n",
              "</div>"
            ],
            "text/plain": [
              "   home_rank  year  month  ...  country outcome_x  away_rank\n",
              "0         28  2006      1  ...  Tunisia       Win       80.0\n",
              "1         28  2006      1  ...  Tunisia       Win       80.0\n",
              "2         28  2006      1  ...  Tunisia       Win       80.0\n",
              "3         28  2006      1  ...  Tunisia       Win       50.0\n",
              "5         32  2006      1  ...    Egypt       Win       53.0\n",
              "\n",
              "[5 rows x 11 columns]"
            ]
          },
          "metadata": {
            "tags": []
          },
          "execution_count": 66
        }
      ]
    },
    {
      "cell_type": "code",
      "metadata": {
        "id": "rQrALVbI9Pim"
      },
      "source": [
        "#Ill then rename some of the columns in the dataset\n",
        "tired_of_Nans = tired_of_Nans.rename({'home_team_x': 'home_team','home_score_x':'home_score',\n",
        "                                      'away_score_x':'away_score','tournament_x':'tournament',\n",
        "                                      'outcome_x':'outcome'},axis=1)\n"
      ],
      "execution_count": 71,
      "outputs": []
    },
    {
      "cell_type": "code",
      "metadata": {
        "colab": {
          "base_uri": "https://localhost:8080/",
          "height": 224
        },
        "id": "nFgX8GjoQ8GH",
        "outputId": "1b04b8d5-bf50-42e7-824d-2e1140924080"
      },
      "source": [
        "#Ill then confirm if it has been renamed\n",
        "tired_of_Nans.head()"
      ],
      "execution_count": 72,
      "outputs": [
        {
          "output_type": "execute_result",
          "data": {
            "text/html": [
              "<div>\n",
              "<style scoped>\n",
              "    .dataframe tbody tr th:only-of-type {\n",
              "        vertical-align: middle;\n",
              "    }\n",
              "\n",
              "    .dataframe tbody tr th {\n",
              "        vertical-align: top;\n",
              "    }\n",
              "\n",
              "    .dataframe thead th {\n",
              "        text-align: right;\n",
              "    }\n",
              "</style>\n",
              "<table border=\"1\" class=\"dataframe\">\n",
              "  <thead>\n",
              "    <tr style=\"text-align: right;\">\n",
              "      <th></th>\n",
              "      <th>home_rank</th>\n",
              "      <th>year</th>\n",
              "      <th>month</th>\n",
              "      <th>home_team</th>\n",
              "      <th>away_team</th>\n",
              "      <th>home_score</th>\n",
              "      <th>away_score</th>\n",
              "      <th>tournament</th>\n",
              "      <th>country</th>\n",
              "      <th>outcome</th>\n",
              "      <th>away_rank</th>\n",
              "    </tr>\n",
              "  </thead>\n",
              "  <tbody>\n",
              "    <tr>\n",
              "      <th>0</th>\n",
              "      <td>28</td>\n",
              "      <td>2006</td>\n",
              "      <td>1</td>\n",
              "      <td>Tunisia</td>\n",
              "      <td>Libya</td>\n",
              "      <td>1</td>\n",
              "      <td>0</td>\n",
              "      <td>Friendly</td>\n",
              "      <td>Tunisia</td>\n",
              "      <td>Win</td>\n",
              "      <td>80.0</td>\n",
              "    </tr>\n",
              "    <tr>\n",
              "      <th>1</th>\n",
              "      <td>28</td>\n",
              "      <td>2006</td>\n",
              "      <td>1</td>\n",
              "      <td>Tunisia</td>\n",
              "      <td>Libya</td>\n",
              "      <td>1</td>\n",
              "      <td>0</td>\n",
              "      <td>Friendly</td>\n",
              "      <td>Tunisia</td>\n",
              "      <td>Win</td>\n",
              "      <td>80.0</td>\n",
              "    </tr>\n",
              "    <tr>\n",
              "      <th>2</th>\n",
              "      <td>28</td>\n",
              "      <td>2006</td>\n",
              "      <td>1</td>\n",
              "      <td>Tunisia</td>\n",
              "      <td>Libya</td>\n",
              "      <td>1</td>\n",
              "      <td>0</td>\n",
              "      <td>Friendly</td>\n",
              "      <td>Tunisia</td>\n",
              "      <td>Win</td>\n",
              "      <td>80.0</td>\n",
              "    </tr>\n",
              "    <tr>\n",
              "      <th>3</th>\n",
              "      <td>28</td>\n",
              "      <td>2006</td>\n",
              "      <td>1</td>\n",
              "      <td>Tunisia</td>\n",
              "      <td>Ghana</td>\n",
              "      <td>2</td>\n",
              "      <td>0</td>\n",
              "      <td>Friendly</td>\n",
              "      <td>Tunisia</td>\n",
              "      <td>Win</td>\n",
              "      <td>50.0</td>\n",
              "    </tr>\n",
              "    <tr>\n",
              "      <th>5</th>\n",
              "      <td>32</td>\n",
              "      <td>2006</td>\n",
              "      <td>1</td>\n",
              "      <td>Egypt</td>\n",
              "      <td>Zimbabwe</td>\n",
              "      <td>2</td>\n",
              "      <td>0</td>\n",
              "      <td>Friendly</td>\n",
              "      <td>Egypt</td>\n",
              "      <td>Win</td>\n",
              "      <td>53.0</td>\n",
              "    </tr>\n",
              "  </tbody>\n",
              "</table>\n",
              "</div>"
            ],
            "text/plain": [
              "   home_rank  year  month home_team  ... tournament  country  outcome away_rank\n",
              "0         28  2006      1   Tunisia  ...   Friendly  Tunisia      Win      80.0\n",
              "1         28  2006      1   Tunisia  ...   Friendly  Tunisia      Win      80.0\n",
              "2         28  2006      1   Tunisia  ...   Friendly  Tunisia      Win      80.0\n",
              "3         28  2006      1   Tunisia  ...   Friendly  Tunisia      Win      50.0\n",
              "5         32  2006      1     Egypt  ...   Friendly    Egypt      Win      53.0\n",
              "\n",
              "[5 rows x 11 columns]"
            ]
          },
          "metadata": {
            "tags": []
          },
          "execution_count": 72
        }
      ]
    },
    {
      "cell_type": "markdown",
      "metadata": {
        "id": "O88aodMzvDg5"
      },
      "source": [
        "## **Exploratory Data Analysis**"
      ]
    },
    {
      "cell_type": "code",
      "metadata": {
        "colab": {
          "base_uri": "https://localhost:8080/"
        },
        "id": "DVcBRhJ0miGt",
        "outputId": "1b12009b-36fb-456e-da1f-99a5401abcbd"
      },
      "source": [
        "#Ill then preview the dataset again\n",
        "tired_of_Nans.shape"
      ],
      "execution_count": 73,
      "outputs": [
        {
          "output_type": "execute_result",
          "data": {
            "text/plain": [
              "(8904, 11)"
            ]
          },
          "metadata": {
            "tags": []
          },
          "execution_count": 73
        }
      ]
    },
    {
      "cell_type": "code",
      "metadata": {
        "colab": {
          "base_uri": "https://localhost:8080/",
          "height": 335
        },
        "id": "UFCr8gX5vPDN",
        "outputId": "0a1b5812-db91-47ec-f46a-510d0803d66b"
      },
      "source": [
        "#Ill use a boxplot to check for outliers in home_score and away_score\n",
        "fig,[ax1,ax2] = plt.subplots(1,2, figsize=(12,5))\n",
        "sns.boxplot(tired_of_Nans.home_score, ax=ax1)\n",
        "sns.boxplot(tired_of_Nans.away_score, ax=ax2)\n",
        "\n",
        "plt.show()\n",
        "#Their is presence of outliers\n"
      ],
      "execution_count": 74,
      "outputs": [
        {
          "output_type": "display_data",
          "data": {
            "image/png": "[encoded data removed]",
            "text/plain": [
              "<Figure size 864x360 with 2 Axes>"
            ]
          },
          "metadata": {
            "tags": [],
            "needs_background": "light"
          }
        }
      ]
    },
    {
      "cell_type": "code",
      "metadata": {
        "colab": {
          "base_uri": "https://localhost:8080/",
          "height": 371
        },
        "id": "3ag_RjnH769z",
        "outputId": "8b57459d-ea6c-497c-e788-f78272e28536"
      },
      "source": [
        "#Ill then take out the outliers \n",
        "#Ill also plot a boxplot to check if their are still their\n",
        "\n",
        "Q1 = merged.quantile(0.25)\n",
        "Q3 = merged.quantile(0.75)\n",
        "IQR = Q3 - Q1\n",
        "df_3 = tired_of_Nans[~((tired_of_Nans< (Q1 - 1.5 * IQR)) | (tired_of_Nans > (Q3 + 1.5 * IQR)))]\n",
        "\n",
        "fig,[ax1,ax2] = plt.subplots(1,2, figsize=(12,5))\n",
        "sns.boxplot(df_3.home_score, ax=ax1)\n",
        "sns.boxplot(df_3.away_score, ax=ax2)\n",
        "fig.suptitle('Boxplots Showing Outliers in Goals Scored', fontsize=15, color='b')\n",
        "\n",
        "plt.show()\n",
        "#Their are no presence of outliers"
      ],
      "execution_count": 76,
      "outputs": [
        {
          "output_type": "display_data",
          "data": {
            "image/png": "[encoded data removed]",
            "text/plain": [
              "<Figure size 864x360 with 2 Axes>"
            ]
          },
          "metadata": {
            "tags": [],
            "needs_background": "light"
          }
        }
      ]
    },
    {
      "cell_type": "code",
      "metadata": {
        "colab": {
          "base_uri": "https://localhost:8080/",
          "height": 432
        },
        "id": "qbCEcQrqO2e7",
        "outputId": "b55c504c-3100-43c0-a672-4a608ae03e59"
      },
      "source": [
        "#Ill use a histogram to plot the difference between home goals and away goals.\n",
        "fig, [ax1,ax2] = plt.subplots(nrows=1,ncols=2, figsize=(10,6))\n",
        "sns.distplot(df_3['home_score'], bins=10, ax =ax1, kde=False, color='yellow')\n",
        "sns.distplot(df_3['away_score'], bins=10, ax =ax2, kde=False, color ='green')\n",
        "fig.suptitle('Distribution of Goals', fontsize=19, color='black')\n",
        "plt.show()"
      ],
      "execution_count": 77,
      "outputs": [
        {
          "output_type": "display_data",
          "data": {
            "image/png": "[encoded data removed]",
            "text/plain": [
              "<Figure size 720x432 with 2 Axes>"
            ]
          },
          "metadata": {
            "tags": [],
            "needs_background": "light"
          }
        }
      ]
    },
    {
      "cell_type": "markdown",
      "metadata": {
        "id": "zqGkogeolzfd"
      },
      "source": [
        "***Coorelation***"
      ]
    },
    {
      "cell_type": "code",
      "metadata": {
        "colab": {
          "base_uri": "https://localhost:8080/",
          "height": 554
        },
        "id": "gdKgQHQ_l237",
        "outputId": "86c54482-39e2-4d41-b154-6637fc7e001c"
      },
      "source": [
        "#ILl then plot a scatter plot showing Correlation Between Rank and Goals Scored\n",
        "fig, [axx1, axx2] = plt.subplots(nrows=1, ncols=2, figsize=(12,8))\n",
        "fig.suptitle('Scatter Showing Correlation Between Rank and Goals Scored', fontsize=19, color='black')\n",
        "axx1.scatter(df_3.home_rank, df_3.home_score)\n",
        "axx1.set_xlabel('Home Rank')\n",
        "axx1.set_ylabel('Home Score')\n",
        "axx2.scatter(away_rank.away_rank, away_rank.away_score )\n",
        "axx2.set_xlabel('Away Rank')\n",
        "axx2.set_ylabel('Away Score')\n",
        "\n",
        "plt.show()"
      ],
      "execution_count": 78,
      "outputs": [
        {
          "output_type": "display_data",
          "data": {
            "image/png": "[encoded data removed]",
            "text/plain": [
              "<Figure size 864x576 with 2 Axes>"
            ]
          },
          "metadata": {
            "tags": [],
            "needs_background": "light"
          }
        }
      ]
    },
    {
      "cell_type": "code",
      "metadata": {
        "colab": {
          "base_uri": "https://localhost:8080/"
        },
        "id": "yKmK-ZvITEzz",
        "outputId": "8c9ba62d-a433-4be3-88a6-7551b50e8ca8"
      },
      "source": [
        "#Ill then check for nulls in the dataset\n",
        "df_3.isnull().sum()"
      ],
      "execution_count": 80,
      "outputs": [
        {
          "output_type": "execute_result",
          "data": {
            "text/plain": [
              "home_rank       0\n",
              "year            0\n",
              "month           0\n",
              "home_team       0\n",
              "away_team       0\n",
              "home_score    189\n",
              "away_score     59\n",
              "tournament      0\n",
              "country         0\n",
              "outcome         0\n",
              "away_rank       0\n",
              "dtype: int64"
            ]
          },
          "metadata": {
            "tags": []
          },
          "execution_count": 80
        }
      ]
    },
    {
      "cell_type": "code",
      "metadata": {
        "id": "5k_c0hdfTXdt"
      },
      "source": [
        "#ILl then drop the nulls\n",
        "df_3.dropna(inplace=True)"
      ],
      "execution_count": 81,
      "outputs": []
    },
    {
      "cell_type": "code",
      "metadata": {
        "colab": {
          "base_uri": "https://localhost:8080/"
        },
        "id": "4dfbhSUtTzel",
        "outputId": "a001c1b5-c5de-4874-c34b-0732ddcd6da2"
      },
      "source": [
        "#Ill then confirm if it has been dropped\n",
        "df_3.isnull().sum()"
      ],
      "execution_count": 82,
      "outputs": [
        {
          "output_type": "execute_result",
          "data": {
            "text/plain": [
              "home_rank     0\n",
              "year          0\n",
              "month         0\n",
              "home_team     0\n",
              "away_team     0\n",
              "home_score    0\n",
              "away_score    0\n",
              "tournament    0\n",
              "country       0\n",
              "outcome       0\n",
              "away_rank     0\n",
              "dtype: int64"
            ]
          },
          "metadata": {
            "tags": []
          },
          "execution_count": 82
        }
      ]
    },
    {
      "cell_type": "markdown",
      "metadata": {
        "id": "PsxLRw9QmhLS"
      },
      "source": [
        "**Mulitcollinearity**"
      ]
    },
    {
      "cell_type": "code",
      "metadata": {
        "colab": {
          "base_uri": "https://localhost:8080/",
          "height": 235
        },
        "id": "6ExrA7Shmnqw",
        "outputId": "08f11155-46f4-48d9-d6c4-9c1d1e1db87e"
      },
      "source": [
        "#Ill then check for correlation\n",
        "\n",
        "correlation = df_3.corr()\n",
        "correlation\n"
      ],
      "execution_count": 83,
      "outputs": [
        {
          "output_type": "execute_result",
          "data": {
            "text/html": [
              "<div>\n",
              "<style scoped>\n",
              "    .dataframe tbody tr th:only-of-type {\n",
              "        vertical-align: middle;\n",
              "    }\n",
              "\n",
              "    .dataframe tbody tr th {\n",
              "        vertical-align: top;\n",
              "    }\n",
              "\n",
              "    .dataframe thead th {\n",
              "        text-align: right;\n",
              "    }\n",
              "</style>\n",
              "<table border=\"1\" class=\"dataframe\">\n",
              "  <thead>\n",
              "    <tr style=\"text-align: right;\">\n",
              "      <th></th>\n",
              "      <th>home_rank</th>\n",
              "      <th>year</th>\n",
              "      <th>month</th>\n",
              "      <th>home_score</th>\n",
              "      <th>away_score</th>\n",
              "      <th>away_rank</th>\n",
              "    </tr>\n",
              "  </thead>\n",
              "  <tbody>\n",
              "    <tr>\n",
              "      <th>home_rank</th>\n",
              "      <td>1.000000</td>\n",
              "      <td>0.018811</td>\n",
              "      <td>0.007672</td>\n",
              "      <td>-0.182160</td>\n",
              "      <td>0.191458</td>\n",
              "      <td>0.436518</td>\n",
              "    </tr>\n",
              "    <tr>\n",
              "      <th>year</th>\n",
              "      <td>0.018811</td>\n",
              "      <td>1.000000</td>\n",
              "      <td>0.027885</td>\n",
              "      <td>0.002243</td>\n",
              "      <td>-0.000628</td>\n",
              "      <td>0.043526</td>\n",
              "    </tr>\n",
              "    <tr>\n",
              "      <th>month</th>\n",
              "      <td>0.007672</td>\n",
              "      <td>0.027885</td>\n",
              "      <td>1.000000</td>\n",
              "      <td>0.019201</td>\n",
              "      <td>0.041988</td>\n",
              "      <td>-0.011079</td>\n",
              "    </tr>\n",
              "    <tr>\n",
              "      <th>home_score</th>\n",
              "      <td>-0.182160</td>\n",
              "      <td>0.002243</td>\n",
              "      <td>0.019201</td>\n",
              "      <td>1.000000</td>\n",
              "      <td>-0.134498</td>\n",
              "      <td>0.273695</td>\n",
              "    </tr>\n",
              "    <tr>\n",
              "      <th>away_score</th>\n",
              "      <td>0.191458</td>\n",
              "      <td>-0.000628</td>\n",
              "      <td>0.041988</td>\n",
              "      <td>-0.134498</td>\n",
              "      <td>1.000000</td>\n",
              "      <td>-0.224575</td>\n",
              "    </tr>\n",
              "    <tr>\n",
              "      <th>away_rank</th>\n",
              "      <td>0.436518</td>\n",
              "      <td>0.043526</td>\n",
              "      <td>-0.011079</td>\n",
              "      <td>0.273695</td>\n",
              "      <td>-0.224575</td>\n",
              "      <td>1.000000</td>\n",
              "    </tr>\n",
              "  </tbody>\n",
              "</table>\n",
              "</div>"
            ],
            "text/plain": [
              "            home_rank      year     month  home_score  away_score  away_rank\n",
              "home_rank    1.000000  0.018811  0.007672   -0.182160    0.191458   0.436518\n",
              "year         0.018811  1.000000  0.027885    0.002243   -0.000628   0.043526\n",
              "month        0.007672  0.027885  1.000000    0.019201    0.041988  -0.011079\n",
              "home_score  -0.182160  0.002243  0.019201    1.000000   -0.134498   0.273695\n",
              "away_score   0.191458 -0.000628  0.041988   -0.134498    1.000000  -0.224575\n",
              "away_rank    0.436518  0.043526 -0.011079    0.273695   -0.224575   1.000000"
            ]
          },
          "metadata": {
            "tags": []
          },
          "execution_count": 83
        }
      ]
    },
    {
      "cell_type": "code",
      "metadata": {
        "colab": {
          "base_uri": "https://localhost:8080/",
          "height": 235
        },
        "id": "9JucYjE3VMeP",
        "outputId": "8228faa5-4b1a-4657-c45a-f2fd414c282e"
      },
      "source": [
        "#Ill then calculate the VIF score for each of the numerical varaible\n",
        "pd.DataFrame(np.linalg.inv(correlation.values), index=correlation.index, columns=correlation.columns)\n"
      ],
      "execution_count": 87,
      "outputs": [
        {
          "output_type": "execute_result",
          "data": {
            "text/html": [
              "<div>\n",
              "<style scoped>\n",
              "    .dataframe tbody tr th:only-of-type {\n",
              "        vertical-align: middle;\n",
              "    }\n",
              "\n",
              "    .dataframe tbody tr th {\n",
              "        vertical-align: top;\n",
              "    }\n",
              "\n",
              "    .dataframe thead th {\n",
              "        text-align: right;\n",
              "    }\n",
              "</style>\n",
              "<table border=\"1\" class=\"dataframe\">\n",
              "  <thead>\n",
              "    <tr style=\"text-align: right;\">\n",
              "      <th></th>\n",
              "      <th>home_rank</th>\n",
              "      <th>year</th>\n",
              "      <th>month</th>\n",
              "      <th>home_score</th>\n",
              "      <th>away_score</th>\n",
              "      <th>away_rank</th>\n",
              "    </tr>\n",
              "  </thead>\n",
              "  <tbody>\n",
              "    <tr>\n",
              "      <th>home_rank</th>\n",
              "      <td>1.571798</td>\n",
              "      <td>0.009351</td>\n",
              "      <td>-0.013097</td>\n",
              "      <td>0.478017</td>\n",
              "      <td>-0.441966</td>\n",
              "      <td>-0.916755</td>\n",
              "    </tr>\n",
              "    <tr>\n",
              "      <th>year</th>\n",
              "      <td>0.009351</td>\n",
              "      <td>1.002933</td>\n",
              "      <td>-0.028462</td>\n",
              "      <td>0.013404</td>\n",
              "      <td>-0.010297</td>\n",
              "      <td>-0.054032</td>\n",
              "    </tr>\n",
              "    <tr>\n",
              "      <th>month</th>\n",
              "      <td>-0.013097</td>\n",
              "      <td>-0.028462</td>\n",
              "      <td>1.003379</td>\n",
              "      <td>-0.031834</td>\n",
              "      <td>-0.039920</td>\n",
              "      <td>0.017820</td>\n",
              "    </tr>\n",
              "    <tr>\n",
              "      <th>home_score</th>\n",
              "      <td>0.478017</td>\n",
              "      <td>0.013404</td>\n",
              "      <td>-0.031834</td>\n",
              "      <td>1.233822</td>\n",
              "      <td>-0.049640</td>\n",
              "      <td>-0.558438</td>\n",
              "    </tr>\n",
              "    <tr>\n",
              "      <th>away_score</th>\n",
              "      <td>-0.441966</td>\n",
              "      <td>-0.010297</td>\n",
              "      <td>-0.039920</td>\n",
              "      <td>-0.049640</td>\n",
              "      <td>1.185794</td>\n",
              "      <td>0.472818</td>\n",
              "    </tr>\n",
              "    <tr>\n",
              "      <th>away_rank</th>\n",
              "      <td>-0.916755</td>\n",
              "      <td>-0.054032</td>\n",
              "      <td>0.017820</td>\n",
              "      <td>-0.558438</td>\n",
              "      <td>0.472818</td>\n",
              "      <td>1.661754</td>\n",
              "    </tr>\n",
              "  </tbody>\n",
              "</table>\n",
              "</div>"
            ],
            "text/plain": [
              "            home_rank      year     month  home_score  away_score  away_rank\n",
              "home_rank    1.571798  0.009351 -0.013097    0.478017   -0.441966  -0.916755\n",
              "year         0.009351  1.002933 -0.028462    0.013404   -0.010297  -0.054032\n",
              "month       -0.013097 -0.028462  1.003379   -0.031834   -0.039920   0.017820\n",
              "home_score   0.478017  0.013404 -0.031834    1.233822   -0.049640  -0.558438\n",
              "away_score  -0.441966 -0.010297 -0.039920   -0.049640    1.185794   0.472818\n",
              "away_rank   -0.916755 -0.054032  0.017820   -0.558438    0.472818   1.661754"
            ]
          },
          "metadata": {
            "tags": []
          },
          "execution_count": 87
        }
      ]
    },
    {
      "cell_type": "markdown",
      "metadata": {
        "id": "XSefEDXvWqnV"
      },
      "source": [
        "***Conclusion***\n",
        "\n",
        "Upon detecting Multicolinearity,the VIF score\n",
        "\n",
        "shows that the variables is not between 5 and 10.\n",
        "\n",
        "Therefore no correlation."
      ]
    },
    {
      "cell_type": "markdown",
      "metadata": {
        "id": "_KowgNbkX1f-"
      },
      "source": [
        "### **Polynomial Regression**\n",
        "\n"
      ]
    },
    {
      "cell_type": "code",
      "metadata": {
        "colab": {
          "base_uri": "https://localhost:8080/",
          "height": 204
        },
        "id": "qauqQOKcX7Gg",
        "outputId": "8d68b5ae-8b71-4aed-d41e-1f3ff477275d"
      },
      "source": [
        "#Ill create a model that predicts the goals scored by home team\n",
        "model_Polynomial = df_3[['home_rank','home_score']]\n",
        "model_Polynomial.head()"
      ],
      "execution_count": 89,
      "outputs": [
        {
          "output_type": "execute_result",
          "data": {
            "text/html": [
              "<div>\n",
              "<style scoped>\n",
              "    .dataframe tbody tr th:only-of-type {\n",
              "        vertical-align: middle;\n",
              "    }\n",
              "\n",
              "    .dataframe tbody tr th {\n",
              "        vertical-align: top;\n",
              "    }\n",
              "\n",
              "    .dataframe thead th {\n",
              "        text-align: right;\n",
              "    }\n",
              "</style>\n",
              "<table border=\"1\" class=\"dataframe\">\n",
              "  <thead>\n",
              "    <tr style=\"text-align: right;\">\n",
              "      <th></th>\n",
              "      <th>home_rank</th>\n",
              "      <th>home_score</th>\n",
              "    </tr>\n",
              "  </thead>\n",
              "  <tbody>\n",
              "    <tr>\n",
              "      <th>0</th>\n",
              "      <td>28</td>\n",
              "      <td>1.0</td>\n",
              "    </tr>\n",
              "    <tr>\n",
              "      <th>1</th>\n",
              "      <td>28</td>\n",
              "      <td>1.0</td>\n",
              "    </tr>\n",
              "    <tr>\n",
              "      <th>2</th>\n",
              "      <td>28</td>\n",
              "      <td>1.0</td>\n",
              "    </tr>\n",
              "    <tr>\n",
              "      <th>3</th>\n",
              "      <td>28</td>\n",
              "      <td>2.0</td>\n",
              "    </tr>\n",
              "    <tr>\n",
              "      <th>5</th>\n",
              "      <td>32</td>\n",
              "      <td>2.0</td>\n",
              "    </tr>\n",
              "  </tbody>\n",
              "</table>\n",
              "</div>"
            ],
            "text/plain": [
              "   home_rank  home_score\n",
              "0         28         1.0\n",
              "1         28         1.0\n",
              "2         28         1.0\n",
              "3         28         2.0\n",
              "5         32         2.0"
            ]
          },
          "metadata": {
            "tags": []
          },
          "execution_count": 89
        }
      ]
    },
    {
      "cell_type": "code",
      "metadata": {
        "id": "D6PMYJ26ZUTo"
      },
      "source": [
        "#Ill then show the target variables\n",
        "fitting1 = model_Polynomial.home_rank.values.reshape(-1,1)\n",
        "\n",
        "greg = np.arange(fitting1.min(), fitting1.max(), 1)[:, np.newaxis]\n",
        "katono= model_Polynomial.home_score.values.reshape(-1,1)"
      ],
      "execution_count": 90,
      "outputs": []
    },
    {
      "cell_type": "code",
      "metadata": {
        "colab": {
          "base_uri": "https://localhost:8080/",
          "height": 295
        },
        "id": "WGXHtRqwZ1TB",
        "outputId": "fa277bc4-e2a2-4384-c270-c7badd957103"
      },
      "source": [
        "#Ill then plot a scatter plot to find if their is any relationship\n",
        "plt.scatter(fitting1, katono, color='blue') \n",
        "plt.title('Rank vs Score')\n",
        "plt.xlabel('Rank')\n",
        "plt.ylabel('Score')\n",
        "plt.show()\n",
        "#No relationship shown"
      ],
      "execution_count": 91,
      "outputs": [
        {
          "output_type": "display_data",
          "data": {
            "image/png": "[encoded data removed]",
            "text/plain": [
              "<Figure size 432x288 with 1 Axes>"
            ]
          },
          "metadata": {
            "tags": [],
            "needs_background": "light"
          }
        }
      ]
    },
    {
      "cell_type": "code",
      "metadata": {
        "id": "cIAi1pcfaTAQ"
      },
      "source": [
        "#Ill then split the features to training and test\n",
        "X_train, X_test, Y_train, Y_test = train_test_split(fitting1,katono, test_size=0.3, random_state=23)\n"
      ],
      "execution_count": 92,
      "outputs": []
    },
    {
      "cell_type": "code",
      "metadata": {
        "id": "Zwky7lWba2ST"
      },
      "source": [
        "#ILl then create features, polynomial and quadratic\n",
        "#Ill also add Linear Regression\n",
        "quadratic = PolynomialFeatures(degree=2)\n",
        "cubic = PolynomialFeatures(degree=3)\n",
        "x_quad = quadratic.fit_transform(X_train)\n",
        "x_test = quadratic.fit_transform(X_test)\n",
        "x_cube = cubic.fit_transform(X_train)\n",
        "lin= LinearRegression()\n",
        "quad = lin.fit(X_train, Y_train)\n",
        "y_lin = lin.predict(greg)\n",
        "l_r2 = r2_score(Y_test, lin.predict(X_test))"
      ],
      "execution_count": 97,
      "outputs": []
    },
    {
      "cell_type": "code",
      "metadata": {
        "colab": {
          "base_uri": "https://localhost:8080/"
        },
        "id": "K40_hgz-byPa",
        "outputId": "af128255-9fcc-491a-8f54-3b6b82387e21"
      },
      "source": [
        "#Fitting\n",
        "linpol = lin.fit(x_quad, Y_train)\n",
        "y_quad_fit = linpol.predict(quadratic.fit_transform(greg))\n",
        "\n",
        "# calculating R squared\n",
        "polpre = linpol.predict(x_quad)\n",
        "quad_r2 = r2_score(Y_train, polpre)\n",
        "print('Quad RMSE: ', np.sqrt(mean_squared_error(Y_train, polpre)), '\\nQuad r_squared: ', quad_r2)"
      ],
      "execution_count": 102,
      "outputs": [
        {
          "output_type": "stream",
          "text": [
            "Quad RMSE:  1.2449639664224987 \n",
            "Quad r_squared:  0.03207154557706182\n"
          ],
          "name": "stdout"
        }
      ]
    },
    {
      "cell_type": "code",
      "metadata": {
        "id": "1XNURf-Oci_1"
      },
      "source": [
        "# getting the residuals to check for heteroskedasticity \n",
        "resid = np.subtract(polpre, lebo_train)\n",
        "pd.DataFrame(resid)\n",
        "\n",
        "resid.mean()"
      ],
      "execution_count": null,
      "outputs": []
    },
    {
      "cell_type": "code",
      "metadata": {
        "colab": {
          "base_uri": "https://localhost:8080/"
        },
        "id": "_agNBUdUc7iO",
        "outputId": "8c634c37-3a93-4190-f380-10e941b9474d"
      },
      "source": [
        "# Ill then get the residuals to check for heteroskedasticity \n",
        "residuals= np.subtract(polpre, Y_train)\n",
        "pd.DataFrame(residuals)\n",
        "\n",
        "residuals.mean()"
      ],
      "execution_count": 103,
      "outputs": [
        {
          "output_type": "execute_result",
          "data": {
            "text/plain": [
              "1.6300617308244582e-16"
            ]
          },
          "metadata": {
            "tags": []
          },
          "execution_count": 103
        }
      ]
    },
    {
      "cell_type": "code",
      "metadata": {
        "colab": {
          "base_uri": "https://localhost:8080/",
          "height": 279
        },
        "id": "_SfO0ln3dhCj",
        "outputId": "9c0dbe58-a681-45d4-ef91-0f0df3aee863"
      },
      "source": [
        "#Ill then plot the residuals\n",
        "plt.scatter(polpre, residuals, color='blue')\n",
        "plt.ylabel('RESIDUAL')\n",
        "plt.xlabel('FITTED VALUES')\n",
        "plt.axhline(y= residuals.mean(), color='red', linewidth=1)\n",
        "plt.show()"
      ],
      "execution_count": 107,
      "outputs": [
        {
          "output_type": "display_data",
          "data": {
            "image/png": "[encoded data removed]",
            "text/plain": [
              "<Figure size 432x288 with 1 Axes>"
            ]
          },
          "metadata": {
            "tags": [],
            "needs_background": "light"
          }
        }
      ]
    },
    {
      "cell_type": "markdown",
      "metadata": {
        "id": "ncsJB5JqeenO"
      },
      "source": [
        "***Conclusion***\n",
        "\n",
        "On calculating the RMSE, we found that it is 1.2449639664224987. Therefore meaning the model is not good for predicting data since RMSE values between 0.2 and 0.5 shows that the model can relatively predict the data accurately. In addition, Adjusted R-squared more than 0.75 is a very good value for showing the accuracy.IN OUR CASE IT IS A HIGH RMSE "
      ]
    },
    {
      "cell_type": "markdown",
      "metadata": {
        "id": "9OfEleN7fhyQ"
      },
      "source": [
        "***Logistice Regression Approach***\n"
      ]
    },
    {
      "cell_type": "code",
      "metadata": {
        "id": "N4cqsWnbrlhT"
      },
      "source": [
        "#Creating a copy of the dataframe\n",
        "very_tired_of_Nulls = tired_of_Nans"
      ],
      "execution_count": 109,
      "outputs": []
    },
    {
      "cell_type": "code",
      "metadata": {
        "colab": {
          "base_uri": "https://localhost:8080/",
          "height": 224
        },
        "id": "VBLS6uy5sB7o",
        "outputId": "7e320515-2d74-4c1d-ce19-a3534fde7a4b"
      },
      "source": [
        "#Ill then view the dataframe\n",
        "very_tired_of_Nulls.head()"
      ],
      "execution_count": 110,
      "outputs": [
        {
          "output_type": "execute_result",
          "data": {
            "text/html": [
              "<div>\n",
              "<style scoped>\n",
              "    .dataframe tbody tr th:only-of-type {\n",
              "        vertical-align: middle;\n",
              "    }\n",
              "\n",
              "    .dataframe tbody tr th {\n",
              "        vertical-align: top;\n",
              "    }\n",
              "\n",
              "    .dataframe thead th {\n",
              "        text-align: right;\n",
              "    }\n",
              "</style>\n",
              "<table border=\"1\" class=\"dataframe\">\n",
              "  <thead>\n",
              "    <tr style=\"text-align: right;\">\n",
              "      <th></th>\n",
              "      <th>home_rank</th>\n",
              "      <th>year</th>\n",
              "      <th>month</th>\n",
              "      <th>home_team</th>\n",
              "      <th>away_team</th>\n",
              "      <th>home_score</th>\n",
              "      <th>away_score</th>\n",
              "      <th>tournament</th>\n",
              "      <th>country</th>\n",
              "      <th>outcome</th>\n",
              "      <th>away_rank</th>\n",
              "    </tr>\n",
              "  </thead>\n",
              "  <tbody>\n",
              "    <tr>\n",
              "      <th>0</th>\n",
              "      <td>28</td>\n",
              "      <td>2006</td>\n",
              "      <td>1</td>\n",
              "      <td>Tunisia</td>\n",
              "      <td>Libya</td>\n",
              "      <td>1</td>\n",
              "      <td>0</td>\n",
              "      <td>Friendly</td>\n",
              "      <td>Tunisia</td>\n",
              "      <td>Win</td>\n",
              "      <td>80.0</td>\n",
              "    </tr>\n",
              "    <tr>\n",
              "      <th>1</th>\n",
              "      <td>28</td>\n",
              "      <td>2006</td>\n",
              "      <td>1</td>\n",
              "      <td>Tunisia</td>\n",
              "      <td>Libya</td>\n",
              "      <td>1</td>\n",
              "      <td>0</td>\n",
              "      <td>Friendly</td>\n",
              "      <td>Tunisia</td>\n",
              "      <td>Win</td>\n",
              "      <td>80.0</td>\n",
              "    </tr>\n",
              "    <tr>\n",
              "      <th>2</th>\n",
              "      <td>28</td>\n",
              "      <td>2006</td>\n",
              "      <td>1</td>\n",
              "      <td>Tunisia</td>\n",
              "      <td>Libya</td>\n",
              "      <td>1</td>\n",
              "      <td>0</td>\n",
              "      <td>Friendly</td>\n",
              "      <td>Tunisia</td>\n",
              "      <td>Win</td>\n",
              "      <td>80.0</td>\n",
              "    </tr>\n",
              "    <tr>\n",
              "      <th>3</th>\n",
              "      <td>28</td>\n",
              "      <td>2006</td>\n",
              "      <td>1</td>\n",
              "      <td>Tunisia</td>\n",
              "      <td>Ghana</td>\n",
              "      <td>2</td>\n",
              "      <td>0</td>\n",
              "      <td>Friendly</td>\n",
              "      <td>Tunisia</td>\n",
              "      <td>Win</td>\n",
              "      <td>50.0</td>\n",
              "    </tr>\n",
              "    <tr>\n",
              "      <th>5</th>\n",
              "      <td>32</td>\n",
              "      <td>2006</td>\n",
              "      <td>1</td>\n",
              "      <td>Egypt</td>\n",
              "      <td>Zimbabwe</td>\n",
              "      <td>2</td>\n",
              "      <td>0</td>\n",
              "      <td>Friendly</td>\n",
              "      <td>Egypt</td>\n",
              "      <td>Win</td>\n",
              "      <td>53.0</td>\n",
              "    </tr>\n",
              "  </tbody>\n",
              "</table>\n",
              "</div>"
            ],
            "text/plain": [
              "   home_rank  year  month home_team  ... tournament  country  outcome away_rank\n",
              "0         28  2006      1   Tunisia  ...   Friendly  Tunisia      Win      80.0\n",
              "1         28  2006      1   Tunisia  ...   Friendly  Tunisia      Win      80.0\n",
              "2         28  2006      1   Tunisia  ...   Friendly  Tunisia      Win      80.0\n",
              "3         28  2006      1   Tunisia  ...   Friendly  Tunisia      Win      50.0\n",
              "5         32  2006      1     Egypt  ...   Friendly    Egypt      Win      53.0\n",
              "\n",
              "[5 rows x 11 columns]"
            ]
          },
          "metadata": {
            "tags": []
          },
          "execution_count": 110
        }
      ]
    },
    {
      "cell_type": "code",
      "metadata": {
        "id": "NLhGVAN3uaNC"
      },
      "source": [
        "\n",
        "logistic = very_tired_of_Nulls.drop(['outcome', 'home_score', 'away_score'], 1)\n",
        "regression = very_tired_of_Nulls['outcome']"
      ],
      "execution_count": 113,
      "outputs": []
    },
    {
      "cell_type": "code",
      "metadata": {
        "colab": {
          "base_uri": "https://localhost:8080/",
          "height": 287
        },
        "id": "r95Lp7wWsN_Z",
        "outputId": "f39462f3-098c-426c-9d5f-f52e5b84811d"
      },
      "source": [
        "# Ill then create dummy variables to convert categorical columns to numerical variables\n",
        "dummy = pd.get_dummies(logistic, drop_first=True)\n",
        "dummy.head()"
      ],
      "execution_count": 115,
      "outputs": [
        {
          "output_type": "execute_result",
          "data": {
            "text/html": [
              "<div>\n",
              "<style scoped>\n",
              "    .dataframe tbody tr th:only-of-type {\n",
              "        vertical-align: middle;\n",
              "    }\n",
              "\n",
              "    .dataframe tbody tr th {\n",
              "        vertical-align: top;\n",
              "    }\n",
              "\n",
              "    .dataframe thead th {\n",
              "        text-align: right;\n",
              "    }\n",
              "</style>\n",
              "<table border=\"1\" class=\"dataframe\">\n",
              "  <thead>\n",
              "    <tr style=\"text-align: right;\">\n",
              "      <th></th>\n",
              "      <th>home_rank</th>\n",
              "      <th>year</th>\n",
              "      <th>month</th>\n",
              "      <th>away_rank</th>\n",
              "      <th>home_team_Albania</th>\n",
              "      <th>home_team_Algeria</th>\n",
              "      <th>home_team_Andorra</th>\n",
              "      <th>home_team_Angola</th>\n",
              "      <th>home_team_Anguilla</th>\n",
              "      <th>home_team_Antigua and Barbuda</th>\n",
              "      <th>home_team_Argentina</th>\n",
              "      <th>home_team_Armenia</th>\n",
              "      <th>home_team_Aruba</th>\n",
              "      <th>home_team_Australia</th>\n",
              "      <th>home_team_Austria</th>\n",
              "      <th>home_team_Azerbaijan</th>\n",
              "      <th>home_team_Bahamas</th>\n",
              "      <th>home_team_Bahrain</th>\n",
              "      <th>home_team_Bangladesh</th>\n",
              "      <th>home_team_Barbados</th>\n",
              "      <th>home_team_Belarus</th>\n",
              "      <th>home_team_Belgium</th>\n",
              "      <th>home_team_Belize</th>\n",
              "      <th>home_team_Benin</th>\n",
              "      <th>home_team_Bermuda</th>\n",
              "      <th>home_team_Bhutan</th>\n",
              "      <th>home_team_Bolivia</th>\n",
              "      <th>home_team_Bosnia and Herzegovina</th>\n",
              "      <th>home_team_Botswana</th>\n",
              "      <th>home_team_Brazil</th>\n",
              "      <th>home_team_British Virgin Islands</th>\n",
              "      <th>home_team_Bulgaria</th>\n",
              "      <th>home_team_Burkina Faso</th>\n",
              "      <th>home_team_Burundi</th>\n",
              "      <th>home_team_Cambodia</th>\n",
              "      <th>home_team_Cameroon</th>\n",
              "      <th>home_team_Canada</th>\n",
              "      <th>home_team_Cayman Islands</th>\n",
              "      <th>home_team_Central African Republic</th>\n",
              "      <th>home_team_Chad</th>\n",
              "      <th>...</th>\n",
              "      <th>country_Senegal</th>\n",
              "      <th>country_Serbia</th>\n",
              "      <th>country_Seychelles</th>\n",
              "      <th>country_Sierra Leone</th>\n",
              "      <th>country_Singapore</th>\n",
              "      <th>country_Slovakia</th>\n",
              "      <th>country_Slovenia</th>\n",
              "      <th>country_Solomon Islands</th>\n",
              "      <th>country_South Africa</th>\n",
              "      <th>country_South Sudan</th>\n",
              "      <th>country_Spain</th>\n",
              "      <th>country_Sri Lanka</th>\n",
              "      <th>country_Sudan</th>\n",
              "      <th>country_Suriname</th>\n",
              "      <th>country_Sweden</th>\n",
              "      <th>country_Switzerland</th>\n",
              "      <th>country_Syria</th>\n",
              "      <th>country_Tahiti</th>\n",
              "      <th>country_Tajikistan</th>\n",
              "      <th>country_Tanzania</th>\n",
              "      <th>country_Thailand</th>\n",
              "      <th>country_Togo</th>\n",
              "      <th>country_Tonga</th>\n",
              "      <th>country_Trinidad and Tobago</th>\n",
              "      <th>country_Tunisia</th>\n",
              "      <th>country_Turkey</th>\n",
              "      <th>country_Turkmenistan</th>\n",
              "      <th>country_Turks and Caicos Islands</th>\n",
              "      <th>country_Uganda</th>\n",
              "      <th>country_Ukraine</th>\n",
              "      <th>country_United Arab Emirates</th>\n",
              "      <th>country_Uruguay</th>\n",
              "      <th>country_Uzbekistan</th>\n",
              "      <th>country_Vanuatu</th>\n",
              "      <th>country_Venezuela</th>\n",
              "      <th>country_Vietnam</th>\n",
              "      <th>country_Wales</th>\n",
              "      <th>country_Yemen</th>\n",
              "      <th>country_Zambia</th>\n",
              "      <th>country_Zimbabwe</th>\n",
              "    </tr>\n",
              "  </thead>\n",
              "  <tbody>\n",
              "    <tr>\n",
              "      <th>0</th>\n",
              "      <td>28</td>\n",
              "      <td>2006</td>\n",
              "      <td>1</td>\n",
              "      <td>80.0</td>\n",
              "      <td>0</td>\n",
              "      <td>0</td>\n",
              "      <td>0</td>\n",
              "      <td>0</td>\n",
              "      <td>0</td>\n",
              "      <td>0</td>\n",
              "      <td>0</td>\n",
              "      <td>0</td>\n",
              "      <td>0</td>\n",
              "      <td>0</td>\n",
              "      <td>0</td>\n",
              "      <td>0</td>\n",
              "      <td>0</td>\n",
              "      <td>0</td>\n",
              "      <td>0</td>\n",
              "      <td>0</td>\n",
              "      <td>0</td>\n",
              "      <td>0</td>\n",
              "      <td>0</td>\n",
              "      <td>0</td>\n",
              "      <td>0</td>\n",
              "      <td>0</td>\n",
              "      <td>0</td>\n",
              "      <td>0</td>\n",
              "      <td>0</td>\n",
              "      <td>0</td>\n",
              "      <td>0</td>\n",
              "      <td>0</td>\n",
              "      <td>0</td>\n",
              "      <td>0</td>\n",
              "      <td>0</td>\n",
              "      <td>0</td>\n",
              "      <td>0</td>\n",
              "      <td>0</td>\n",
              "      <td>0</td>\n",
              "      <td>0</td>\n",
              "      <td>...</td>\n",
              "      <td>0</td>\n",
              "      <td>0</td>\n",
              "      <td>0</td>\n",
              "      <td>0</td>\n",
              "      <td>0</td>\n",
              "      <td>0</td>\n",
              "      <td>0</td>\n",
              "      <td>0</td>\n",
              "      <td>0</td>\n",
              "      <td>0</td>\n",
              "      <td>0</td>\n",
              "      <td>0</td>\n",
              "      <td>0</td>\n",
              "      <td>0</td>\n",
              "      <td>0</td>\n",
              "      <td>0</td>\n",
              "      <td>0</td>\n",
              "      <td>0</td>\n",
              "      <td>0</td>\n",
              "      <td>0</td>\n",
              "      <td>0</td>\n",
              "      <td>0</td>\n",
              "      <td>0</td>\n",
              "      <td>0</td>\n",
              "      <td>1</td>\n",
              "      <td>0</td>\n",
              "      <td>0</td>\n",
              "      <td>0</td>\n",
              "      <td>0</td>\n",
              "      <td>0</td>\n",
              "      <td>0</td>\n",
              "      <td>0</td>\n",
              "      <td>0</td>\n",
              "      <td>0</td>\n",
              "      <td>0</td>\n",
              "      <td>0</td>\n",
              "      <td>0</td>\n",
              "      <td>0</td>\n",
              "      <td>0</td>\n",
              "      <td>0</td>\n",
              "    </tr>\n",
              "    <tr>\n",
              "      <th>1</th>\n",
              "      <td>28</td>\n",
              "      <td>2006</td>\n",
              "      <td>1</td>\n",
              "      <td>80.0</td>\n",
              "      <td>0</td>\n",
              "      <td>0</td>\n",
              "      <td>0</td>\n",
              "      <td>0</td>\n",
              "      <td>0</td>\n",
              "      <td>0</td>\n",
              "      <td>0</td>\n",
              "      <td>0</td>\n",
              "      <td>0</td>\n",
              "      <td>0</td>\n",
              "      <td>0</td>\n",
              "      <td>0</td>\n",
              "      <td>0</td>\n",
              "      <td>0</td>\n",
              "      <td>0</td>\n",
              "      <td>0</td>\n",
              "      <td>0</td>\n",
              "      <td>0</td>\n",
              "      <td>0</td>\n",
              "      <td>0</td>\n",
              "      <td>0</td>\n",
              "      <td>0</td>\n",
              "      <td>0</td>\n",
              "      <td>0</td>\n",
              "      <td>0</td>\n",
              "      <td>0</td>\n",
              "      <td>0</td>\n",
              "      <td>0</td>\n",
              "      <td>0</td>\n",
              "      <td>0</td>\n",
              "      <td>0</td>\n",
              "      <td>0</td>\n",
              "      <td>0</td>\n",
              "      <td>0</td>\n",
              "      <td>0</td>\n",
              "      <td>0</td>\n",
              "      <td>...</td>\n",
              "      <td>0</td>\n",
              "      <td>0</td>\n",
              "      <td>0</td>\n",
              "      <td>0</td>\n",
              "      <td>0</td>\n",
              "      <td>0</td>\n",
              "      <td>0</td>\n",
              "      <td>0</td>\n",
              "      <td>0</td>\n",
              "      <td>0</td>\n",
              "      <td>0</td>\n",
              "      <td>0</td>\n",
              "      <td>0</td>\n",
              "      <td>0</td>\n",
              "      <td>0</td>\n",
              "      <td>0</td>\n",
              "      <td>0</td>\n",
              "      <td>0</td>\n",
              "      <td>0</td>\n",
              "      <td>0</td>\n",
              "      <td>0</td>\n",
              "      <td>0</td>\n",
              "      <td>0</td>\n",
              "      <td>0</td>\n",
              "      <td>1</td>\n",
              "      <td>0</td>\n",
              "      <td>0</td>\n",
              "      <td>0</td>\n",
              "      <td>0</td>\n",
              "      <td>0</td>\n",
              "      <td>0</td>\n",
              "      <td>0</td>\n",
              "      <td>0</td>\n",
              "      <td>0</td>\n",
              "      <td>0</td>\n",
              "      <td>0</td>\n",
              "      <td>0</td>\n",
              "      <td>0</td>\n",
              "      <td>0</td>\n",
              "      <td>0</td>\n",
              "    </tr>\n",
              "    <tr>\n",
              "      <th>2</th>\n",
              "      <td>28</td>\n",
              "      <td>2006</td>\n",
              "      <td>1</td>\n",
              "      <td>80.0</td>\n",
              "      <td>0</td>\n",
              "      <td>0</td>\n",
              "      <td>0</td>\n",
              "      <td>0</td>\n",
              "      <td>0</td>\n",
              "      <td>0</td>\n",
              "      <td>0</td>\n",
              "      <td>0</td>\n",
              "      <td>0</td>\n",
              "      <td>0</td>\n",
              "      <td>0</td>\n",
              "      <td>0</td>\n",
              "      <td>0</td>\n",
              "      <td>0</td>\n",
              "      <td>0</td>\n",
              "      <td>0</td>\n",
              "      <td>0</td>\n",
              "      <td>0</td>\n",
              "      <td>0</td>\n",
              "      <td>0</td>\n",
              "      <td>0</td>\n",
              "      <td>0</td>\n",
              "      <td>0</td>\n",
              "      <td>0</td>\n",
              "      <td>0</td>\n",
              "      <td>0</td>\n",
              "      <td>0</td>\n",
              "      <td>0</td>\n",
              "      <td>0</td>\n",
              "      <td>0</td>\n",
              "      <td>0</td>\n",
              "      <td>0</td>\n",
              "      <td>0</td>\n",
              "      <td>0</td>\n",
              "      <td>0</td>\n",
              "      <td>0</td>\n",
              "      <td>...</td>\n",
              "      <td>0</td>\n",
              "      <td>0</td>\n",
              "      <td>0</td>\n",
              "      <td>0</td>\n",
              "      <td>0</td>\n",
              "      <td>0</td>\n",
              "      <td>0</td>\n",
              "      <td>0</td>\n",
              "      <td>0</td>\n",
              "      <td>0</td>\n",
              "      <td>0</td>\n",
              "      <td>0</td>\n",
              "      <td>0</td>\n",
              "      <td>0</td>\n",
              "      <td>0</td>\n",
              "      <td>0</td>\n",
              "      <td>0</td>\n",
              "      <td>0</td>\n",
              "      <td>0</td>\n",
              "      <td>0</td>\n",
              "      <td>0</td>\n",
              "      <td>0</td>\n",
              "      <td>0</td>\n",
              "      <td>0</td>\n",
              "      <td>1</td>\n",
              "      <td>0</td>\n",
              "      <td>0</td>\n",
              "      <td>0</td>\n",
              "      <td>0</td>\n",
              "      <td>0</td>\n",
              "      <td>0</td>\n",
              "      <td>0</td>\n",
              "      <td>0</td>\n",
              "      <td>0</td>\n",
              "      <td>0</td>\n",
              "      <td>0</td>\n",
              "      <td>0</td>\n",
              "      <td>0</td>\n",
              "      <td>0</td>\n",
              "      <td>0</td>\n",
              "    </tr>\n",
              "    <tr>\n",
              "      <th>3</th>\n",
              "      <td>28</td>\n",
              "      <td>2006</td>\n",
              "      <td>1</td>\n",
              "      <td>50.0</td>\n",
              "      <td>0</td>\n",
              "      <td>0</td>\n",
              "      <td>0</td>\n",
              "      <td>0</td>\n",
              "      <td>0</td>\n",
              "      <td>0</td>\n",
              "      <td>0</td>\n",
              "      <td>0</td>\n",
              "      <td>0</td>\n",
              "      <td>0</td>\n",
              "      <td>0</td>\n",
              "      <td>0</td>\n",
              "      <td>0</td>\n",
              "      <td>0</td>\n",
              "      <td>0</td>\n",
              "      <td>0</td>\n",
              "      <td>0</td>\n",
              "      <td>0</td>\n",
              "      <td>0</td>\n",
              "      <td>0</td>\n",
              "      <td>0</td>\n",
              "      <td>0</td>\n",
              "      <td>0</td>\n",
              "      <td>0</td>\n",
              "      <td>0</td>\n",
              "      <td>0</td>\n",
              "      <td>0</td>\n",
              "      <td>0</td>\n",
              "      <td>0</td>\n",
              "      <td>0</td>\n",
              "      <td>0</td>\n",
              "      <td>0</td>\n",
              "      <td>0</td>\n",
              "      <td>0</td>\n",
              "      <td>0</td>\n",
              "      <td>0</td>\n",
              "      <td>...</td>\n",
              "      <td>0</td>\n",
              "      <td>0</td>\n",
              "      <td>0</td>\n",
              "      <td>0</td>\n",
              "      <td>0</td>\n",
              "      <td>0</td>\n",
              "      <td>0</td>\n",
              "      <td>0</td>\n",
              "      <td>0</td>\n",
              "      <td>0</td>\n",
              "      <td>0</td>\n",
              "      <td>0</td>\n",
              "      <td>0</td>\n",
              "      <td>0</td>\n",
              "      <td>0</td>\n",
              "      <td>0</td>\n",
              "      <td>0</td>\n",
              "      <td>0</td>\n",
              "      <td>0</td>\n",
              "      <td>0</td>\n",
              "      <td>0</td>\n",
              "      <td>0</td>\n",
              "      <td>0</td>\n",
              "      <td>0</td>\n",
              "      <td>1</td>\n",
              "      <td>0</td>\n",
              "      <td>0</td>\n",
              "      <td>0</td>\n",
              "      <td>0</td>\n",
              "      <td>0</td>\n",
              "      <td>0</td>\n",
              "      <td>0</td>\n",
              "      <td>0</td>\n",
              "      <td>0</td>\n",
              "      <td>0</td>\n",
              "      <td>0</td>\n",
              "      <td>0</td>\n",
              "      <td>0</td>\n",
              "      <td>0</td>\n",
              "      <td>0</td>\n",
              "    </tr>\n",
              "    <tr>\n",
              "      <th>5</th>\n",
              "      <td>32</td>\n",
              "      <td>2006</td>\n",
              "      <td>1</td>\n",
              "      <td>53.0</td>\n",
              "      <td>0</td>\n",
              "      <td>0</td>\n",
              "      <td>0</td>\n",
              "      <td>0</td>\n",
              "      <td>0</td>\n",
              "      <td>0</td>\n",
              "      <td>0</td>\n",
              "      <td>0</td>\n",
              "      <td>0</td>\n",
              "      <td>0</td>\n",
              "      <td>0</td>\n",
              "      <td>0</td>\n",
              "      <td>0</td>\n",
              "      <td>0</td>\n",
              "      <td>0</td>\n",
              "      <td>0</td>\n",
              "      <td>0</td>\n",
              "      <td>0</td>\n",
              "      <td>0</td>\n",
              "      <td>0</td>\n",
              "      <td>0</td>\n",
              "      <td>0</td>\n",
              "      <td>0</td>\n",
              "      <td>0</td>\n",
              "      <td>0</td>\n",
              "      <td>0</td>\n",
              "      <td>0</td>\n",
              "      <td>0</td>\n",
              "      <td>0</td>\n",
              "      <td>0</td>\n",
              "      <td>0</td>\n",
              "      <td>0</td>\n",
              "      <td>0</td>\n",
              "      <td>0</td>\n",
              "      <td>0</td>\n",
              "      <td>0</td>\n",
              "      <td>...</td>\n",
              "      <td>0</td>\n",
              "      <td>0</td>\n",
              "      <td>0</td>\n",
              "      <td>0</td>\n",
              "      <td>0</td>\n",
              "      <td>0</td>\n",
              "      <td>0</td>\n",
              "      <td>0</td>\n",
              "      <td>0</td>\n",
              "      <td>0</td>\n",
              "      <td>0</td>\n",
              "      <td>0</td>\n",
              "      <td>0</td>\n",
              "      <td>0</td>\n",
              "      <td>0</td>\n",
              "      <td>0</td>\n",
              "      <td>0</td>\n",
              "      <td>0</td>\n",
              "      <td>0</td>\n",
              "      <td>0</td>\n",
              "      <td>0</td>\n",
              "      <td>0</td>\n",
              "      <td>0</td>\n",
              "      <td>0</td>\n",
              "      <td>0</td>\n",
              "      <td>0</td>\n",
              "      <td>0</td>\n",
              "      <td>0</td>\n",
              "      <td>0</td>\n",
              "      <td>0</td>\n",
              "      <td>0</td>\n",
              "      <td>0</td>\n",
              "      <td>0</td>\n",
              "      <td>0</td>\n",
              "      <td>0</td>\n",
              "      <td>0</td>\n",
              "      <td>0</td>\n",
              "      <td>0</td>\n",
              "      <td>0</td>\n",
              "      <td>0</td>\n",
              "    </tr>\n",
              "  </tbody>\n",
              "</table>\n",
              "<p>5 rows × 577 columns</p>\n",
              "</div>"
            ],
            "text/plain": [
              "   home_rank  year  month  ...  country_Yemen  country_Zambia  country_Zimbabwe\n",
              "0         28  2006      1  ...              0               0                 0\n",
              "1         28  2006      1  ...              0               0                 0\n",
              "2         28  2006      1  ...              0               0                 0\n",
              "3         28  2006      1  ...              0               0                 0\n",
              "5         32  2006      1  ...              0               0                 0\n",
              "\n",
              "[5 rows x 577 columns]"
            ]
          },
          "metadata": {
            "tags": []
          },
          "execution_count": 115
        }
      ]
    },
    {
      "cell_type": "code",
      "metadata": {
        "id": "MTkmS2oKu9iJ"
      },
      "source": [
        "#Ill then split the datset into train and test\n",
        "x_train, x_test, y_train, y_test = train_test_split(dummy,regression, test_size=0.2, random_state=123)\n"
      ],
      "execution_count": 116,
      "outputs": []
    },
    {
      "cell_type": "code",
      "metadata": {
        "colab": {
          "base_uri": "https://localhost:8080/"
        },
        "id": "APUeMIoOv9L1",
        "outputId": "70ccffac-8e5f-4f9a-f6e7-86b2cdef0b20"
      },
      "source": [
        "#Ill then initialise the model\n",
        "\n",
        "greg = LogisticRegression()\n",
        "# training the model on the training set\n",
        "greg.fit(x_train, y_train)"
      ],
      "execution_count": 117,
      "outputs": [
        {
          "output_type": "execute_result",
          "data": {
            "text/plain": [
              "LogisticRegression(C=1.0, class_weight=None, dual=False, fit_intercept=True,\n",
              "                   intercept_scaling=1, l1_ratio=None, max_iter=100,\n",
              "                   multi_class='auto', n_jobs=None, penalty='l2',\n",
              "                   random_state=None, solver='lbfgs', tol=0.0001, verbose=0,\n",
              "                   warm_start=False)"
            ]
          },
          "metadata": {
            "tags": []
          },
          "execution_count": 117
        }
      ]
    },
    {
      "cell_type": "code",
      "metadata": {
        "colab": {
          "base_uri": "https://localhost:8080/"
        },
        "id": "ubByuOCgwXKc",
        "outputId": "3c8ef442-9243-4a3b-8c13-fdcdc370d7d7"
      },
      "source": [
        "#Ill start making predictions with the model\n",
        "predict = greg.predict(x_test)\n",
        "predict\n"
      ],
      "execution_count": 118,
      "outputs": [
        {
          "output_type": "execute_result",
          "data": {
            "text/plain": [
              "array(['Win', 'Win', 'Win', ..., 'Win', 'Win', 'Win'], dtype=object)"
            ]
          },
          "metadata": {
            "tags": []
          },
          "execution_count": 118
        }
      ]
    },
    {
      "cell_type": "code",
      "metadata": {
        "colab": {
          "base_uri": "https://localhost:8080/"
        },
        "id": "GyHy0SXOxoHM",
        "outputId": "725f8c12-c5bd-4f5d-c632-e0321d2a94c6"
      },
      "source": [
        "#Evaluating the perfomance of the model\n",
        "print('Logistic Model Accuracy: {:.4f}' .format(accuracy_score(y_test, predict)))\n",
        "\n",
        "print('Confusion Matrix: \\n{}' .format(confusion_matrix(y_test, predict)))"
      ],
      "execution_count": 120,
      "outputs": [
        {
          "output_type": "stream",
          "text": [
            "Logistic Model Accuracy: 0.6064\n",
            "Confusion Matrix: \n",
            "[[  0 120 282]\n",
            " [  0 288 200]\n",
            " [  2  97 792]]\n"
          ],
          "name": "stdout"
        }
      ]
    },
    {
      "cell_type": "markdown",
      "metadata": {
        "id": "AIGqYOpdyDIq"
      },
      "source": [
        "***The accuracy of the output when using logistic Model shows a 60% accuracy***"
      ]
    },
    {
      "cell_type": "code",
      "metadata": {
        "colab": {
          "base_uri": "https://localhost:8080/"
        },
        "id": "Fv7l5Z1fxGvo",
        "outputId": "b2e8f823-f316-4924-d97f-6c12d499a9f8"
      },
      "source": [
        "#Ill then evalute the perfomance of the model\n",
        "train_accuracy = greg.score(x_train, y_train)\n",
        "test_accuracy = greg.score(x_test, y_test)\n",
        "\n",
        "print('Training set accuracy: %.4f' % train_accuracy)\n",
        "print('Test set accuracy: %.4f' % test_accuracy)"
      ],
      "execution_count": 119,
      "outputs": [
        {
          "output_type": "stream",
          "text": [
            "Training set accuracy: 0.5885\n",
            "Test set accuracy: 0.6064\n"
          ],
          "name": "stdout"
        }
      ]
    },
    {
      "cell_type": "markdown",
      "metadata": {
        "id": "l-CNzt9zybDo"
      },
      "source": [
        "***The developed logistic model has 58% accuracy on the training set and 60% accuracy on the test set.***"
      ]
    },
    {
      "cell_type": "markdown",
      "metadata": {
        "id": "R2z9oWg2ytuW"
      },
      "source": [
        "### ***Hyperparemeter Tuning***"
      ]
    },
    {
      "cell_type": "code",
      "metadata": {
        "id": "J3sep01fyyBb"
      },
      "source": [
        "#Cross Validation\n",
        "Hyper =LogisticRegression(C=1, penalty='l1', solver='liblinear')\n"
      ],
      "execution_count": 126,
      "outputs": []
    },
    {
      "cell_type": "code",
      "metadata": {
        "colab": {
          "base_uri": "https://localhost:8080/"
        },
        "id": "ZXds_u2SzcKF",
        "outputId": "b0aff201-e317-4e82-8b86-be59a78a7dc3"
      },
      "source": [
        "#Ill then fit the model\n",
        "Hyper.fit(x_train,y_train)\n"
      ],
      "execution_count": 127,
      "outputs": [
        {
          "output_type": "execute_result",
          "data": {
            "text/plain": [
              "LogisticRegression(C=1, class_weight=None, dual=False, fit_intercept=True,\n",
              "                   intercept_scaling=1, l1_ratio=None, max_iter=100,\n",
              "                   multi_class='auto', n_jobs=None, penalty='l1',\n",
              "                   random_state=None, solver='liblinear', tol=0.0001, verbose=0,\n",
              "                   warm_start=False)"
            ]
          },
          "metadata": {
            "tags": []
          },
          "execution_count": 127
        }
      ]
    },
    {
      "cell_type": "code",
      "metadata": {
        "colab": {
          "base_uri": "https://localhost:8080/"
        },
        "id": "KOJwB4js0ZLw",
        "outputId": "cf3a375f-8d18-4c87-8c40-1aa7e987774a"
      },
      "source": [
        "#Ill then get the accuracy score of the model\n",
        "Hyper.score(x_train, y_train)\n"
      ],
      "execution_count": 128,
      "outputs": [
        {
          "output_type": "execute_result",
          "data": {
            "text/plain": [
              "0.6324582338902148"
            ]
          },
          "metadata": {
            "tags": []
          },
          "execution_count": 128
        }
      ]
    },
    {
      "cell_type": "code",
      "metadata": {
        "id": "cVy4Jl7e1SG0"
      },
      "source": [
        "folds = KFold(n_splits=10, random_state=34)\n"
      ],
      "execution_count": 129,
      "outputs": []
    },
    {
      "cell_type": "code",
      "metadata": {
        "colab": {
          "base_uri": "https://localhost:8080/"
        },
        "id": "gNlT8cfW1Zz0",
        "outputId": "1502f3c7-96cc-4b5e-a13e-bffbc2ce835a"
      },
      "source": [
        "# getting the cross validation score\n",
        "from sklearn.model_selection import cross_val_score\n",
        "\n",
        "selection = cross_val_score(Hyper, dummy, regression, cv=folds, scoring='accuracy')\n",
        "print(selection.mean())"
      ],
      "execution_count": 130,
      "outputs": [
        {
          "output_type": "stream",
          "text": [
            "0.5764854537888244\n"
          ],
          "name": "stdout"
        }
      ]
    },
    {
      "cell_type": "code",
      "metadata": {
        "colab": {
          "base_uri": "https://localhost:8080/"
        },
        "id": "20rLDG_3315e",
        "outputId": "7218f2c0-57f0-4567-c7f0-31290fc53fe3"
      },
      "source": [
        "# instantiating the logistic regression model\n",
        "Grid_search= LogisticRegression()\n",
        "\n",
        "# defining the paramenters/hyperparameters\n",
        "penalty = ['l2']\n",
        "dual = [True,False]\n",
        "max_iter = [100,120,130]\n",
        "C = [1.0,2.0,2.5]\n",
        "\n",
        "# Creating hyperparameter options\n",
        "hparameters = dict( penalty=penalty, dual=dual, max_iter=max_iter, C=C)\n",
        "\n",
        "hparameters"
      ],
      "execution_count": 131,
      "outputs": [
        {
          "output_type": "execute_result",
          "data": {
            "text/plain": [
              "{'C': [1.0, 2.0, 2.5],\n",
              " 'dual': [True, False],\n",
              " 'max_iter': [100, 120, 130],\n",
              " 'penalty': ['l2']}"
            ]
          },
          "metadata": {
            "tags": []
          },
          "execution_count": 131
        }
      ]
    },
    {
      "cell_type": "markdown",
      "metadata": {
        "id": "Robpeho32I87"
      },
      "source": [
        "***Hypertuning Conclusion***\n",
        "\n",
        "Upon doing the tests,the cross validator score was 58%."
      ]
    },
    {
      "cell_type": "markdown",
      "metadata": {
        "id": "4uxJkx7x4sgW"
      },
      "source": [
        "### ***Quantile Regression***"
      ]
    },
    {
      "cell_type": "code",
      "metadata": {
        "colab": {
          "base_uri": "https://localhost:8080/",
          "height": 224
        },
        "id": "bNl23Ewj4wua",
        "outputId": "255fff95-69db-41ca-a31d-d43cca2235ba"
      },
      "source": [
        "tired_of_Nans.head()"
      ],
      "execution_count": 134,
      "outputs": [
        {
          "output_type": "execute_result",
          "data": {
            "text/html": [
              "<div>\n",
              "<style scoped>\n",
              "    .dataframe tbody tr th:only-of-type {\n",
              "        vertical-align: middle;\n",
              "    }\n",
              "\n",
              "    .dataframe tbody tr th {\n",
              "        vertical-align: top;\n",
              "    }\n",
              "\n",
              "    .dataframe thead th {\n",
              "        text-align: right;\n",
              "    }\n",
              "</style>\n",
              "<table border=\"1\" class=\"dataframe\">\n",
              "  <thead>\n",
              "    <tr style=\"text-align: right;\">\n",
              "      <th></th>\n",
              "      <th>home_rank</th>\n",
              "      <th>year</th>\n",
              "      <th>month</th>\n",
              "      <th>home_team</th>\n",
              "      <th>away_team</th>\n",
              "      <th>home_score</th>\n",
              "      <th>away_score</th>\n",
              "      <th>tournament</th>\n",
              "      <th>country</th>\n",
              "      <th>outcome</th>\n",
              "      <th>away_rank</th>\n",
              "    </tr>\n",
              "  </thead>\n",
              "  <tbody>\n",
              "    <tr>\n",
              "      <th>0</th>\n",
              "      <td>28</td>\n",
              "      <td>2006</td>\n",
              "      <td>1</td>\n",
              "      <td>Tunisia</td>\n",
              "      <td>Libya</td>\n",
              "      <td>1</td>\n",
              "      <td>0</td>\n",
              "      <td>Friendly</td>\n",
              "      <td>Tunisia</td>\n",
              "      <td>Win</td>\n",
              "      <td>80.0</td>\n",
              "    </tr>\n",
              "    <tr>\n",
              "      <th>1</th>\n",
              "      <td>28</td>\n",
              "      <td>2006</td>\n",
              "      <td>1</td>\n",
              "      <td>Tunisia</td>\n",
              "      <td>Libya</td>\n",
              "      <td>1</td>\n",
              "      <td>0</td>\n",
              "      <td>Friendly</td>\n",
              "      <td>Tunisia</td>\n",
              "      <td>Win</td>\n",
              "      <td>80.0</td>\n",
              "    </tr>\n",
              "    <tr>\n",
              "      <th>2</th>\n",
              "      <td>28</td>\n",
              "      <td>2006</td>\n",
              "      <td>1</td>\n",
              "      <td>Tunisia</td>\n",
              "      <td>Libya</td>\n",
              "      <td>1</td>\n",
              "      <td>0</td>\n",
              "      <td>Friendly</td>\n",
              "      <td>Tunisia</td>\n",
              "      <td>Win</td>\n",
              "      <td>80.0</td>\n",
              "    </tr>\n",
              "    <tr>\n",
              "      <th>3</th>\n",
              "      <td>28</td>\n",
              "      <td>2006</td>\n",
              "      <td>1</td>\n",
              "      <td>Tunisia</td>\n",
              "      <td>Ghana</td>\n",
              "      <td>2</td>\n",
              "      <td>0</td>\n",
              "      <td>Friendly</td>\n",
              "      <td>Tunisia</td>\n",
              "      <td>Win</td>\n",
              "      <td>50.0</td>\n",
              "    </tr>\n",
              "    <tr>\n",
              "      <th>5</th>\n",
              "      <td>32</td>\n",
              "      <td>2006</td>\n",
              "      <td>1</td>\n",
              "      <td>Egypt</td>\n",
              "      <td>Zimbabwe</td>\n",
              "      <td>2</td>\n",
              "      <td>0</td>\n",
              "      <td>Friendly</td>\n",
              "      <td>Egypt</td>\n",
              "      <td>Win</td>\n",
              "      <td>53.0</td>\n",
              "    </tr>\n",
              "  </tbody>\n",
              "</table>\n",
              "</div>"
            ],
            "text/plain": [
              "   home_rank  year  month home_team  ... tournament  country  outcome away_rank\n",
              "0         28  2006      1   Tunisia  ...   Friendly  Tunisia      Win      80.0\n",
              "1         28  2006      1   Tunisia  ...   Friendly  Tunisia      Win      80.0\n",
              "2         28  2006      1   Tunisia  ...   Friendly  Tunisia      Win      80.0\n",
              "3         28  2006      1   Tunisia  ...   Friendly  Tunisia      Win      50.0\n",
              "5         32  2006      1     Egypt  ...   Friendly    Egypt      Win      53.0\n",
              "\n",
              "[5 rows x 11 columns]"
            ]
          },
          "metadata": {
            "tags": []
          },
          "execution_count": 134
        }
      ]
    },
    {
      "cell_type": "code",
      "metadata": {
        "colab": {
          "base_uri": "https://localhost:8080/",
          "height": 905
        },
        "id": "3j5i9SXI5THi",
        "outputId": "37a51c09-95c2-4790-e4e5-3d041c01fe36"
      },
      "source": [
        "sns.pairplot(tired_of_Nans, dropna=True)\n",
        "#Ill then visualize a pairplot to help in picking the variables suitable for quantile regression\n",
        "\n"
      ],
      "execution_count": 135,
      "outputs": [
        {
          "output_type": "execute_result",
          "data": {
            "text/plain": [
              "<seaborn.axisgrid.PairGrid at 0x7f08ec299710>"
            ]
          },
          "metadata": {
            "tags": []
          },
          "execution_count": 135
        },
        {
          "output_type": "display_data",
          "data": {
            "image/png": "[encoded data removed]",
            "text/plain": [
              "<Figure size 1080x1080 with 42 Axes>"
            ]
          },
          "metadata": {
            "tags": [],
            "needs_background": "light"
          }
        }
      ]
    },
    {
      "cell_type": "code",
      "metadata": {
        "colab": {
          "base_uri": "https://localhost:8080/"
        },
        "id": "ozE3Tyu35_8H",
        "outputId": "547982bf-dc58-4a95-e1a1-f112d43a08e5"
      },
      "source": [
        "# Ill then use home rank and home_score columns as they are both skewed to the right\n",
        "c = smf.quantreg('home_score ~ home_rank', tired_of_Nans)\n",
        "d = c.fit(q=.5)\n",
        "print(d.summary())"
      ],
      "execution_count": 137,
      "outputs": [
        {
          "output_type": "stream",
          "text": [
            "                         QuantReg Regression Results                          \n",
            "==============================================================================\n",
            "Dep. Variable:             home_score   Pseudo R-squared:           -1.222e-07\n",
            "Model:                       QuantReg   Bandwidth:                      0.3515\n",
            "Method:                 Least Squares   Sparsity:                        1.547\n",
            "Date:                Sat, 17 Jul 2021   No. Observations:                 8904\n",
            "Time:                        14:39:54   Df Residuals:                     8902\n",
            "                                        Df Model:                            1\n",
            "==============================================================================\n",
            "                 coef    std err          t      P>|t|      [0.025      0.975]\n",
            "------------------------------------------------------------------------------\n",
            "Intercept      1.0000      0.015     65.194      0.000       0.970       1.030\n",
            "home_rank  -3.477e-07      0.000     -0.002      0.998      -0.000       0.000\n",
            "==============================================================================\n"
          ],
          "name": "stdout"
        }
      ]
    },
    {
      "cell_type": "markdown",
      "metadata": {
        "id": "kFXDqMPW6b4U"
      },
      "source": [
        "# ***Conclusion***\n",
        " Predicting whether home team wins, loses or draws in a match:\n",
        " \n",
        " 1.The best accuracy score using two hyperparameters is 58%. I would recommend more hyperparameters should be tuned.\n",
        " \n",
        "\n",
        " We may also improve our accuracy by using more data for training\n",
        "\n"
      ]
    }
  ]
}